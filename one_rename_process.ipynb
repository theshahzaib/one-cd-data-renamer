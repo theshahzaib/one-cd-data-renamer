{
 "cells": [
  {
   "cell_type": "code",
   "execution_count": 26,
   "metadata": {},
   "outputs": [
    {
     "name": "stdout",
     "output_type": "stream",
     "text": [
      "ok\n"
     ]
    }
   ],
   "source": [
    "import os\n",
    "import shutil\n",
    "\n",
    "\n",
    "os.makedirs(\"train\\A\", exist_ok=True)\n",
    "os.makedirs(\"train\\B\", exist_ok=True)\n",
    "os.makedirs(\"train\\mask\", exist_ok=True)\n",
    "\n",
    "\n",
    "print('ok')"
   ]
  },
  {
   "cell_type": "code",
   "execution_count": 27,
   "metadata": {},
   "outputs": [],
   "source": [
    "def replace_dots_in_file_name(folder_path):\n",
    "    for filename in os.listdir(folder_path):\n",
    "        # Get the full file path\n",
    "        filepath = os.path.join(folder_path, filename)\n",
    "\n",
    "        # Check if it is a file (not a directory)\n",
    "        if os.path.isfile(filepath):\n",
    "            # Split the file name and extension\n",
    "            root, ext = os.path.splitext(filename)\n",
    "\n",
    "            # Replace dots in the root part of the file name\n",
    "            new_root = root.replace('.', '_')\n",
    "\n",
    "            # Combine the new root and the original extension\n",
    "            new_filename = new_root + ext\n",
    "\n",
    "            # Construct the new file path\n",
    "            new_filepath = os.path.join(folder_path, new_filename)\n",
    "\n",
    "            # Rename the file\n",
    "            os.rename(filepath, new_filepath)\n",
    "\n",
    "# Example usage\n",
    "folder_path = 'train'\n",
    "replace_dots_in_file_name(folder_path)\n"
   ]
  },
  {
   "cell_type": "code",
   "execution_count": 28,
   "metadata": {},
   "outputs": [
    {
     "name": "stdout",
     "output_type": "stream",
     "text": [
      "All JPG files copied successfully!\n"
     ]
    }
   ],
   "source": [
    "source_dir = os.getcwd()+'/train'\n",
    "# print(source_dir)  # Get the current working directory\n",
    "destination_dir = \"train/A\"  # Replace with your desired destination directory\n",
    "\n",
    "# Create the destination directory if it doesn't exist\n",
    "os.makedirs(destination_dir, exist_ok=True)\n",
    "\n",
    "try:\n",
    "    for filename in os.listdir(source_dir):\n",
    "        if filename.endswith(\".jpg\"):\n",
    "            src_file = os.path.join(source_dir, filename)\n",
    "            dest_file = os.path.join(destination_dir, filename)\n",
    "            shutil.copy(src_file, dest_file)\n",
    "\n",
    "    print(\"All JPG files copied successfully!\")\n",
    "\n",
    "except shutil.Error as e:\n",
    "    print(f\"Error occurred: {e}\")"
   ]
  },
  {
   "cell_type": "code",
   "execution_count": 29,
   "metadata": {},
   "outputs": [
    {
     "name": "stdout",
     "output_type": "stream",
     "text": [
      "All JPG files copied successfully!\n"
     ]
    }
   ],
   "source": [
    "source_dir = os.getcwd()+'/train'\n",
    "# print(source_dir)  # Get the current working directory\n",
    "destination_dir = \"train/B\"  # Replace with your desired destination directory\n",
    "\n",
    "# Create the destination directory if it doesn't exist\n",
    "os.makedirs(destination_dir, exist_ok=True)\n",
    "\n",
    "try:\n",
    "    for filename in os.listdir(source_dir):\n",
    "        if filename.endswith(\".jpg\"):\n",
    "            src_file = os.path.join(source_dir, filename)\n",
    "            dest_file = os.path.join(destination_dir, filename)\n",
    "            shutil.copy(src_file, dest_file)\n",
    "\n",
    "    print(\"All JPG files copied successfully!\")\n",
    "\n",
    "except shutil.Error as e:\n",
    "    print(f\"Error occurred: {e}\")"
   ]
  },
  {
   "cell_type": "code",
   "execution_count": 30,
   "metadata": {},
   "outputs": [
    {
     "name": "stdout",
     "output_type": "stream",
     "text": [
      "All PNG Masks copied successfully!\n"
     ]
    }
   ],
   "source": [
    "source_dir = os.getcwd()+'/train'\n",
    "# print(source_dir)  # Get the current working directory\n",
    "destination_dir = \"train/mask/A\"  # Replace with your desired destination directory\n",
    "\n",
    "# Create the destination directory if it doesn't exist\n",
    "os.makedirs(destination_dir, exist_ok=True)\n",
    "\n",
    "try:\n",
    "    for filename in os.listdir(source_dir):\n",
    "        if filename.endswith(\".png\"):\n",
    "            src_file = os.path.join(source_dir, filename)\n",
    "            dest_file = os.path.join(destination_dir, filename)\n",
    "            shutil.copy(src_file, dest_file)\n",
    "\n",
    "    print(\"All PNG Masks copied successfully!\")\n",
    "\n",
    "except shutil.Error as e:\n",
    "    print(f\"Error occurred: {e}\")"
   ]
  },
  {
   "cell_type": "code",
   "execution_count": 31,
   "metadata": {},
   "outputs": [
    {
     "name": "stdout",
     "output_type": "stream",
     "text": [
      "All PNG Masks copied successfully!\n"
     ]
    }
   ],
   "source": [
    "source_dir = os.getcwd()+'/train'\n",
    "# print(source_dir)  # Get the current working directory\n",
    "destination_dir = \"train/mask/B\"  # Replace with your desired destination directory\n",
    "\n",
    "# Create the destination directory if it doesn't exist\n",
    "os.makedirs(destination_dir, exist_ok=True)\n",
    "\n",
    "try:\n",
    "    for filename in os.listdir(source_dir):\n",
    "        if filename.endswith(\".png\"):\n",
    "            src_file = os.path.join(source_dir, filename)\n",
    "            dest_file = os.path.join(destination_dir, filename)\n",
    "            shutil.copy(src_file, dest_file)\n",
    "\n",
    "    print(\"All PNG Masks copied successfully!\")\n",
    "\n",
    "except shutil.Error as e:\n",
    "    print(f\"Error occurred: {e}\")"
   ]
  },
  {
   "cell_type": "markdown",
   "metadata": {},
   "source": [
    "## Delete Last file in folder A"
   ]
  },
  {
   "cell_type": "code",
   "execution_count": 32,
   "metadata": {},
   "outputs": [
    {
     "name": "stdout",
     "output_type": "stream",
     "text": [
      "Deleted last file: train\\A\\bahria-town-2206_jpg_rf_c8c33757d722e5342a8c127af59d73f2.jpg\n"
     ]
    }
   ],
   "source": [
    "def delete_last_file(folder_path):\n",
    "    # Get a list of all files in the folder\n",
    "    files = os.listdir(folder_path)\n",
    "\n",
    "    # Check if there are any files in the folder\n",
    "    if files:\n",
    "        # Construct the full path of the last file\n",
    "        last_file_path = os.path.join(folder_path, files[-1])\n",
    "\n",
    "        # Delete the last file\n",
    "        os.remove(last_file_path)\n",
    "        print(f'Deleted last file: {last_file_path}')\n",
    "    else:\n",
    "        print('Folder is empty, no files to delete.')\n",
    "\n",
    "# Example usage\n",
    "folder_path = 'train\\A'\n",
    "delete_last_file(folder_path)\n"
   ]
  },
  {
   "cell_type": "markdown",
   "metadata": {},
   "source": [
    "### Delete First file from folder"
   ]
  },
  {
   "cell_type": "code",
   "execution_count": 33,
   "metadata": {},
   "outputs": [
    {
     "name": "stdout",
     "output_type": "stream",
     "text": [
      "Deleted first file: train\\B\\bahria-town-1109_jpg_rf_19d1aa528a6428799a0883643c0a599e.jpg\n"
     ]
    }
   ],
   "source": [
    "def delete_first_file(folder_path):\n",
    "    # Get a list of all files in the folder\n",
    "    files = os.listdir(folder_path)\n",
    "\n",
    "    # Check if there are any files in the folder\n",
    "    if files:\n",
    "        # Construct the full path of the first file\n",
    "        first_file_path = os.path.join(folder_path, files[0])\n",
    "\n",
    "        # Delete the first file\n",
    "        os.remove(first_file_path)\n",
    "        print(f'Deleted first file: {first_file_path}')\n",
    "    else:\n",
    "        print('Folder is empty, no files to delete.')\n",
    "\n",
    "# Example usage\n",
    "folder_path = 'train\\B'\n",
    "delete_first_file(folder_path)\n"
   ]
  },
  {
   "cell_type": "markdown",
   "metadata": {},
   "source": [
    "## Replacing B names with A"
   ]
  },
  {
   "cell_type": "code",
   "execution_count": 34,
   "metadata": {},
   "outputs": [
    {
     "name": "stdout",
     "output_type": "stream",
     "text": [
      "Replaced: train\\B\\bahria-town-1509_jpg_rf_e2ae13b2dd934163d4abfeea8d9456e9.jpg -> train\\B\\bahria-town-1109_jpg_rf_19d1aa528a6428799a0883643c0a599e.jpg\n",
      "Replaced: train\\B\\bahria-town-1602_jpg_rf_15972460fc3d1d995b180b89dd0b8f0b.jpg -> train\\B\\bahria-town-1509_jpg_rf_e2ae13b2dd934163d4abfeea8d9456e9.jpg\n",
      "Replaced: train\\B\\bahria-town-1902_jpg_rf_93ee16882333a730cc6a8ef8b4edad97.jpg -> train\\B\\bahria-town-1602_jpg_rf_15972460fc3d1d995b180b89dd0b8f0b.jpg\n",
      "Replaced: train\\B\\bahria-town-2107_jpg_rf_700de3ec2c905fd50a71f9d0e993fd05.jpg -> train\\B\\bahria-town-1902_jpg_rf_93ee16882333a730cc6a8ef8b4edad97.jpg\n",
      "Replaced: train\\B\\bahria-town-2108_jpg_rf_809e155d7fa258cf9694bd4de9ab3b40.jpg -> train\\B\\bahria-town-2107_jpg_rf_700de3ec2c905fd50a71f9d0e993fd05.jpg\n",
      "Replaced: train\\B\\bahria-town-2111_jpg_rf_2afb0578be3e59252fda60cb89167587.jpg -> train\\B\\bahria-town-2108_jpg_rf_809e155d7fa258cf9694bd4de9ab3b40.jpg\n",
      "Replaced: train\\B\\bahria-town-2112_jpg_rf_e7202369ce7c7dcc93b7cbf39c2fe025.jpg -> train\\B\\bahria-town-2111_jpg_rf_2afb0578be3e59252fda60cb89167587.jpg\n",
      "Replaced: train\\B\\bahria-town-2205_jpg_rf_4aa4fc6e456d8433aa42c1b0b5f7da5f.jpg -> train\\B\\bahria-town-2112_jpg_rf_e7202369ce7c7dcc93b7cbf39c2fe025.jpg\n",
      "Replaced: train\\B\\bahria-town-2206_jpg_rf_c8c33757d722e5342a8c127af59d73f2.jpg -> train\\B\\bahria-town-2205_jpg_rf_4aa4fc6e456d8433aa42c1b0b5f7da5f.jpg\n"
     ]
    }
   ],
   "source": [
    "import os\n",
    "\n",
    "def replace_file_names(folder_a, folder_b):\n",
    "    # Get lists of files in both folders\n",
    "    files_a = os.listdir(folder_a)\n",
    "    files_b = os.listdir(folder_b)\n",
    "\n",
    "    # Check if the number of files in both folders is the same\n",
    "    if len(files_a) != len(files_b):\n",
    "        print(\"Error: The number of files in the two folders is not the same.\")\n",
    "        return\n",
    "\n",
    "    # Rename files in folder B to match files in folder A\n",
    "    for file_a, file_b in zip(files_a, files_b):\n",
    "        path_a = os.path.join(folder_a, file_a)\n",
    "        path_b = os.path.join(folder_b, file_b)\n",
    "\n",
    "        # Replace file name in folder B\n",
    "        os.rename(path_b, os.path.join(folder_b, file_a))\n",
    "\n",
    "        print(f'Replaced: {path_b} -> {os.path.join(folder_b, file_a)}')\n",
    "\n",
    "# Example usage\n",
    "folder_a = 'train\\A'\n",
    "folder_b = 'train\\B'\n",
    "\n",
    "replace_file_names(folder_a, folder_b)\n"
   ]
  },
  {
   "cell_type": "code",
   "execution_count": 35,
   "metadata": {},
   "outputs": [],
   "source": [
    "def add_postfix_to_files(folder_path, postfix):\n",
    "    for filename in os.listdir(folder_path):\n",
    "        # Get the full file path\n",
    "        filepath = os.path.join(folder_path, filename)\n",
    "\n",
    "        # Check if it is a file (not a directory)\n",
    "        if os.path.isfile(filepath):\n",
    "            # Split the file name and extension\n",
    "            root, ext = os.path.splitext(filename)\n",
    "\n",
    "            # Add the postfix to the root part of the file name\n",
    "            new_root = root + postfix\n",
    "\n",
    "            # Combine the new root and the original extension\n",
    "            new_filename = new_root + ext\n",
    "\n",
    "            # Construct the new file path\n",
    "            new_filepath = os.path.join(folder_path, new_filename)\n",
    "\n",
    "            # Rename the file\n",
    "            os.rename(filepath, new_filepath)\n",
    "\n",
    "# Example usage\n",
    "folder_path = 'train\\A'\n",
    "postfix = '_pre'\n",
    "add_postfix_to_files(folder_path, postfix)\n"
   ]
  },
  {
   "cell_type": "code",
   "execution_count": 36,
   "metadata": {},
   "outputs": [],
   "source": [
    "def add_postfix_to_files(folder_path, postfix):\n",
    "    for filename in os.listdir(folder_path):\n",
    "        # Get the full file path\n",
    "        filepath = os.path.join(folder_path, filename)\n",
    "\n",
    "        # Check if it is a file (not a directory)\n",
    "        if os.path.isfile(filepath):\n",
    "            # Split the file name and extension\n",
    "            root, ext = os.path.splitext(filename)\n",
    "\n",
    "            # Add the postfix to the root part of the file name\n",
    "            new_root = root + postfix\n",
    "\n",
    "            # Combine the new root and the original extension\n",
    "            new_filename = new_root + ext\n",
    "\n",
    "            # Construct the new file path\n",
    "            new_filepath = os.path.join(folder_path, new_filename)\n",
    "\n",
    "            # Rename the file\n",
    "            os.rename(filepath, new_filepath)\n",
    "\n",
    "# Example usage\n",
    "folder_path = 'train\\B'\n",
    "postfix = '_post'\n",
    "add_postfix_to_files(folder_path, postfix)\n"
   ]
  },
  {
   "cell_type": "markdown",
   "metadata": {},
   "source": [
    "## Mask renaming"
   ]
  },
  {
   "cell_type": "code",
   "execution_count": 37,
   "metadata": {},
   "outputs": [
    {
     "name": "stdout",
     "output_type": "stream",
     "text": [
      "Deleted last file: train\\mask\\A\\bahria-town-2206_jpg_rf_c8c33757d722e5342a8c127af59d73f2_mask.png\n"
     ]
    }
   ],
   "source": [
    "def delete_last_file(folder_path):\n",
    "    # Get a list of all files in the folder\n",
    "    files = os.listdir(folder_path)\n",
    "\n",
    "    # Check if there are any files in the folder\n",
    "    if files:\n",
    "        # Construct the full path of the last file\n",
    "        last_file_path = os.path.join(folder_path, files[-1])\n",
    "\n",
    "        # Delete the last file\n",
    "        os.remove(last_file_path)\n",
    "        print(f'Deleted last file: {last_file_path}')\n",
    "    else:\n",
    "        print('Folder is empty, no files to delete.')\n",
    "\n",
    "# Example usage\n",
    "folder_path = 'train\\mask\\A'\n",
    "delete_last_file(folder_path)\n"
   ]
  },
  {
   "cell_type": "code",
   "execution_count": 38,
   "metadata": {},
   "outputs": [
    {
     "name": "stdout",
     "output_type": "stream",
     "text": [
      "Deleted first file: train\\mask\\B\\bahria-town-1109_jpg_rf_19d1aa528a6428799a0883643c0a599e_mask.png\n"
     ]
    }
   ],
   "source": [
    "def delete_first_file(folder_path):\n",
    "    # Get a list of all files in the folder\n",
    "    files = os.listdir(folder_path)\n",
    "\n",
    "    # Check if there are any files in the folder\n",
    "    if files:\n",
    "        # Construct the full path of the first file\n",
    "        first_file_path = os.path.join(folder_path, files[0])\n",
    "\n",
    "        # Delete the first file\n",
    "        os.remove(first_file_path)\n",
    "        print(f'Deleted first file: {first_file_path}')\n",
    "    else:\n",
    "        print('Folder is empty, no files to delete.')\n",
    "\n",
    "# Example usage\n",
    "folder_path = 'train\\mask\\B'\n",
    "delete_first_file(folder_path)\n"
   ]
  },
  {
   "cell_type": "code",
   "execution_count": 39,
   "metadata": {},
   "outputs": [
    {
     "name": "stdout",
     "output_type": "stream",
     "text": [
      "Replaced: train\\mask\\B\\bahria-town-1509_jpg_rf_e2ae13b2dd934163d4abfeea8d9456e9_mask.png -> train\\mask\\B\\bahria-town-1109_jpg_rf_19d1aa528a6428799a0883643c0a599e_mask.png\n",
      "Replaced: train\\mask\\B\\bahria-town-1602_jpg_rf_15972460fc3d1d995b180b89dd0b8f0b_mask.png -> train\\mask\\B\\bahria-town-1509_jpg_rf_e2ae13b2dd934163d4abfeea8d9456e9_mask.png\n",
      "Replaced: train\\mask\\B\\bahria-town-1902_jpg_rf_93ee16882333a730cc6a8ef8b4edad97_mask.png -> train\\mask\\B\\bahria-town-1602_jpg_rf_15972460fc3d1d995b180b89dd0b8f0b_mask.png\n",
      "Replaced: train\\mask\\B\\bahria-town-2107_jpg_rf_700de3ec2c905fd50a71f9d0e993fd05_mask.png -> train\\mask\\B\\bahria-town-1902_jpg_rf_93ee16882333a730cc6a8ef8b4edad97_mask.png\n",
      "Replaced: train\\mask\\B\\bahria-town-2108_jpg_rf_809e155d7fa258cf9694bd4de9ab3b40_mask.png -> train\\mask\\B\\bahria-town-2107_jpg_rf_700de3ec2c905fd50a71f9d0e993fd05_mask.png\n",
      "Replaced: train\\mask\\B\\bahria-town-2111_jpg_rf_2afb0578be3e59252fda60cb89167587_mask.png -> train\\mask\\B\\bahria-town-2108_jpg_rf_809e155d7fa258cf9694bd4de9ab3b40_mask.png\n",
      "Replaced: train\\mask\\B\\bahria-town-2112_jpg_rf_e7202369ce7c7dcc93b7cbf39c2fe025_mask.png -> train\\mask\\B\\bahria-town-2111_jpg_rf_2afb0578be3e59252fda60cb89167587_mask.png\n",
      "Replaced: train\\mask\\B\\bahria-town-2205_jpg_rf_4aa4fc6e456d8433aa42c1b0b5f7da5f_mask.png -> train\\mask\\B\\bahria-town-2112_jpg_rf_e7202369ce7c7dcc93b7cbf39c2fe025_mask.png\n",
      "Replaced: train\\mask\\B\\bahria-town-2206_jpg_rf_c8c33757d722e5342a8c127af59d73f2_mask.png -> train\\mask\\B\\bahria-town-2205_jpg_rf_4aa4fc6e456d8433aa42c1b0b5f7da5f_mask.png\n"
     ]
    }
   ],
   "source": [
    "import os\n",
    "\n",
    "def replace_file_names(folder_a, folder_b):\n",
    "    # Get lists of files in both folders\n",
    "    files_a = os.listdir(folder_a)\n",
    "    files_b = os.listdir(folder_b)\n",
    "\n",
    "    # Check if the number of files in both folders is the same\n",
    "    if len(files_a) != len(files_b):\n",
    "        print(\"Error: The number of files in the two folders is not the same.\")\n",
    "        return\n",
    "\n",
    "    # Rename files in folder B to match files in folder A\n",
    "    for file_a, file_b in zip(files_a, files_b):\n",
    "        path_a = os.path.join(folder_a, file_a)\n",
    "        path_b = os.path.join(folder_b, file_b)\n",
    "\n",
    "        # Replace file name in folder B\n",
    "        os.rename(path_b, os.path.join(folder_b, file_a))\n",
    "\n",
    "        print(f'Replaced: {path_b} -> {os.path.join(folder_b, file_a)}')\n",
    "\n",
    "# Example usage\n",
    "folder_a = 'train\\mask\\A'\n",
    "folder_b = 'train\\mask\\B'\n",
    "\n",
    "replace_file_names(folder_a, folder_b)\n"
   ]
  },
  {
   "cell_type": "code",
   "execution_count": 40,
   "metadata": {},
   "outputs": [
    {
     "name": "stdout",
     "output_type": "stream",
     "text": [
      "Renamed: train\\mask\\A\\bahria-town-1109_jpg_rf_19d1aa528a6428799a0883643c0a599e_mask.png -> train\\mask\\A\\bahria-town-1109_jpg_rf_19d1aa528a6428799a0883643c0a599e_pre.png\n",
      "Renamed: train\\mask\\A\\bahria-town-1509_jpg_rf_e2ae13b2dd934163d4abfeea8d9456e9_mask.png -> train\\mask\\A\\bahria-town-1509_jpg_rf_e2ae13b2dd934163d4abfeea8d9456e9_pre.png\n",
      "Renamed: train\\mask\\A\\bahria-town-1602_jpg_rf_15972460fc3d1d995b180b89dd0b8f0b_mask.png -> train\\mask\\A\\bahria-town-1602_jpg_rf_15972460fc3d1d995b180b89dd0b8f0b_pre.png\n",
      "Renamed: train\\mask\\A\\bahria-town-1902_jpg_rf_93ee16882333a730cc6a8ef8b4edad97_mask.png -> train\\mask\\A\\bahria-town-1902_jpg_rf_93ee16882333a730cc6a8ef8b4edad97_pre.png\n",
      "Renamed: train\\mask\\A\\bahria-town-2107_jpg_rf_700de3ec2c905fd50a71f9d0e993fd05_mask.png -> train\\mask\\A\\bahria-town-2107_jpg_rf_700de3ec2c905fd50a71f9d0e993fd05_pre.png\n",
      "Renamed: train\\mask\\A\\bahria-town-2108_jpg_rf_809e155d7fa258cf9694bd4de9ab3b40_mask.png -> train\\mask\\A\\bahria-town-2108_jpg_rf_809e155d7fa258cf9694bd4de9ab3b40_pre.png\n",
      "Renamed: train\\mask\\A\\bahria-town-2111_jpg_rf_2afb0578be3e59252fda60cb89167587_mask.png -> train\\mask\\A\\bahria-town-2111_jpg_rf_2afb0578be3e59252fda60cb89167587_pre.png\n",
      "Renamed: train\\mask\\A\\bahria-town-2112_jpg_rf_e7202369ce7c7dcc93b7cbf39c2fe025_mask.png -> train\\mask\\A\\bahria-town-2112_jpg_rf_e7202369ce7c7dcc93b7cbf39c2fe025_pre.png\n",
      "Renamed: train\\mask\\A\\bahria-town-2205_jpg_rf_4aa4fc6e456d8433aa42c1b0b5f7da5f_mask.png -> train\\mask\\A\\bahria-town-2205_jpg_rf_4aa4fc6e456d8433aa42c1b0b5f7da5f_pre.png\n"
     ]
    }
   ],
   "source": [
    "import os\n",
    "\n",
    "def replace_string_in_filenames(folder_path, old_string, new_string):\n",
    "    for filename in os.listdir(folder_path):\n",
    "        # Get the full file path\n",
    "        filepath = os.path.join(folder_path, filename)\n",
    "\n",
    "        # Check if it is a file (not a directory)\n",
    "        if os.path.isfile(filepath):\n",
    "            # Replace the specified string in the file name\n",
    "            new_filename = filename.replace(old_string, new_string)\n",
    "\n",
    "            # Construct the new file path\n",
    "            new_filepath = os.path.join(folder_path, new_filename)\n",
    "\n",
    "            # Rename the file\n",
    "            os.rename(filepath, new_filepath)\n",
    "            print(f'Renamed: {filepath} -> {new_filepath}')\n",
    "\n",
    "# Example usage\n",
    "folder_path = 'train\\mask\\A'\n",
    "old_string = 'mask'\n",
    "new_string = 'pre'\n",
    "\n",
    "replace_string_in_filenames(folder_path, old_string, new_string)\n"
   ]
  },
  {
   "cell_type": "code",
   "execution_count": 41,
   "metadata": {},
   "outputs": [
    {
     "name": "stdout",
     "output_type": "stream",
     "text": [
      "Renamed: train\\mask\\B\\bahria-town-1109_jpg_rf_19d1aa528a6428799a0883643c0a599e_mask.png -> train\\mask\\B\\bahria-town-1109_jpg_rf_19d1aa528a6428799a0883643c0a599e_post.png\n",
      "Renamed: train\\mask\\B\\bahria-town-1509_jpg_rf_e2ae13b2dd934163d4abfeea8d9456e9_mask.png -> train\\mask\\B\\bahria-town-1509_jpg_rf_e2ae13b2dd934163d4abfeea8d9456e9_post.png\n",
      "Renamed: train\\mask\\B\\bahria-town-1602_jpg_rf_15972460fc3d1d995b180b89dd0b8f0b_mask.png -> train\\mask\\B\\bahria-town-1602_jpg_rf_15972460fc3d1d995b180b89dd0b8f0b_post.png\n",
      "Renamed: train\\mask\\B\\bahria-town-1902_jpg_rf_93ee16882333a730cc6a8ef8b4edad97_mask.png -> train\\mask\\B\\bahria-town-1902_jpg_rf_93ee16882333a730cc6a8ef8b4edad97_post.png\n",
      "Renamed: train\\mask\\B\\bahria-town-2107_jpg_rf_700de3ec2c905fd50a71f9d0e993fd05_mask.png -> train\\mask\\B\\bahria-town-2107_jpg_rf_700de3ec2c905fd50a71f9d0e993fd05_post.png\n",
      "Renamed: train\\mask\\B\\bahria-town-2108_jpg_rf_809e155d7fa258cf9694bd4de9ab3b40_mask.png -> train\\mask\\B\\bahria-town-2108_jpg_rf_809e155d7fa258cf9694bd4de9ab3b40_post.png\n",
      "Renamed: train\\mask\\B\\bahria-town-2111_jpg_rf_2afb0578be3e59252fda60cb89167587_mask.png -> train\\mask\\B\\bahria-town-2111_jpg_rf_2afb0578be3e59252fda60cb89167587_post.png\n",
      "Renamed: train\\mask\\B\\bahria-town-2112_jpg_rf_e7202369ce7c7dcc93b7cbf39c2fe025_mask.png -> train\\mask\\B\\bahria-town-2112_jpg_rf_e7202369ce7c7dcc93b7cbf39c2fe025_post.png\n",
      "Renamed: train\\mask\\B\\bahria-town-2205_jpg_rf_4aa4fc6e456d8433aa42c1b0b5f7da5f_mask.png -> train\\mask\\B\\bahria-town-2205_jpg_rf_4aa4fc6e456d8433aa42c1b0b5f7da5f_post.png\n"
     ]
    }
   ],
   "source": [
    "import os\n",
    "\n",
    "def replace_string_in_filenames(folder_path, old_string, new_string):\n",
    "    for filename in os.listdir(folder_path):\n",
    "        # Get the full file path\n",
    "        filepath = os.path.join(folder_path, filename)\n",
    "\n",
    "        # Check if it is a file (not a directory)\n",
    "        if os.path.isfile(filepath):\n",
    "            # Replace the specified string in the file name\n",
    "            new_filename = filename.replace(old_string, new_string)\n",
    "\n",
    "            # Construct the new file path\n",
    "            new_filepath = os.path.join(folder_path, new_filename)\n",
    "\n",
    "            # Rename the file\n",
    "            os.rename(filepath, new_filepath)\n",
    "            print(f'Renamed: {filepath} -> {new_filepath}')\n",
    "\n",
    "# Example usage\n",
    "folder_path = 'train\\mask\\B'\n",
    "old_string = 'mask'\n",
    "new_string = 'post'\n",
    "\n",
    "replace_string_in_filenames(folder_path, old_string, new_string)\n"
   ]
  },
  {
   "cell_type": "markdown",
   "metadata": {},
   "source": [
    "### Moving Data"
   ]
  },
  {
   "cell_type": "code",
   "execution_count": 42,
   "metadata": {},
   "outputs": [],
   "source": [
    "def move_all_files(source_folder, destination_folder):\n",
    "    # Ensure the destination folder exists\n",
    "    if not os.path.exists(destination_folder):\n",
    "        os.makedirs(destination_folder)\n",
    "\n",
    "    # Iterate through all files in the source folder\n",
    "    for filename in os.listdir(source_folder):\n",
    "        source_path = os.path.join(source_folder, filename)\n",
    "        destination_path = os.path.join(destination_folder, filename)\n",
    "\n",
    "        # Move the file to the destination folder\n",
    "        shutil.move(source_path, destination_path)\n",
    "        print(f'Moved: {source_path} -> {destination_path}')\n"
   ]
  },
  {
   "cell_type": "code",
   "execution_count": 43,
   "metadata": {},
   "outputs": [
    {
     "name": "stdout",
     "output_type": "stream",
     "text": [
      "Moved: train\\mask\\A\\bahria-town-1109_jpg_rf_19d1aa528a6428799a0883643c0a599e_pre.png -> train\\mask\\bahria-town-1109_jpg_rf_19d1aa528a6428799a0883643c0a599e_pre.png\n",
      "Moved: train\\mask\\A\\bahria-town-1509_jpg_rf_e2ae13b2dd934163d4abfeea8d9456e9_pre.png -> train\\mask\\bahria-town-1509_jpg_rf_e2ae13b2dd934163d4abfeea8d9456e9_pre.png\n",
      "Moved: train\\mask\\A\\bahria-town-1602_jpg_rf_15972460fc3d1d995b180b89dd0b8f0b_pre.png -> train\\mask\\bahria-town-1602_jpg_rf_15972460fc3d1d995b180b89dd0b8f0b_pre.png\n",
      "Moved: train\\mask\\A\\bahria-town-1902_jpg_rf_93ee16882333a730cc6a8ef8b4edad97_pre.png -> train\\mask\\bahria-town-1902_jpg_rf_93ee16882333a730cc6a8ef8b4edad97_pre.png\n",
      "Moved: train\\mask\\A\\bahria-town-2107_jpg_rf_700de3ec2c905fd50a71f9d0e993fd05_pre.png -> train\\mask\\bahria-town-2107_jpg_rf_700de3ec2c905fd50a71f9d0e993fd05_pre.png\n",
      "Moved: train\\mask\\A\\bahria-town-2108_jpg_rf_809e155d7fa258cf9694bd4de9ab3b40_pre.png -> train\\mask\\bahria-town-2108_jpg_rf_809e155d7fa258cf9694bd4de9ab3b40_pre.png\n",
      "Moved: train\\mask\\A\\bahria-town-2111_jpg_rf_2afb0578be3e59252fda60cb89167587_pre.png -> train\\mask\\bahria-town-2111_jpg_rf_2afb0578be3e59252fda60cb89167587_pre.png\n",
      "Moved: train\\mask\\A\\bahria-town-2112_jpg_rf_e7202369ce7c7dcc93b7cbf39c2fe025_pre.png -> train\\mask\\bahria-town-2112_jpg_rf_e7202369ce7c7dcc93b7cbf39c2fe025_pre.png\n",
      "Moved: train\\mask\\A\\bahria-town-2205_jpg_rf_4aa4fc6e456d8433aa42c1b0b5f7da5f_pre.png -> train\\mask\\bahria-town-2205_jpg_rf_4aa4fc6e456d8433aa42c1b0b5f7da5f_pre.png\n"
     ]
    }
   ],
   "source": [
    "# Example usage\n",
    "source_folder = 'train\\mask\\A'\n",
    "destination_folder = 'train\\mask'\n",
    "\n",
    "move_all_files(source_folder, destination_folder)"
   ]
  },
  {
   "cell_type": "code",
   "execution_count": 44,
   "metadata": {},
   "outputs": [
    {
     "name": "stdout",
     "output_type": "stream",
     "text": [
      "Moved: train\\mask\\B\\bahria-town-1109_jpg_rf_19d1aa528a6428799a0883643c0a599e_post.png -> train\\mask\\bahria-town-1109_jpg_rf_19d1aa528a6428799a0883643c0a599e_post.png\n",
      "Moved: train\\mask\\B\\bahria-town-1509_jpg_rf_e2ae13b2dd934163d4abfeea8d9456e9_post.png -> train\\mask\\bahria-town-1509_jpg_rf_e2ae13b2dd934163d4abfeea8d9456e9_post.png\n",
      "Moved: train\\mask\\B\\bahria-town-1602_jpg_rf_15972460fc3d1d995b180b89dd0b8f0b_post.png -> train\\mask\\bahria-town-1602_jpg_rf_15972460fc3d1d995b180b89dd0b8f0b_post.png\n",
      "Moved: train\\mask\\B\\bahria-town-1902_jpg_rf_93ee16882333a730cc6a8ef8b4edad97_post.png -> train\\mask\\bahria-town-1902_jpg_rf_93ee16882333a730cc6a8ef8b4edad97_post.png\n",
      "Moved: train\\mask\\B\\bahria-town-2107_jpg_rf_700de3ec2c905fd50a71f9d0e993fd05_post.png -> train\\mask\\bahria-town-2107_jpg_rf_700de3ec2c905fd50a71f9d0e993fd05_post.png\n",
      "Moved: train\\mask\\B\\bahria-town-2108_jpg_rf_809e155d7fa258cf9694bd4de9ab3b40_post.png -> train\\mask\\bahria-town-2108_jpg_rf_809e155d7fa258cf9694bd4de9ab3b40_post.png\n",
      "Moved: train\\mask\\B\\bahria-town-2111_jpg_rf_2afb0578be3e59252fda60cb89167587_post.png -> train\\mask\\bahria-town-2111_jpg_rf_2afb0578be3e59252fda60cb89167587_post.png\n",
      "Moved: train\\mask\\B\\bahria-town-2112_jpg_rf_e7202369ce7c7dcc93b7cbf39c2fe025_post.png -> train\\mask\\bahria-town-2112_jpg_rf_e7202369ce7c7dcc93b7cbf39c2fe025_post.png\n",
      "Moved: train\\mask\\B\\bahria-town-2205_jpg_rf_4aa4fc6e456d8433aa42c1b0b5f7da5f_post.png -> train\\mask\\bahria-town-2205_jpg_rf_4aa4fc6e456d8433aa42c1b0b5f7da5f_post.png\n"
     ]
    }
   ],
   "source": [
    "# Example usage\n",
    "source_folder = 'train\\mask\\B'\n",
    "destination_folder = 'train\\mask'\n",
    "\n",
    "move_all_files(source_folder, destination_folder)"
   ]
  },
  {
   "cell_type": "markdown",
   "metadata": {},
   "source": [
    "## Deleting unused data"
   ]
  },
  {
   "cell_type": "code",
   "execution_count": 45,
   "metadata": {},
   "outputs": [],
   "source": [
    "def delete_folder(folder_path):\n",
    "    try:\n",
    "        shutil.rmtree(folder_path)\n",
    "        print(f'Deleted folder: {folder_path}')\n",
    "    except Exception as e:\n",
    "        print(f'Error deleting folder: {e}')\n",
    "\n"
   ]
  },
  {
   "cell_type": "code",
   "execution_count": 46,
   "metadata": {},
   "outputs": [
    {
     "name": "stdout",
     "output_type": "stream",
     "text": [
      "Deleted folder: train\\mask\\A\n"
     ]
    }
   ],
   "source": [
    "# Example usage\n",
    "folder_to_delete = 'train\\mask\\A'\n",
    "delete_folder(folder_to_delete)"
   ]
  },
  {
   "cell_type": "code",
   "execution_count": 47,
   "metadata": {},
   "outputs": [
    {
     "name": "stdout",
     "output_type": "stream",
     "text": [
      "Deleted folder: train\\mask\\B\n"
     ]
    }
   ],
   "source": [
    "# Example usage\n",
    "folder_to_delete = 'train\\mask\\B'\n",
    "delete_folder(folder_to_delete)"
   ]
  },
  {
   "cell_type": "code",
   "execution_count": 48,
   "metadata": {},
   "outputs": [],
   "source": [
    "def delete_files_with_extension(folder_path, extension):\n",
    "    try:\n",
    "        # Iterate through all files in the folder\n",
    "        for filename in os.listdir(folder_path):\n",
    "            file_path = os.path.join(folder_path, filename)\n",
    "\n",
    "            # Check if it is a file and has the specified extension\n",
    "            if os.path.isfile(file_path) and filename.endswith(extension):\n",
    "                os.remove(file_path)\n",
    "                print(f'Deleted: {file_path}')\n",
    "\n",
    "        print(f'Deleted all files with extension \"{extension}\" in {folder_path}')\n",
    "    except Exception as e:\n",
    "        print(f'Error deleting files: {e}')"
   ]
  },
  {
   "cell_type": "code",
   "execution_count": 49,
   "metadata": {},
   "outputs": [
    {
     "name": "stdout",
     "output_type": "stream",
     "text": [
      "Deleted: train\\bahria-town-1109_jpg_rf_19d1aa528a6428799a0883643c0a599e.jpg\n",
      "Deleted: train\\bahria-town-1509_jpg_rf_e2ae13b2dd934163d4abfeea8d9456e9.jpg\n",
      "Deleted: train\\bahria-town-1602_jpg_rf_15972460fc3d1d995b180b89dd0b8f0b.jpg\n",
      "Deleted: train\\bahria-town-1902_jpg_rf_93ee16882333a730cc6a8ef8b4edad97.jpg\n",
      "Deleted: train\\bahria-town-2107_jpg_rf_700de3ec2c905fd50a71f9d0e993fd05.jpg\n",
      "Deleted: train\\bahria-town-2108_jpg_rf_809e155d7fa258cf9694bd4de9ab3b40.jpg\n",
      "Deleted: train\\bahria-town-2111_jpg_rf_2afb0578be3e59252fda60cb89167587.jpg\n",
      "Deleted: train\\bahria-town-2112_jpg_rf_e7202369ce7c7dcc93b7cbf39c2fe025.jpg\n",
      "Deleted: train\\bahria-town-2205_jpg_rf_4aa4fc6e456d8433aa42c1b0b5f7da5f.jpg\n",
      "Deleted: train\\bahria-town-2206_jpg_rf_c8c33757d722e5342a8c127af59d73f2.jpg\n",
      "Deleted all files with extension \".jpg\" in train\n"
     ]
    }
   ],
   "source": [
    "# Example usage\n",
    "folder_path = 'train'\n",
    "file_extension_to_delete = '.jpg'  # Replace with your desired file extension\n",
    "delete_files_with_extension(folder_path, file_extension_to_delete)"
   ]
  },
  {
   "cell_type": "code",
   "execution_count": 50,
   "metadata": {},
   "outputs": [
    {
     "name": "stdout",
     "output_type": "stream",
     "text": [
      "Deleted: train\\bahria-town-1109_jpg_rf_19d1aa528a6428799a0883643c0a599e_mask.png\n",
      "Deleted: train\\bahria-town-1509_jpg_rf_e2ae13b2dd934163d4abfeea8d9456e9_mask.png\n",
      "Deleted: train\\bahria-town-1602_jpg_rf_15972460fc3d1d995b180b89dd0b8f0b_mask.png\n",
      "Deleted: train\\bahria-town-1902_jpg_rf_93ee16882333a730cc6a8ef8b4edad97_mask.png\n",
      "Deleted: train\\bahria-town-2107_jpg_rf_700de3ec2c905fd50a71f9d0e993fd05_mask.png\n",
      "Deleted: train\\bahria-town-2108_jpg_rf_809e155d7fa258cf9694bd4de9ab3b40_mask.png\n",
      "Deleted: train\\bahria-town-2111_jpg_rf_2afb0578be3e59252fda60cb89167587_mask.png\n",
      "Deleted: train\\bahria-town-2112_jpg_rf_e7202369ce7c7dcc93b7cbf39c2fe025_mask.png\n",
      "Deleted: train\\bahria-town-2205_jpg_rf_4aa4fc6e456d8433aa42c1b0b5f7da5f_mask.png\n",
      "Deleted: train\\bahria-town-2206_jpg_rf_c8c33757d722e5342a8c127af59d73f2_mask.png\n",
      "Deleted all files with extension \".png\" in train\n"
     ]
    }
   ],
   "source": [
    "# Example usage\n",
    "folder_path = 'train'\n",
    "file_extension_to_delete = '.png'  # Replace with your desired file extension\n",
    "delete_files_with_extension(folder_path, file_extension_to_delete)"
   ]
  },
  {
   "cell_type": "code",
   "execution_count": null,
   "metadata": {},
   "outputs": [],
   "source": []
  }
 ],
 "metadata": {
  "kernelspec": {
   "display_name": "base",
   "language": "python",
   "name": "python3"
  },
  "language_info": {
   "codemirror_mode": {
    "name": "ipython",
    "version": 3
   },
   "file_extension": ".py",
   "mimetype": "text/x-python",
   "name": "python",
   "nbconvert_exporter": "python",
   "pygments_lexer": "ipython3",
   "version": "3.9.13"
  },
  "orig_nbformat": 4
 },
 "nbformat": 4,
 "nbformat_minor": 2
}
