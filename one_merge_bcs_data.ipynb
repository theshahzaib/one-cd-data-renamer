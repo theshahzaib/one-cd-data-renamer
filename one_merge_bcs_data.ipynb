{
 "cells": [
  {
   "cell_type": "code",
   "execution_count": 18,
   "metadata": {},
   "outputs": [],
   "source": [
    "import os\n",
    "import shutil"
   ]
  },
  {
   "cell_type": "code",
   "execution_count": 25,
   "metadata": {},
   "outputs": [
    {
     "name": "stdout",
     "output_type": "stream",
     "text": [
      "Folder 'data' already exists.\n"
     ]
    }
   ],
   "source": [
    "def create_folder(folder_path):\n",
    "    # Check if the folder already exists\n",
    "    if not os.path.exists(folder_path):\n",
    "        # Create the folder\n",
    "        os.makedirs(folder_path)\n",
    "        print(f\"Folder '{folder_path}' created successfully.\")\n",
    "    else:\n",
    "        print(f\"Folder '{folder_path}' already exists.\")\n",
    "\n",
    "# Example usage:\n",
    "folder_path = \"data\"  # Specify the path for the new folder\n",
    "create_folder(folder_path)"
   ]
  },
  {
   "cell_type": "code",
   "execution_count": 21,
   "metadata": {},
   "outputs": [],
   "source": [
    "all_dirs = os.listdir('BCS_dataset_one')\n",
    "\n",
    "def add_prefix_to_names(names_list, prefix):\n",
    "    # Iterate over each name in the list\n",
    "    for i in range(len(names_list)):\n",
    "        # Concatenate the prefix to the current name\n",
    "        names_list[i] = prefix + names_list[i]\n",
    "\n",
    "# Example usage:\n",
    "names_list = all_dirs  # List of names\n",
    "prefix = \"BCS_dataset_one/\"  # Prefix to add to each name\n",
    "\n",
    "add_prefix_to_names(names_list, prefix)"
   ]
  },
  {
   "cell_type": "code",
   "execution_count": 24,
   "metadata": {},
   "outputs": [],
   "source": [
    "import os\n",
    "import shutil\n",
    "\n",
    "def merge_folders_contents(source_folders, destination_folder):\n",
    "    # Ensure the destination folder exists\n",
    "    if not os.path.exists(destination_folder):\n",
    "        os.makedirs(destination_folder)\n",
    "\n",
    "    # Iterate over each source folder\n",
    "    for source_folder in source_folders:\n",
    "        # Iterate over each file in the source folder\n",
    "        for root, _, files in os.walk(source_folder):\n",
    "            for file in files:\n",
    "                # Get the full path of the file in the source folder\n",
    "                source_file_path = os.path.join(root, file)\n",
    "                # Get the relative path of the file with respect to the source folder\n",
    "                relative_path = os.path.relpath(source_file_path, source_folder)\n",
    "                # Get the full destination path for the file\n",
    "                destination_file_path = os.path.join(destination_folder, relative_path)\n",
    "                # Ensure the directory structure exists in the destination folder\n",
    "                os.makedirs(os.path.dirname(destination_file_path), exist_ok=True)\n",
    "                # Copy the file to the destination folder\n",
    "                shutil.copy(source_file_path, destination_file_path)\n",
    "\n",
    "# Example usage:\n",
    "source_folders = names_list  # List of source folders\n",
    "destination_folder = \"data\"  # Destination folder to merge contents\n",
    "\n",
    "merge_folders_contents(source_folders, destination_folder)\n"
   ]
  },
  {
   "cell_type": "code",
   "execution_count": null,
   "metadata": {},
   "outputs": [],
   "source": []
  }
 ],
 "metadata": {
  "kernelspec": {
   "display_name": "jnb",
   "language": "python",
   "name": "python3"
  },
  "language_info": {
   "codemirror_mode": {
    "name": "ipython",
    "version": 3
   },
   "file_extension": ".py",
   "mimetype": "text/x-python",
   "name": "python",
   "nbconvert_exporter": "python",
   "pygments_lexer": "ipython3",
   "version": "3.9.18"
  }
 },
 "nbformat": 4,
 "nbformat_minor": 2
}
