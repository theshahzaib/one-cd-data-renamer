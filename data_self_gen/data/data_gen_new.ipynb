{
 "cells": [
  {
   "cell_type": "markdown",
   "metadata": {},
   "source": [
    "Removing Images and labels of pre"
   ]
  },
  {
   "cell_type": "code",
   "execution_count": 1,
   "metadata": {},
   "outputs": [],
   "source": [
    "import os\n",
    "data1 = os.listdir('./')\n",
    "folders = [item for item in data1 if os.path.isdir(os.path.join('./', item))]"
   ]
  },
  {
   "cell_type": "code",
   "execution_count": 2,
   "metadata": {},
   "outputs": [
    {
     "data": {
      "text/plain": [
       "['bolari_patch_3_2.v1i.png-mask-semantic',\n",
       " 'bolari_patch_3_3.v1i.png-mask-semantic',\n",
       " 'cd_data_bahria_town_isb_n1_c4.v3i.png-mask-semantic',\n",
       " 'cd_data_newcity_wah_c4.v2i.png-mask-semantic',\n",
       " 'cd_data_park_view_city_c4.v4i.png-mask-semantic']"
      ]
     },
     "execution_count": 2,
     "metadata": {},
     "output_type": "execute_result"
    }
   ],
   "source": [
    "# folders"
   ]
  },
  {
   "cell_type": "code",
   "execution_count": 80,
   "metadata": {},
   "outputs": [],
   "source": [
    "folder_path_data = folders[4]+'/train'"
   ]
  },
  {
   "cell_type": "code",
   "execution_count": 81,
   "metadata": {},
   "outputs": [
    {
     "name": "stdout",
     "output_type": "stream",
     "text": [
      "Deleted cd_data_park_view_city_c4.v4i.png-mask-semantic/train/images\\park_view_00_rf_dd72f7da67f881fc625c05955c874c67_pre.png\n",
      "Deleted cd_data_park_view_city_c4.v4i.png-mask-semantic/train/images\\park_view_01_rf_c325bd6ad2664e60a5c898c4de37846c_pre.png\n",
      "Deleted cd_data_park_view_city_c4.v4i.png-mask-semantic/train/images\\park_view_02_rf_cb9c685c87be359f41454173d39dec50_pre.png\n",
      "Deleted cd_data_park_view_city_c4.v4i.png-mask-semantic/train/images\\park_view_03_rf_29fc7324b7595cc95e169688c7ced45b_pre.png\n",
      "Deleted cd_data_park_view_city_c4.v4i.png-mask-semantic/train/images\\park_view_04_rf_c5876b41f31be1909dff877344a0fd60_pre.png\n",
      "Deleted cd_data_park_view_city_c4.v4i.png-mask-semantic/train/images\\park_view_05_rf_3e44b49519b092b5e101a80b112e32cb_pre.png\n",
      "Deleted cd_data_park_view_city_c4.v4i.png-mask-semantic/train/images\\park_view_06_rf_a6fe732bb6e37068602b195c1eff745a_pre.png\n",
      "Deleted cd_data_park_view_city_c4.v4i.png-mask-semantic/train/images\\park_view_07_rf_1bacc3d8b41fd205b740fd4ea5963af1_pre.png\n",
      "Deleted cd_data_park_view_city_c4.v4i.png-mask-semantic/train/images\\park_view_08_rf_fe83eff483ffdb924a7227dd2d0aa155_pre.png\n",
      "Deleted cd_data_park_view_city_c4.v4i.png-mask-semantic/train/images\\park_view_09_rf_8e47dfc93b2f0d1e3883a603bf7a9872_pre.png\n",
      "Deleted cd_data_park_view_city_c4.v4i.png-mask-semantic/train/labels\\park_view_00_rf_dd72f7da67f881fc625c05955c874c67_pre.png\n",
      "Deleted cd_data_park_view_city_c4.v4i.png-mask-semantic/train/labels\\park_view_01_rf_c325bd6ad2664e60a5c898c4de37846c_pre.png\n",
      "Deleted cd_data_park_view_city_c4.v4i.png-mask-semantic/train/labels\\park_view_02_rf_cb9c685c87be359f41454173d39dec50_pre.png\n",
      "Deleted cd_data_park_view_city_c4.v4i.png-mask-semantic/train/labels\\park_view_03_rf_29fc7324b7595cc95e169688c7ced45b_pre.png\n",
      "Deleted cd_data_park_view_city_c4.v4i.png-mask-semantic/train/labels\\park_view_04_rf_c5876b41f31be1909dff877344a0fd60_pre.png\n",
      "Deleted cd_data_park_view_city_c4.v4i.png-mask-semantic/train/labels\\park_view_05_rf_3e44b49519b092b5e101a80b112e32cb_pre.png\n",
      "Deleted cd_data_park_view_city_c4.v4i.png-mask-semantic/train/labels\\park_view_06_rf_a6fe732bb6e37068602b195c1eff745a_pre.png\n",
      "Deleted cd_data_park_view_city_c4.v4i.png-mask-semantic/train/labels\\park_view_07_rf_1bacc3d8b41fd205b740fd4ea5963af1_pre.png\n",
      "Deleted cd_data_park_view_city_c4.v4i.png-mask-semantic/train/labels\\park_view_08_rf_fe83eff483ffdb924a7227dd2d0aa155_pre.png\n",
      "Deleted cd_data_park_view_city_c4.v4i.png-mask-semantic/train/labels\\park_view_09_rf_8e47dfc93b2f0d1e3883a603bf7a9872_pre.png\n"
     ]
    }
   ],
   "source": [
    "import os\n",
    "import glob\n",
    "\n",
    "def delete_images_with_keyword(folder_path, keyword):\n",
    "    # Get a list of image files in the folder\n",
    "    image_files = glob.glob(os.path.join(folder_path, '*.jpg')) + glob.glob(os.path.join(folder_path, '*.png'))\n",
    "\n",
    "    # Iterate through each image file\n",
    "    for image_file in image_files:\n",
    "        # Check if the keyword is in the file name\n",
    "        if keyword in os.path.basename(image_file):\n",
    "            # Delete the image file\n",
    "            os.remove(image_file)\n",
    "            print(f\"Deleted {image_file}\")\n",
    "\n",
    "# Replace 'folder_path' with the path to your folder containing images\n",
    "folder_path = folder_path_data+'/images'\n",
    "# Replace 'pre' with your keyword\n",
    "keyword = 'pre'\n",
    "\n",
    "# Call the function to delete images with the specified keyword\n",
    "delete_images_with_keyword(folder_path, keyword)\n",
    "\n",
    "# Replace 'folder_path' with the path to your folder containing images\n",
    "folder_path = folder_path_data+'/labels'\n",
    "delete_images_with_keyword(folder_path, keyword)\n"
   ]
  },
  {
   "cell_type": "markdown",
   "metadata": {},
   "source": [
    "## Subtract from all images"
   ]
  },
  {
   "cell_type": "markdown",
   "metadata": {},
   "source": [
    "## Main SubData Images & Label Gen Code"
   ]
  },
  {
   "cell_type": "code",
   "execution_count": 82,
   "metadata": {},
   "outputs": [
    {
     "name": "stdout",
     "output_type": "stream",
     "text": [
      "Created folder: cd_data_park_view_city_c4.v4i.png-mask-semantic/train/subdata0/images\n",
      "Created folder: cd_data_park_view_city_c4.v4i.png-mask-semantic/train/subdata0/labels\n",
      "Subtracted images and saved result to 'cd_data_park_view_city_c4.v4i.png-mask-semantic/train/subdata0/labels/sd_0_park_view_01_rf_c325bd6ad2664e60a5c898c4de37846c_mask.png'\n"
     ]
    },
    {
     "name": "stdout",
     "output_type": "stream",
     "text": [
      "Subtracted images and saved result to 'cd_data_park_view_city_c4.v4i.png-mask-semantic/train/subdata0/labels/sd_0_park_view_02_rf_cb9c685c87be359f41454173d39dec50_mask.png'\n",
      "Subtracted images and saved result to 'cd_data_park_view_city_c4.v4i.png-mask-semantic/train/subdata0/labels/sd_0_park_view_03_rf_29fc7324b7595cc95e169688c7ced45b_mask.png'\n",
      "Subtracted images and saved result to 'cd_data_park_view_city_c4.v4i.png-mask-semantic/train/subdata0/labels/sd_0_park_view_04_rf_c5876b41f31be1909dff877344a0fd60_mask.png'\n",
      "Subtracted images and saved result to 'cd_data_park_view_city_c4.v4i.png-mask-semantic/train/subdata0/labels/sd_0_park_view_05_rf_3e44b49519b092b5e101a80b112e32cb_mask.png'\n",
      "Subtracted images and saved result to 'cd_data_park_view_city_c4.v4i.png-mask-semantic/train/subdata0/labels/sd_0_park_view_06_rf_a6fe732bb6e37068602b195c1eff745a_mask.png'\n",
      "Subtracted images and saved result to 'cd_data_park_view_city_c4.v4i.png-mask-semantic/train/subdata0/labels/sd_0_park_view_07_rf_1bacc3d8b41fd205b740fd4ea5963af1_mask.png'\n",
      "Subtracted images and saved result to 'cd_data_park_view_city_c4.v4i.png-mask-semantic/train/subdata0/labels/sd_0_park_view_08_rf_fe83eff483ffdb924a7227dd2d0aa155_mask.png'\n",
      "Subtracted images and saved result to 'cd_data_park_view_city_c4.v4i.png-mask-semantic/train/subdata0/labels/sd_0_park_view_09_rf_8e47dfc93b2f0d1e3883a603bf7a9872_mask.png'\n",
      "Created folder: cd_data_park_view_city_c4.v4i.png-mask-semantic/train/subdata1/images\n",
      "Created folder: cd_data_park_view_city_c4.v4i.png-mask-semantic/train/subdata1/labels\n",
      "Subtracted images and saved result to 'cd_data_park_view_city_c4.v4i.png-mask-semantic/train/subdata1/labels/sd_1_park_view_02_rf_cb9c685c87be359f41454173d39dec50_mask.png'\n",
      "Subtracted images and saved result to 'cd_data_park_view_city_c4.v4i.png-mask-semantic/train/subdata1/labels/sd_1_park_view_03_rf_29fc7324b7595cc95e169688c7ced45b_mask.png'\n",
      "Subtracted images and saved result to 'cd_data_park_view_city_c4.v4i.png-mask-semantic/train/subdata1/labels/sd_1_park_view_04_rf_c5876b41f31be1909dff877344a0fd60_mask.png'\n",
      "Subtracted images and saved result to 'cd_data_park_view_city_c4.v4i.png-mask-semantic/train/subdata1/labels/sd_1_park_view_05_rf_3e44b49519b092b5e101a80b112e32cb_mask.png'\n",
      "Subtracted images and saved result to 'cd_data_park_view_city_c4.v4i.png-mask-semantic/train/subdata1/labels/sd_1_park_view_06_rf_a6fe732bb6e37068602b195c1eff745a_mask.png'\n",
      "Subtracted images and saved result to 'cd_data_park_view_city_c4.v4i.png-mask-semantic/train/subdata1/labels/sd_1_park_view_07_rf_1bacc3d8b41fd205b740fd4ea5963af1_mask.png'\n",
      "Subtracted images and saved result to 'cd_data_park_view_city_c4.v4i.png-mask-semantic/train/subdata1/labels/sd_1_park_view_08_rf_fe83eff483ffdb924a7227dd2d0aa155_mask.png'\n",
      "Subtracted images and saved result to 'cd_data_park_view_city_c4.v4i.png-mask-semantic/train/subdata1/labels/sd_1_park_view_09_rf_8e47dfc93b2f0d1e3883a603bf7a9872_mask.png'\n",
      "Created folder: cd_data_park_view_city_c4.v4i.png-mask-semantic/train/subdata2/images\n",
      "Created folder: cd_data_park_view_city_c4.v4i.png-mask-semantic/train/subdata2/labels\n",
      "Subtracted images and saved result to 'cd_data_park_view_city_c4.v4i.png-mask-semantic/train/subdata2/labels/sd_2_park_view_03_rf_29fc7324b7595cc95e169688c7ced45b_mask.png'\n",
      "Subtracted images and saved result to 'cd_data_park_view_city_c4.v4i.png-mask-semantic/train/subdata2/labels/sd_2_park_view_04_rf_c5876b41f31be1909dff877344a0fd60_mask.png'\n",
      "Subtracted images and saved result to 'cd_data_park_view_city_c4.v4i.png-mask-semantic/train/subdata2/labels/sd_2_park_view_05_rf_3e44b49519b092b5e101a80b112e32cb_mask.png'\n",
      "Subtracted images and saved result to 'cd_data_park_view_city_c4.v4i.png-mask-semantic/train/subdata2/labels/sd_2_park_view_06_rf_a6fe732bb6e37068602b195c1eff745a_mask.png'\n",
      "Subtracted images and saved result to 'cd_data_park_view_city_c4.v4i.png-mask-semantic/train/subdata2/labels/sd_2_park_view_07_rf_1bacc3d8b41fd205b740fd4ea5963af1_mask.png'\n",
      "Subtracted images and saved result to 'cd_data_park_view_city_c4.v4i.png-mask-semantic/train/subdata2/labels/sd_2_park_view_08_rf_fe83eff483ffdb924a7227dd2d0aa155_mask.png'\n",
      "Subtracted images and saved result to 'cd_data_park_view_city_c4.v4i.png-mask-semantic/train/subdata2/labels/sd_2_park_view_09_rf_8e47dfc93b2f0d1e3883a603bf7a9872_mask.png'\n",
      "Created folder: cd_data_park_view_city_c4.v4i.png-mask-semantic/train/subdata3/images\n",
      "Created folder: cd_data_park_view_city_c4.v4i.png-mask-semantic/train/subdata3/labels\n",
      "Subtracted images and saved result to 'cd_data_park_view_city_c4.v4i.png-mask-semantic/train/subdata3/labels/sd_3_park_view_04_rf_c5876b41f31be1909dff877344a0fd60_mask.png'\n",
      "Subtracted images and saved result to 'cd_data_park_view_city_c4.v4i.png-mask-semantic/train/subdata3/labels/sd_3_park_view_05_rf_3e44b49519b092b5e101a80b112e32cb_mask.png'\n",
      "Subtracted images and saved result to 'cd_data_park_view_city_c4.v4i.png-mask-semantic/train/subdata3/labels/sd_3_park_view_06_rf_a6fe732bb6e37068602b195c1eff745a_mask.png'\n",
      "Subtracted images and saved result to 'cd_data_park_view_city_c4.v4i.png-mask-semantic/train/subdata3/labels/sd_3_park_view_07_rf_1bacc3d8b41fd205b740fd4ea5963af1_mask.png'\n",
      "Subtracted images and saved result to 'cd_data_park_view_city_c4.v4i.png-mask-semantic/train/subdata3/labels/sd_3_park_view_08_rf_fe83eff483ffdb924a7227dd2d0aa155_mask.png'\n",
      "Subtracted images and saved result to 'cd_data_park_view_city_c4.v4i.png-mask-semantic/train/subdata3/labels/sd_3_park_view_09_rf_8e47dfc93b2f0d1e3883a603bf7a9872_mask.png'\n",
      "Created folder: cd_data_park_view_city_c4.v4i.png-mask-semantic/train/subdata4/images\n",
      "Created folder: cd_data_park_view_city_c4.v4i.png-mask-semantic/train/subdata4/labels\n",
      "Subtracted images and saved result to 'cd_data_park_view_city_c4.v4i.png-mask-semantic/train/subdata4/labels/sd_4_park_view_05_rf_3e44b49519b092b5e101a80b112e32cb_mask.png'\n",
      "Subtracted images and saved result to 'cd_data_park_view_city_c4.v4i.png-mask-semantic/train/subdata4/labels/sd_4_park_view_06_rf_a6fe732bb6e37068602b195c1eff745a_mask.png'\n",
      "Subtracted images and saved result to 'cd_data_park_view_city_c4.v4i.png-mask-semantic/train/subdata4/labels/sd_4_park_view_07_rf_1bacc3d8b41fd205b740fd4ea5963af1_mask.png'\n",
      "Subtracted images and saved result to 'cd_data_park_view_city_c4.v4i.png-mask-semantic/train/subdata4/labels/sd_4_park_view_08_rf_fe83eff483ffdb924a7227dd2d0aa155_mask.png'\n",
      "Subtracted images and saved result to 'cd_data_park_view_city_c4.v4i.png-mask-semantic/train/subdata4/labels/sd_4_park_view_09_rf_8e47dfc93b2f0d1e3883a603bf7a9872_mask.png'\n",
      "Created folder: cd_data_park_view_city_c4.v4i.png-mask-semantic/train/subdata5/images\n",
      "Created folder: cd_data_park_view_city_c4.v4i.png-mask-semantic/train/subdata5/labels\n",
      "Subtracted images and saved result to 'cd_data_park_view_city_c4.v4i.png-mask-semantic/train/subdata5/labels/sd_5_park_view_06_rf_a6fe732bb6e37068602b195c1eff745a_mask.png'\n",
      "Subtracted images and saved result to 'cd_data_park_view_city_c4.v4i.png-mask-semantic/train/subdata5/labels/sd_5_park_view_07_rf_1bacc3d8b41fd205b740fd4ea5963af1_mask.png'\n",
      "Subtracted images and saved result to 'cd_data_park_view_city_c4.v4i.png-mask-semantic/train/subdata5/labels/sd_5_park_view_08_rf_fe83eff483ffdb924a7227dd2d0aa155_mask.png'\n",
      "Subtracted images and saved result to 'cd_data_park_view_city_c4.v4i.png-mask-semantic/train/subdata5/labels/sd_5_park_view_09_rf_8e47dfc93b2f0d1e3883a603bf7a9872_mask.png'\n",
      "Created folder: cd_data_park_view_city_c4.v4i.png-mask-semantic/train/subdata6/images\n",
      "Created folder: cd_data_park_view_city_c4.v4i.png-mask-semantic/train/subdata6/labels\n",
      "Subtracted images and saved result to 'cd_data_park_view_city_c4.v4i.png-mask-semantic/train/subdata6/labels/sd_6_park_view_07_rf_1bacc3d8b41fd205b740fd4ea5963af1_mask.png'\n",
      "Subtracted images and saved result to 'cd_data_park_view_city_c4.v4i.png-mask-semantic/train/subdata6/labels/sd_6_park_view_08_rf_fe83eff483ffdb924a7227dd2d0aa155_mask.png'\n",
      "Subtracted images and saved result to 'cd_data_park_view_city_c4.v4i.png-mask-semantic/train/subdata6/labels/sd_6_park_view_09_rf_8e47dfc93b2f0d1e3883a603bf7a9872_mask.png'\n",
      "Created folder: cd_data_park_view_city_c4.v4i.png-mask-semantic/train/subdata7/images\n",
      "Created folder: cd_data_park_view_city_c4.v4i.png-mask-semantic/train/subdata7/labels\n",
      "Subtracted images and saved result to 'cd_data_park_view_city_c4.v4i.png-mask-semantic/train/subdata7/labels/sd_7_park_view_08_rf_fe83eff483ffdb924a7227dd2d0aa155_mask.png'\n",
      "Subtracted images and saved result to 'cd_data_park_view_city_c4.v4i.png-mask-semantic/train/subdata7/labels/sd_7_park_view_09_rf_8e47dfc93b2f0d1e3883a603bf7a9872_mask.png'\n",
      "Created folder: cd_data_park_view_city_c4.v4i.png-mask-semantic/train/subdata8/images\n",
      "Created folder: cd_data_park_view_city_c4.v4i.png-mask-semantic/train/subdata8/labels\n",
      "Subtracted images and saved result to 'cd_data_park_view_city_c4.v4i.png-mask-semantic/train/subdata8/labels/sd_8_park_view_09_rf_8e47dfc93b2f0d1e3883a603bf7a9872_mask.png'\n",
      "Created folder: cd_data_park_view_city_c4.v4i.png-mask-semantic/train/subdata9/images\n",
      "Created folder: cd_data_park_view_city_c4.v4i.png-mask-semantic/train/subdata9/labels\n"
     ]
    }
   ],
   "source": [
    "import os, shutil\n",
    "from PIL import Image\n",
    "import cv2\n",
    "\n",
    "train_folder = folder_path_data\n",
    "#####\n",
    "lbl_list = os.listdir(train_folder+'/labels')\n",
    "#####\n",
    "def subtract_binary_images(image1_path, image2_path, output_path):\n",
    "    image1 = cv2.imread(image1_path, cv2.IMREAD_GRAYSCALE)\n",
    "    image2 = cv2.imread(image2_path, cv2.IMREAD_GRAYSCALE)\n",
    "    if image1.shape != image2.shape:\n",
    "        print(\"Error: Images must have the same dimensions.\")\n",
    "        return\n",
    "    result = cv2.subtract(image1, image2)\n",
    "    cv2.imwrite(output_path, result)\n",
    "    print(f\"Subtracted images and saved result to '{output_path}'\")\n",
    "\n",
    "def create_directory_if_not_exists(directory):\n",
    "    if not os.path.exists(directory):\n",
    "        os.makedirs(directory)\n",
    "        print(f\"Directory '{directory}' created.\")\n",
    "    else:\n",
    "        print(f\"Directory '{directory}' already exists. Skipping creation.\")\n",
    "\n",
    "def create_folder(folder_path):\n",
    "    if os.path.exists(folder_path):\n",
    "        shutil.rmtree(folder_path)\n",
    "        print(f\"Deleted existing folder: {folder_path}\")\n",
    "    os.makedirs(folder_path)\n",
    "    print(f\"Created folder: {folder_path}\")\n",
    "\n",
    "def convert_png_to_jpg(png_path, jpg_path):\n",
    "    png_image = Image.open(png_path)\n",
    "    if png_image.mode in ('RGBA', 'LA'):\n",
    "        png_image = png_image.convert('RGB')\n",
    "    png_image.save(jpg_path, format='JPEG', quality=100)\n",
    "\n",
    "def create_empty_binary_mask(width, height):\n",
    "    # Create a new black image (mode '1' for binary)\n",
    "    # Create a new black image (mode 'L' for 8-bit grayscale)\n",
    "    mask = Image.new('L', (width, height), color=0)\n",
    "    return mask\n",
    "\n",
    "\n",
    "lbl_list = os.listdir(train_folder+'/labels')\n",
    "\n",
    "for i in range(len(lbl_list)):\n",
    "\n",
    "    tmp_lbl = lbl_list.pop(0)\n",
    "\n",
    "    create_folder(train_folder+'/subdata'+str(i)+'/images')\n",
    "    create_folder(train_folder+'/subdata'+str(i)+'/labels')\n",
    "    \n",
    "\n",
    "    for label_name in lbl_list:\n",
    "        \n",
    "        lbl1_path = train_folder+'/labels/'+label_name\n",
    "        lbl2_path = train_folder+'/labels/'+tmp_lbl\n",
    "        output_path = train_folder+'/subdata'+str(i)+'/labels/'+'sd_'+str(i)+'_'+label_name[:-9]+'_mask.png'\n",
    "\n",
    "        subtract_binary_images(lbl1_path, lbl2_path, output_path)\n",
    "\n",
    "        image_png = train_folder+'/images/'+label_name\n",
    "        image_jpg = train_folder+'/subdata'+str(i)+'/images/'+'sd_'+str(i)+'_'+label_name[:-9]+'_post.png'\n",
    "\n",
    "        convert_png_to_jpg(image_png,image_jpg)\n",
    "\n",
    "        tmp_img_png = train_folder+'/images/'+tmp_lbl\n",
    "        tmp_img_jpg = train_folder+'/subdata'+str(i)+'/images/'+'sd_'+str(i)+'_'+label_name[:-9]+'_pre.png'\n",
    "\n",
    "        convert_png_to_jpg(tmp_img_png,tmp_img_jpg)\n",
    "\n",
    "    # tmp_img_png = train_folder+'/images/'+tmp_lbl\n",
    "    # tmp_img_jpg = train_folder+'/subdata'+str(i)+'/train/'+'000.jpg'\n",
    "    # convert_png_to_jpg(tmp_img_png,tmp_img_jpg)\n",
    "\n",
    "    # binary_mask = create_empty_binary_mask(1024, 1024)\n",
    "    # binary_mask.save(train_folder+'/subdata'+str(i)+'/train/'+'000_mask.png')\n",
    "\n"
   ]
  },
  {
   "cell_type": "markdown",
   "metadata": {},
   "source": [
    "## Combine total data into one folder"
   ]
  },
  {
   "cell_type": "code",
   "execution_count": 83,
   "metadata": {},
   "outputs": [
    {
     "name": "stdout",
     "output_type": "stream",
     "text": [
      "Created folder: cd_data_park_view_city_c4.v4i.png-mask-semantic/train/data\n"
     ]
    }
   ],
   "source": [
    "create_folder(folder_path_data+'/data')"
   ]
  },
  {
   "cell_type": "code",
   "execution_count": 84,
   "metadata": {},
   "outputs": [],
   "source": [
    "names_list = os.listdir(folder_path_data)[3:]\n",
    "def add_prefix_to_names(names_list, prefix):\n",
    "    # Iterate over each name in the list\n",
    "    for i in range(len(names_list)):\n",
    "        # Concatenate the prefix to the current name\n",
    "        names_list[i] = prefix + names_list[i]\n",
    "\n",
    "# Example usage:\n",
    "# names_list = all_dirs  # List of names\n",
    "prefix = folder_path_data+\"/\"  # Prefix to add to each name\n",
    "\n",
    "add_prefix_to_names(names_list, prefix)"
   ]
  },
  {
   "cell_type": "code",
   "execution_count": 85,
   "metadata": {},
   "outputs": [
    {
     "data": {
      "text/plain": [
       "['cd_data_park_view_city_c4.v4i.png-mask-semantic/train/subdata0',\n",
       " 'cd_data_park_view_city_c4.v4i.png-mask-semantic/train/subdata1',\n",
       " 'cd_data_park_view_city_c4.v4i.png-mask-semantic/train/subdata2',\n",
       " 'cd_data_park_view_city_c4.v4i.png-mask-semantic/train/subdata3',\n",
       " 'cd_data_park_view_city_c4.v4i.png-mask-semantic/train/subdata4',\n",
       " 'cd_data_park_view_city_c4.v4i.png-mask-semantic/train/subdata5',\n",
       " 'cd_data_park_view_city_c4.v4i.png-mask-semantic/train/subdata6',\n",
       " 'cd_data_park_view_city_c4.v4i.png-mask-semantic/train/subdata7',\n",
       " 'cd_data_park_view_city_c4.v4i.png-mask-semantic/train/subdata8',\n",
       " 'cd_data_park_view_city_c4.v4i.png-mask-semantic/train/subdata9',\n",
       " 'cd_data_park_view_city_c4.v4i.png-mask-semantic/train/_classes.csv']"
      ]
     },
     "execution_count": 85,
     "metadata": {},
     "output_type": "execute_result"
    }
   ],
   "source": [
    "# names_list"
   ]
  },
  {
   "cell_type": "code",
   "execution_count": 86,
   "metadata": {},
   "outputs": [],
   "source": [
    "import os\n",
    "import shutil\n",
    "\n",
    "def merge_folders_contents(source_folders, destination_folder):\n",
    "    # Ensure the destination folder exists\n",
    "    if not os.path.exists(destination_folder):\n",
    "        os.makedirs(destination_folder)\n",
    "\n",
    "    # Iterate over each source folder\n",
    "    for source_folder in source_folders:\n",
    "        # Iterate over each file in the source folder\n",
    "        for root, _, files in os.walk(source_folder):\n",
    "            for file in files:\n",
    "                # Get the full path of the file in the source folder\n",
    "                source_file_path = os.path.join(root, file)\n",
    "                # Get the relative path of the file with respect to the source folder\n",
    "                relative_path = os.path.relpath(source_file_path, source_folder)\n",
    "                # Get the full destination path for the file\n",
    "                destination_file_path = os.path.join(destination_folder, relative_path)\n",
    "                # Ensure the directory structure exists in the destination folder\n",
    "                os.makedirs(os.path.dirname(destination_file_path), exist_ok=True)\n",
    "                # Copy the file to the destination folder\n",
    "                shutil.copy(source_file_path, destination_file_path)\n",
    "\n",
    "# Example usage:\n",
    "source_folders = names_list  # List of source folders\n",
    "destination_folder = folder_path_data+'/data'  # Destination folder to merge contents\n",
    "\n",
    "merge_folders_contents(source_folders, destination_folder)\n"
   ]
  },
  {
   "cell_type": "markdown",
   "metadata": {},
   "source": [
    "## Remove Unwanted Label Edges"
   ]
  },
  {
   "cell_type": "code",
   "execution_count": 87,
   "metadata": {},
   "outputs": [],
   "source": [
    "import cv2\n",
    "import glob\n",
    "\n",
    "# read input\n",
    "for fil in glob.glob(folder_path_data+'/data/labels/*.png'):\n",
    "    name = fil.split('/')[-1]\n",
    "    img = cv2.imread(fil)\n",
    "\n",
    "    img[img>=1]=255\n",
    "\n",
    "    # convert to grayscale\n",
    "    gray = cv2.cvtColor(img, cv2.COLOR_BGR2GRAY)\n",
    "    # use thresholding\n",
    "    thresh = cv2.threshold(gray, 0, 255, cv2.THRESH_BINARY+cv2.THRESH_OTSU)[1]\n",
    "    kernel = cv2.getStructuringElement(cv2.MORPH_ELLIPSE, (20,20))\n",
    "    output = cv2.morphologyEx(thresh, cv2.MORPH_OPEN, kernel)\n",
    "    # output[output==255]=1\n",
    "    cv2.imwrite(folder_path_data+'/data/'+name, output)\n"
   ]
  },
  {
   "cell_type": "markdown",
   "metadata": {},
   "source": [
    "## Remove Unwanted Folders"
   ]
  },
  {
   "cell_type": "code",
   "execution_count": 88,
   "metadata": {},
   "outputs": [],
   "source": [
    "names_list = os.listdir(folder_path_data)[1:]\n",
    "def add_prefix_to_names(names_list, prefix):\n",
    "    # Iterate over each name in the list\n",
    "    for i in range(len(names_list)):\n",
    "        # Concatenate the prefix to the current name\n",
    "        names_list[i] = prefix + names_list[i]\n",
    "\n",
    "# Example usage:\n",
    "# names_list = all_dirs  # List of names\n",
    "prefix = folder_path_data+\"/\"  # Prefix to add to each name\n",
    "\n",
    "add_prefix_to_names(names_list, prefix)"
   ]
  },
  {
   "cell_type": "code",
   "execution_count": 89,
   "metadata": {},
   "outputs": [
    {
     "data": {
      "text/plain": [
       "['cd_data_park_view_city_c4.v4i.png-mask-semantic/train/images',\n",
       " 'cd_data_park_view_city_c4.v4i.png-mask-semantic/train/labels',\n",
       " 'cd_data_park_view_city_c4.v4i.png-mask-semantic/train/subdata0',\n",
       " 'cd_data_park_view_city_c4.v4i.png-mask-semantic/train/subdata1',\n",
       " 'cd_data_park_view_city_c4.v4i.png-mask-semantic/train/subdata2',\n",
       " 'cd_data_park_view_city_c4.v4i.png-mask-semantic/train/subdata3',\n",
       " 'cd_data_park_view_city_c4.v4i.png-mask-semantic/train/subdata4',\n",
       " 'cd_data_park_view_city_c4.v4i.png-mask-semantic/train/subdata5',\n",
       " 'cd_data_park_view_city_c4.v4i.png-mask-semantic/train/subdata6',\n",
       " 'cd_data_park_view_city_c4.v4i.png-mask-semantic/train/subdata7',\n",
       " 'cd_data_park_view_city_c4.v4i.png-mask-semantic/train/subdata8',\n",
       " 'cd_data_park_view_city_c4.v4i.png-mask-semantic/train/subdata9',\n",
       " 'cd_data_park_view_city_c4.v4i.png-mask-semantic/train/_classes.csv']"
      ]
     },
     "execution_count": 89,
     "metadata": {},
     "output_type": "execute_result"
    }
   ],
   "source": [
    "# names_list"
   ]
  },
  {
   "cell_type": "code",
   "execution_count": 90,
   "metadata": {},
   "outputs": [],
   "source": [
    "def remove_item(item_path):\n",
    "    try:\n",
    "        if os.path.isfile(item_path):\n",
    "            os.remove(item_path)\n",
    "            print(f\"File '{item_path}' removed successfully.\")\n",
    "        elif os.path.isdir(item_path):\n",
    "            shutil.rmtree(item_path)\n",
    "            print(f\"Folder '{item_path}' removed successfully.\")\n",
    "        else:\n",
    "            print(f\"'{item_path}' is not a valid file or folder.\")\n",
    "    except OSError as e:\n",
    "        print(f\"Error: {e}\")\n",
    "        "
   ]
  },
  {
   "cell_type": "code",
   "execution_count": 91,
   "metadata": {},
   "outputs": [
    {
     "name": "stdout",
     "output_type": "stream",
     "text": [
      "Folder 'cd_data_park_view_city_c4.v4i.png-mask-semantic/train/images' removed successfully.\n",
      "Folder 'cd_data_park_view_city_c4.v4i.png-mask-semantic/train/labels' removed successfully.\n",
      "Folder 'cd_data_park_view_city_c4.v4i.png-mask-semantic/train/subdata0' removed successfully.\n",
      "Folder 'cd_data_park_view_city_c4.v4i.png-mask-semantic/train/subdata1' removed successfully.\n",
      "Folder 'cd_data_park_view_city_c4.v4i.png-mask-semantic/train/subdata2' removed successfully.\n",
      "Folder 'cd_data_park_view_city_c4.v4i.png-mask-semantic/train/subdata3' removed successfully.\n",
      "Folder 'cd_data_park_view_city_c4.v4i.png-mask-semantic/train/subdata4' removed successfully.\n",
      "Folder 'cd_data_park_view_city_c4.v4i.png-mask-semantic/train/subdata5' removed successfully.\n",
      "Folder 'cd_data_park_view_city_c4.v4i.png-mask-semantic/train/subdata6' removed successfully.\n",
      "Folder 'cd_data_park_view_city_c4.v4i.png-mask-semantic/train/subdata7' removed successfully.\n",
      "Folder 'cd_data_park_view_city_c4.v4i.png-mask-semantic/train/subdata8' removed successfully.\n",
      "Folder 'cd_data_park_view_city_c4.v4i.png-mask-semantic/train/subdata9' removed successfully.\n",
      "File 'cd_data_park_view_city_c4.v4i.png-mask-semantic/train/_classes.csv' removed successfully.\n"
     ]
    }
   ],
   "source": [
    "for folder_to_del in names_list:\n",
    "    remove_item(folder_to_del)"
   ]
  },
  {
   "cell_type": "markdown",
   "metadata": {},
   "source": [
    "## Moving Data"
   ]
  },
  {
   "cell_type": "code",
   "execution_count": 92,
   "metadata": {},
   "outputs": [
    {
     "name": "stdout",
     "output_type": "stream",
     "text": [
      "Moved 'cd_data_park_view_city_c4.v4i.png-mask-semantic/train/data\\images' to 'cd_data_park_view_city_c4.v4i.png-mask-semantic/train\\images'\n",
      "Moved 'cd_data_park_view_city_c4.v4i.png-mask-semantic/train/data\\labels' to 'cd_data_park_view_city_c4.v4i.png-mask-semantic/train\\labels'\n"
     ]
    }
   ],
   "source": [
    "import shutil\n",
    "import os\n",
    "\n",
    "def move_data(source_folder, destination_folder):\n",
    "    try:\n",
    "        # Iterate over all items in the source folder\n",
    "        for item in os.listdir(source_folder):\n",
    "            # Get the full path of the item\n",
    "            source_item_path = os.path.join(source_folder, item)\n",
    "            # Get the destination path for the item\n",
    "            destination_item_path = os.path.join(destination_folder, item)\n",
    "            # Move the item to the destination\n",
    "            shutil.move(source_item_path, destination_item_path)\n",
    "            print(f\"Moved '{source_item_path}' to '{destination_item_path}'\")\n",
    "    except OSError as e:\n",
    "        print(f\"Error: {e}\")\n",
    "\n",
    "# Example usage\n",
    "source_folder = folder_path_data+'/data'\n",
    "destination_folder = folder_path_data\n",
    "move_data(source_folder, destination_folder)\n"
   ]
  },
  {
   "cell_type": "code",
   "execution_count": 93,
   "metadata": {},
   "outputs": [
    {
     "name": "stdout",
     "output_type": "stream",
     "text": [
      "Folder 'cd_data_park_view_city_c4.v4i.png-mask-semantic/train/data' removed successfully.\n"
     ]
    }
   ],
   "source": [
    "remove_item(folder_path_data+'/data')"
   ]
  },
  {
   "cell_type": "markdown",
   "metadata": {},
   "source": [
    "## Merging alldata to 'data' folder"
   ]
  },
  {
   "cell_type": "code",
   "execution_count": 100,
   "metadata": {},
   "outputs": [
    {
     "name": "stdout",
     "output_type": "stream",
     "text": [
      "Deleted existing folder: data\n",
      "Created folder: data\n"
     ]
    }
   ],
   "source": [
    "create_folder('data')"
   ]
  },
  {
   "cell_type": "code",
   "execution_count": 101,
   "metadata": {},
   "outputs": [],
   "source": [
    "merge_folders_contents(folders,'data')"
   ]
  },
  {
   "cell_type": "code",
   "execution_count": null,
   "metadata": {},
   "outputs": [],
   "source": []
  }
 ],
 "metadata": {
  "kernelspec": {
   "display_name": "Python 3",
   "language": "python",
   "name": "python3"
  },
  "language_info": {
   "codemirror_mode": {
    "name": "ipython",
    "version": 3
   },
   "file_extension": ".py",
   "mimetype": "text/x-python",
   "name": "python",
   "nbconvert_exporter": "python",
   "pygments_lexer": "ipython3",
   "version": "3.11.8"
  }
 },
 "nbformat": 4,
 "nbformat_minor": 2
}
