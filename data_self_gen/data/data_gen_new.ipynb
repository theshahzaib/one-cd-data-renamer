{
 "cells": [
  {
   "cell_type": "markdown",
   "metadata": {},
   "source": [
    "Removing Images and labels of pre"
   ]
  },
  {
   "cell_type": "code",
   "execution_count": 17,
   "metadata": {},
   "outputs": [],
   "source": [
    "import os\n",
    "data1 = os.listdir('./')\n",
    "folders = [item for item in data1 if os.path.isdir(os.path.join('./', item))]"
   ]
  },
  {
   "cell_type": "code",
   "execution_count": 20,
   "metadata": {},
   "outputs": [
    {
     "data": {
      "text/plain": [
       "['bolari_patch_1_1.v1i.png-mask-semantic',\n",
       " 'bolari_patch_1_1.v2i.png-mask-semantic',\n",
       " 'cd_data_newcity_wah_c4.v2i.png-mask-semantic',\n",
       " 'park_view_p1_c4.v2i.png-mask-semantic',\n",
       " 'park_view_p2_c4.v2i.png-mask-semantic']"
      ]
     },
     "execution_count": 20,
     "metadata": {},
     "output_type": "execute_result"
    }
   ],
   "source": [
    "folders"
   ]
  },
  {
   "cell_type": "code",
   "execution_count": 49,
   "metadata": {},
   "outputs": [],
   "source": [
    "folder_path_data = folders[4]+'/train'"
   ]
  },
  {
   "cell_type": "code",
   "execution_count": 50,
   "metadata": {},
   "outputs": [
    {
     "name": "stdout",
     "output_type": "stream",
     "text": [
      "Deleted park_view_p2_c4.v2i.png-mask-semantic/train/images\\park_view_city_0202_patch_0_2_png_rf_7898a610b59f87327568bccc15c132f7_pre.png\n",
      "Deleted park_view_p2_c4.v2i.png-mask-semantic/train/images\\park_view_city_1212_patch_0_2_png_rf_6f747fa103aabb610827fcbfeae46d49_pre.png\n",
      "Deleted park_view_p2_c4.v2i.png-mask-semantic/train/images\\park_view_city_1607_patch_0_2_png_rf_0886615ab7a636c3cecb75f34627940c_pre.png\n",
      "Deleted park_view_p2_c4.v2i.png-mask-semantic/train/images\\park_view_city_1703_patch_0_2_png_rf_acabccbcd7ba8953666b5a6d18e2616a_pre.png\n",
      "Deleted park_view_p2_c4.v2i.png-mask-semantic/train/images\\park_view_city_1903_patch_0_2_png_rf_715a1aca5f31165614c210fdb868320b_pre.png\n",
      "Deleted park_view_p2_c4.v2i.png-mask-semantic/train/images\\park_view_city_2005_patch_0_2_png_rf_23511e600667fa225d1264c1bdf438f8_pre.png\n",
      "Deleted park_view_p2_c4.v2i.png-mask-semantic/train/images\\park_view_city_2106_patch_0_2_png_rf_5aa64f9e66ae40d4af5fc8f4f8ff3ade_pre.png\n",
      "Deleted park_view_p2_c4.v2i.png-mask-semantic/train/images\\park_view_city_2204_patch_0_2_png_rf_fd1ce0f067a09201f08b86e0345705c6_pre.png\n",
      "Deleted park_view_p2_c4.v2i.png-mask-semantic/train/images\\park_view_city_2212_patch_0_2_png_rf_f64c9c5f7774683ae6251fa795cebb6d_pre.png\n",
      "Deleted park_view_p2_c4.v2i.png-mask-semantic/train/images\\park_view_city_2306_patch_0_2_png_rf_66ce54c5981ec643423cfdbb94072046_pre.png\n",
      "Deleted park_view_p2_c4.v2i.png-mask-semantic/train/labels\\park_view_city_0202_patch_0_2_png_rf_7898a610b59f87327568bccc15c132f7_pre.png\n",
      "Deleted park_view_p2_c4.v2i.png-mask-semantic/train/labels\\park_view_city_1212_patch_0_2_png_rf_6f747fa103aabb610827fcbfeae46d49_pre.png\n",
      "Deleted park_view_p2_c4.v2i.png-mask-semantic/train/labels\\park_view_city_1607_patch_0_2_png_rf_0886615ab7a636c3cecb75f34627940c_pre.png\n",
      "Deleted park_view_p2_c4.v2i.png-mask-semantic/train/labels\\park_view_city_1703_patch_0_2_png_rf_acabccbcd7ba8953666b5a6d18e2616a_pre.png\n",
      "Deleted park_view_p2_c4.v2i.png-mask-semantic/train/labels\\park_view_city_1903_patch_0_2_png_rf_715a1aca5f31165614c210fdb868320b_pre.png\n",
      "Deleted park_view_p2_c4.v2i.png-mask-semantic/train/labels\\park_view_city_2005_patch_0_2_png_rf_23511e600667fa225d1264c1bdf438f8_pre.png\n",
      "Deleted park_view_p2_c4.v2i.png-mask-semantic/train/labels\\park_view_city_2106_patch_0_2_png_rf_5aa64f9e66ae40d4af5fc8f4f8ff3ade_pre.png\n",
      "Deleted park_view_p2_c4.v2i.png-mask-semantic/train/labels\\park_view_city_2204_patch_0_2_png_rf_fd1ce0f067a09201f08b86e0345705c6_pre.png\n",
      "Deleted park_view_p2_c4.v2i.png-mask-semantic/train/labels\\park_view_city_2212_patch_0_2_png_rf_f64c9c5f7774683ae6251fa795cebb6d_pre.png\n",
      "Deleted park_view_p2_c4.v2i.png-mask-semantic/train/labels\\park_view_city_2306_patch_0_2_png_rf_66ce54c5981ec643423cfdbb94072046_pre.png\n"
     ]
    }
   ],
   "source": [
    "import os\n",
    "import glob\n",
    "\n",
    "def delete_images_with_keyword(folder_path, keyword):\n",
    "    # Get a list of image files in the folder\n",
    "    image_files = glob.glob(os.path.join(folder_path, '*.jpg')) + glob.glob(os.path.join(folder_path, '*.png'))\n",
    "\n",
    "    # Iterate through each image file\n",
    "    for image_file in image_files:\n",
    "        # Check if the keyword is in the file name\n",
    "        if keyword in os.path.basename(image_file):\n",
    "            # Delete the image file\n",
    "            os.remove(image_file)\n",
    "            print(f\"Deleted {image_file}\")\n",
    "\n",
    "# Replace 'folder_path' with the path to your folder containing images\n",
    "folder_path = folder_path_data+'/images'\n",
    "# Replace 'pre' with your keyword\n",
    "keyword = 'pre'\n",
    "\n",
    "# Call the function to delete images with the specified keyword\n",
    "delete_images_with_keyword(folder_path, keyword)\n",
    "\n",
    "# Replace 'folder_path' with the path to your folder containing images\n",
    "folder_path = folder_path_data+'/labels'\n",
    "delete_images_with_keyword(folder_path, keyword)\n"
   ]
  },
  {
   "cell_type": "markdown",
   "metadata": {},
   "source": [
    "## Subtract from all images"
   ]
  },
  {
   "cell_type": "markdown",
   "metadata": {},
   "source": [
    "## Main SubData Images & Label Gen Code"
   ]
  },
  {
   "cell_type": "code",
   "execution_count": 51,
   "metadata": {},
   "outputs": [
    {
     "name": "stdout",
     "output_type": "stream",
     "text": [
      "Created folder: park_view_p2_c4.v2i.png-mask-semantic/train/subdata0/images\n",
      "Created folder: park_view_p2_c4.v2i.png-mask-semantic/train/subdata0/labels\n",
      "Subtracted images and saved result to 'park_view_p2_c4.v2i.png-mask-semantic/train/subdata0/labels/sd_0_park_view_city_1212_patch_0_2_png_rf_6f747fa103aabb610827fcbfeae46d49_mask.png'\n",
      "Subtracted images and saved result to 'park_view_p2_c4.v2i.png-mask-semantic/train/subdata0/labels/sd_0_park_view_city_1607_patch_0_2_png_rf_0886615ab7a636c3cecb75f34627940c_mask.png'\n",
      "Subtracted images and saved result to 'park_view_p2_c4.v2i.png-mask-semantic/train/subdata0/labels/sd_0_park_view_city_1703_patch_0_2_png_rf_acabccbcd7ba8953666b5a6d18e2616a_mask.png'\n",
      "Subtracted images and saved result to 'park_view_p2_c4.v2i.png-mask-semantic/train/subdata0/labels/sd_0_park_view_city_1903_patch_0_2_png_rf_715a1aca5f31165614c210fdb868320b_mask.png'\n",
      "Subtracted images and saved result to 'park_view_p2_c4.v2i.png-mask-semantic/train/subdata0/labels/sd_0_park_view_city_2005_patch_0_2_png_rf_23511e600667fa225d1264c1bdf438f8_mask.png'\n",
      "Subtracted images and saved result to 'park_view_p2_c4.v2i.png-mask-semantic/train/subdata0/labels/sd_0_park_view_city_2106_patch_0_2_png_rf_5aa64f9e66ae40d4af5fc8f4f8ff3ade_mask.png'\n",
      "Subtracted images and saved result to 'park_view_p2_c4.v2i.png-mask-semantic/train/subdata0/labels/sd_0_park_view_city_2204_patch_0_2_png_rf_fd1ce0f067a09201f08b86e0345705c6_mask.png'\n",
      "Subtracted images and saved result to 'park_view_p2_c4.v2i.png-mask-semantic/train/subdata0/labels/sd_0_park_view_city_2212_patch_0_2_png_rf_f64c9c5f7774683ae6251fa795cebb6d_mask.png'\n",
      "Subtracted images and saved result to 'park_view_p2_c4.v2i.png-mask-semantic/train/subdata0/labels/sd_0_park_view_city_2306_patch_0_2_png_rf_66ce54c5981ec643423cfdbb94072046_mask.png'\n",
      "Created folder: park_view_p2_c4.v2i.png-mask-semantic/train/subdata1/images\n",
      "Created folder: park_view_p2_c4.v2i.png-mask-semantic/train/subdata1/labels\n",
      "Subtracted images and saved result to 'park_view_p2_c4.v2i.png-mask-semantic/train/subdata1/labels/sd_1_park_view_city_1607_patch_0_2_png_rf_0886615ab7a636c3cecb75f34627940c_mask.png'\n",
      "Subtracted images and saved result to 'park_view_p2_c4.v2i.png-mask-semantic/train/subdata1/labels/sd_1_park_view_city_1703_patch_0_2_png_rf_acabccbcd7ba8953666b5a6d18e2616a_mask.png'\n",
      "Subtracted images and saved result to 'park_view_p2_c4.v2i.png-mask-semantic/train/subdata1/labels/sd_1_park_view_city_1903_patch_0_2_png_rf_715a1aca5f31165614c210fdb868320b_mask.png'\n",
      "Subtracted images and saved result to 'park_view_p2_c4.v2i.png-mask-semantic/train/subdata1/labels/sd_1_park_view_city_2005_patch_0_2_png_rf_23511e600667fa225d1264c1bdf438f8_mask.png'\n",
      "Subtracted images and saved result to 'park_view_p2_c4.v2i.png-mask-semantic/train/subdata1/labels/sd_1_park_view_city_2106_patch_0_2_png_rf_5aa64f9e66ae40d4af5fc8f4f8ff3ade_mask.png'\n",
      "Subtracted images and saved result to 'park_view_p2_c4.v2i.png-mask-semantic/train/subdata1/labels/sd_1_park_view_city_2204_patch_0_2_png_rf_fd1ce0f067a09201f08b86e0345705c6_mask.png'\n",
      "Subtracted images and saved result to 'park_view_p2_c4.v2i.png-mask-semantic/train/subdata1/labels/sd_1_park_view_city_2212_patch_0_2_png_rf_f64c9c5f7774683ae6251fa795cebb6d_mask.png'\n",
      "Subtracted images and saved result to 'park_view_p2_c4.v2i.png-mask-semantic/train/subdata1/labels/sd_1_park_view_city_2306_patch_0_2_png_rf_66ce54c5981ec643423cfdbb94072046_mask.png'\n",
      "Created folder: park_view_p2_c4.v2i.png-mask-semantic/train/subdata2/images\n",
      "Created folder: park_view_p2_c4.v2i.png-mask-semantic/train/subdata2/labels\n",
      "Subtracted images and saved result to 'park_view_p2_c4.v2i.png-mask-semantic/train/subdata2/labels/sd_2_park_view_city_1703_patch_0_2_png_rf_acabccbcd7ba8953666b5a6d18e2616a_mask.png'\n",
      "Subtracted images and saved result to 'park_view_p2_c4.v2i.png-mask-semantic/train/subdata2/labels/sd_2_park_view_city_1903_patch_0_2_png_rf_715a1aca5f31165614c210fdb868320b_mask.png'\n",
      "Subtracted images and saved result to 'park_view_p2_c4.v2i.png-mask-semantic/train/subdata2/labels/sd_2_park_view_city_2005_patch_0_2_png_rf_23511e600667fa225d1264c1bdf438f8_mask.png'\n",
      "Subtracted images and saved result to 'park_view_p2_c4.v2i.png-mask-semantic/train/subdata2/labels/sd_2_park_view_city_2106_patch_0_2_png_rf_5aa64f9e66ae40d4af5fc8f4f8ff3ade_mask.png'\n",
      "Subtracted images and saved result to 'park_view_p2_c4.v2i.png-mask-semantic/train/subdata2/labels/sd_2_park_view_city_2204_patch_0_2_png_rf_fd1ce0f067a09201f08b86e0345705c6_mask.png'\n",
      "Subtracted images and saved result to 'park_view_p2_c4.v2i.png-mask-semantic/train/subdata2/labels/sd_2_park_view_city_2212_patch_0_2_png_rf_f64c9c5f7774683ae6251fa795cebb6d_mask.png'\n",
      "Subtracted images and saved result to 'park_view_p2_c4.v2i.png-mask-semantic/train/subdata2/labels/sd_2_park_view_city_2306_patch_0_2_png_rf_66ce54c5981ec643423cfdbb94072046_mask.png'\n",
      "Created folder: park_view_p2_c4.v2i.png-mask-semantic/train/subdata3/images\n",
      "Created folder: park_view_p2_c4.v2i.png-mask-semantic/train/subdata3/labels\n",
      "Subtracted images and saved result to 'park_view_p2_c4.v2i.png-mask-semantic/train/subdata3/labels/sd_3_park_view_city_1903_patch_0_2_png_rf_715a1aca5f31165614c210fdb868320b_mask.png'\n",
      "Subtracted images and saved result to 'park_view_p2_c4.v2i.png-mask-semantic/train/subdata3/labels/sd_3_park_view_city_2005_patch_0_2_png_rf_23511e600667fa225d1264c1bdf438f8_mask.png'\n",
      "Subtracted images and saved result to 'park_view_p2_c4.v2i.png-mask-semantic/train/subdata3/labels/sd_3_park_view_city_2106_patch_0_2_png_rf_5aa64f9e66ae40d4af5fc8f4f8ff3ade_mask.png'\n",
      "Subtracted images and saved result to 'park_view_p2_c4.v2i.png-mask-semantic/train/subdata3/labels/sd_3_park_view_city_2204_patch_0_2_png_rf_fd1ce0f067a09201f08b86e0345705c6_mask.png'\n",
      "Subtracted images and saved result to 'park_view_p2_c4.v2i.png-mask-semantic/train/subdata3/labels/sd_3_park_view_city_2212_patch_0_2_png_rf_f64c9c5f7774683ae6251fa795cebb6d_mask.png'\n",
      "Subtracted images and saved result to 'park_view_p2_c4.v2i.png-mask-semantic/train/subdata3/labels/sd_3_park_view_city_2306_patch_0_2_png_rf_66ce54c5981ec643423cfdbb94072046_mask.png'\n",
      "Created folder: park_view_p2_c4.v2i.png-mask-semantic/train/subdata4/images\n",
      "Created folder: park_view_p2_c4.v2i.png-mask-semantic/train/subdata4/labels\n",
      "Subtracted images and saved result to 'park_view_p2_c4.v2i.png-mask-semantic/train/subdata4/labels/sd_4_park_view_city_2005_patch_0_2_png_rf_23511e600667fa225d1264c1bdf438f8_mask.png'\n",
      "Subtracted images and saved result to 'park_view_p2_c4.v2i.png-mask-semantic/train/subdata4/labels/sd_4_park_view_city_2106_patch_0_2_png_rf_5aa64f9e66ae40d4af5fc8f4f8ff3ade_mask.png'\n",
      "Subtracted images and saved result to 'park_view_p2_c4.v2i.png-mask-semantic/train/subdata4/labels/sd_4_park_view_city_2204_patch_0_2_png_rf_fd1ce0f067a09201f08b86e0345705c6_mask.png'\n",
      "Subtracted images and saved result to 'park_view_p2_c4.v2i.png-mask-semantic/train/subdata4/labels/sd_4_park_view_city_2212_patch_0_2_png_rf_f64c9c5f7774683ae6251fa795cebb6d_mask.png'\n",
      "Subtracted images and saved result to 'park_view_p2_c4.v2i.png-mask-semantic/train/subdata4/labels/sd_4_park_view_city_2306_patch_0_2_png_rf_66ce54c5981ec643423cfdbb94072046_mask.png'\n",
      "Created folder: park_view_p2_c4.v2i.png-mask-semantic/train/subdata5/images\n",
      "Created folder: park_view_p2_c4.v2i.png-mask-semantic/train/subdata5/labels\n",
      "Subtracted images and saved result to 'park_view_p2_c4.v2i.png-mask-semantic/train/subdata5/labels/sd_5_park_view_city_2106_patch_0_2_png_rf_5aa64f9e66ae40d4af5fc8f4f8ff3ade_mask.png'\n",
      "Subtracted images and saved result to 'park_view_p2_c4.v2i.png-mask-semantic/train/subdata5/labels/sd_5_park_view_city_2204_patch_0_2_png_rf_fd1ce0f067a09201f08b86e0345705c6_mask.png'\n",
      "Subtracted images and saved result to 'park_view_p2_c4.v2i.png-mask-semantic/train/subdata5/labels/sd_5_park_view_city_2212_patch_0_2_png_rf_f64c9c5f7774683ae6251fa795cebb6d_mask.png'\n",
      "Subtracted images and saved result to 'park_view_p2_c4.v2i.png-mask-semantic/train/subdata5/labels/sd_5_park_view_city_2306_patch_0_2_png_rf_66ce54c5981ec643423cfdbb94072046_mask.png'\n",
      "Created folder: park_view_p2_c4.v2i.png-mask-semantic/train/subdata6/images\n",
      "Created folder: park_view_p2_c4.v2i.png-mask-semantic/train/subdata6/labels\n",
      "Subtracted images and saved result to 'park_view_p2_c4.v2i.png-mask-semantic/train/subdata6/labels/sd_6_park_view_city_2204_patch_0_2_png_rf_fd1ce0f067a09201f08b86e0345705c6_mask.png'\n",
      "Subtracted images and saved result to 'park_view_p2_c4.v2i.png-mask-semantic/train/subdata6/labels/sd_6_park_view_city_2212_patch_0_2_png_rf_f64c9c5f7774683ae6251fa795cebb6d_mask.png'\n",
      "Subtracted images and saved result to 'park_view_p2_c4.v2i.png-mask-semantic/train/subdata6/labels/sd_6_park_view_city_2306_patch_0_2_png_rf_66ce54c5981ec643423cfdbb94072046_mask.png'\n",
      "Created folder: park_view_p2_c4.v2i.png-mask-semantic/train/subdata7/images\n",
      "Created folder: park_view_p2_c4.v2i.png-mask-semantic/train/subdata7/labels\n",
      "Subtracted images and saved result to 'park_view_p2_c4.v2i.png-mask-semantic/train/subdata7/labels/sd_7_park_view_city_2212_patch_0_2_png_rf_f64c9c5f7774683ae6251fa795cebb6d_mask.png'\n",
      "Subtracted images and saved result to 'park_view_p2_c4.v2i.png-mask-semantic/train/subdata7/labels/sd_7_park_view_city_2306_patch_0_2_png_rf_66ce54c5981ec643423cfdbb94072046_mask.png'\n",
      "Created folder: park_view_p2_c4.v2i.png-mask-semantic/train/subdata8/images\n",
      "Created folder: park_view_p2_c4.v2i.png-mask-semantic/train/subdata8/labels\n",
      "Subtracted images and saved result to 'park_view_p2_c4.v2i.png-mask-semantic/train/subdata8/labels/sd_8_park_view_city_2306_patch_0_2_png_rf_66ce54c5981ec643423cfdbb94072046_mask.png'\n",
      "Created folder: park_view_p2_c4.v2i.png-mask-semantic/train/subdata9/images\n",
      "Created folder: park_view_p2_c4.v2i.png-mask-semantic/train/subdata9/labels\n"
     ]
    }
   ],
   "source": [
    "import os, shutil\n",
    "from PIL import Image\n",
    "import cv2\n",
    "\n",
    "train_folder = folder_path_data\n",
    "#####\n",
    "lbl_list = os.listdir(train_folder+'/labels')\n",
    "#####\n",
    "def subtract_binary_images(image1_path, image2_path, output_path):\n",
    "    image1 = cv2.imread(image1_path, cv2.IMREAD_GRAYSCALE)\n",
    "    image2 = cv2.imread(image2_path, cv2.IMREAD_GRAYSCALE)\n",
    "    if image1.shape != image2.shape:\n",
    "        print(\"Error: Images must have the same dimensions.\")\n",
    "        return\n",
    "    result = cv2.subtract(image1, image2)\n",
    "    cv2.imwrite(output_path, result)\n",
    "    print(f\"Subtracted images and saved result to '{output_path}'\")\n",
    "\n",
    "def create_directory_if_not_exists(directory):\n",
    "    if not os.path.exists(directory):\n",
    "        os.makedirs(directory)\n",
    "        print(f\"Directory '{directory}' created.\")\n",
    "    else:\n",
    "        print(f\"Directory '{directory}' already exists. Skipping creation.\")\n",
    "\n",
    "def create_folder(folder_path):\n",
    "    if os.path.exists(folder_path):\n",
    "        shutil.rmtree(folder_path)\n",
    "        print(f\"Deleted existing folder: {folder_path}\")\n",
    "    os.makedirs(folder_path)\n",
    "    print(f\"Created folder: {folder_path}\")\n",
    "\n",
    "def convert_png_to_jpg(png_path, jpg_path):\n",
    "    png_image = Image.open(png_path)\n",
    "    if png_image.mode in ('RGBA', 'LA'):\n",
    "        png_image = png_image.convert('RGB')\n",
    "    png_image.save(jpg_path, format='JPEG', quality=100)\n",
    "\n",
    "def create_empty_binary_mask(width, height):\n",
    "    # Create a new black image (mode '1' for binary)\n",
    "    # Create a new black image (mode 'L' for 8-bit grayscale)\n",
    "    mask = Image.new('L', (width, height), color=0)\n",
    "    return mask\n",
    "\n",
    "\n",
    "lbl_list = os.listdir(train_folder+'/labels')\n",
    "\n",
    "for i in range(len(lbl_list)):\n",
    "\n",
    "    tmp_lbl = lbl_list.pop(0)\n",
    "\n",
    "    create_folder(train_folder+'/subdata'+str(i)+'/images')\n",
    "    create_folder(train_folder+'/subdata'+str(i)+'/labels')\n",
    "    \n",
    "\n",
    "    for label_name in lbl_list:\n",
    "        \n",
    "        lbl1_path = train_folder+'/labels/'+label_name\n",
    "        lbl2_path = train_folder+'/labels/'+tmp_lbl\n",
    "        output_path = train_folder+'/subdata'+str(i)+'/labels/'+'sd_'+str(i)+'_'+label_name[:-9]+'_mask.png'\n",
    "\n",
    "        subtract_binary_images(lbl1_path, lbl2_path, output_path)\n",
    "\n",
    "        image_png = train_folder+'/images/'+label_name\n",
    "        image_jpg = train_folder+'/subdata'+str(i)+'/images/'+'sd_'+str(i)+'_'+label_name[:-9]+'_post.png'\n",
    "\n",
    "        convert_png_to_jpg(image_png,image_jpg)\n",
    "\n",
    "        tmp_img_png = train_folder+'/images/'+tmp_lbl\n",
    "        tmp_img_jpg = train_folder+'/subdata'+str(i)+'/images/'+'sd_'+str(i)+'_'+label_name[:-9]+'_pre.png'\n",
    "\n",
    "        convert_png_to_jpg(tmp_img_png,tmp_img_jpg)\n",
    "\n",
    "    # tmp_img_png = train_folder+'/images/'+tmp_lbl\n",
    "    # tmp_img_jpg = train_folder+'/subdata'+str(i)+'/train/'+'000.jpg'\n",
    "    # convert_png_to_jpg(tmp_img_png,tmp_img_jpg)\n",
    "\n",
    "    # binary_mask = create_empty_binary_mask(1024, 1024)\n",
    "    # binary_mask.save(train_folder+'/subdata'+str(i)+'/train/'+'000_mask.png')\n",
    "\n"
   ]
  },
  {
   "cell_type": "markdown",
   "metadata": {},
   "source": [
    "## Combine total data into one folder"
   ]
  },
  {
   "cell_type": "code",
   "execution_count": 52,
   "metadata": {},
   "outputs": [
    {
     "name": "stdout",
     "output_type": "stream",
     "text": [
      "Created folder: park_view_p2_c4.v2i.png-mask-semantic/train/data\n"
     ]
    }
   ],
   "source": [
    "create_folder(folder_path_data+'/data')"
   ]
  },
  {
   "cell_type": "code",
   "execution_count": 53,
   "metadata": {},
   "outputs": [],
   "source": [
    "names_list = os.listdir(folder_path_data)[3:]\n",
    "def add_prefix_to_names(names_list, prefix):\n",
    "    # Iterate over each name in the list\n",
    "    for i in range(len(names_list)):\n",
    "        # Concatenate the prefix to the current name\n",
    "        names_list[i] = prefix + names_list[i]\n",
    "\n",
    "# Example usage:\n",
    "# names_list = all_dirs  # List of names\n",
    "prefix = folder_path_data+\"/\"  # Prefix to add to each name\n",
    "\n",
    "add_prefix_to_names(names_list, prefix)"
   ]
  },
  {
   "cell_type": "code",
   "execution_count": 54,
   "metadata": {},
   "outputs": [
    {
     "data": {
      "text/plain": [
       "['park_view_p2_c4.v2i.png-mask-semantic/train/subdata0',\n",
       " 'park_view_p2_c4.v2i.png-mask-semantic/train/subdata1',\n",
       " 'park_view_p2_c4.v2i.png-mask-semantic/train/subdata2',\n",
       " 'park_view_p2_c4.v2i.png-mask-semantic/train/subdata3',\n",
       " 'park_view_p2_c4.v2i.png-mask-semantic/train/subdata4',\n",
       " 'park_view_p2_c4.v2i.png-mask-semantic/train/subdata5',\n",
       " 'park_view_p2_c4.v2i.png-mask-semantic/train/subdata6',\n",
       " 'park_view_p2_c4.v2i.png-mask-semantic/train/subdata7',\n",
       " 'park_view_p2_c4.v2i.png-mask-semantic/train/subdata8',\n",
       " 'park_view_p2_c4.v2i.png-mask-semantic/train/subdata9',\n",
       " 'park_view_p2_c4.v2i.png-mask-semantic/train/_classes.csv']"
      ]
     },
     "execution_count": 54,
     "metadata": {},
     "output_type": "execute_result"
    }
   ],
   "source": [
    "names_list"
   ]
  },
  {
   "cell_type": "code",
   "execution_count": 55,
   "metadata": {},
   "outputs": [],
   "source": [
    "import os\n",
    "import shutil\n",
    "\n",
    "def merge_folders_contents(source_folders, destination_folder):\n",
    "    # Ensure the destination folder exists\n",
    "    if not os.path.exists(destination_folder):\n",
    "        os.makedirs(destination_folder)\n",
    "\n",
    "    # Iterate over each source folder\n",
    "    for source_folder in source_folders:\n",
    "        # Iterate over each file in the source folder\n",
    "        for root, _, files in os.walk(source_folder):\n",
    "            for file in files:\n",
    "                # Get the full path of the file in the source folder\n",
    "                source_file_path = os.path.join(root, file)\n",
    "                # Get the relative path of the file with respect to the source folder\n",
    "                relative_path = os.path.relpath(source_file_path, source_folder)\n",
    "                # Get the full destination path for the file\n",
    "                destination_file_path = os.path.join(destination_folder, relative_path)\n",
    "                # Ensure the directory structure exists in the destination folder\n",
    "                os.makedirs(os.path.dirname(destination_file_path), exist_ok=True)\n",
    "                # Copy the file to the destination folder\n",
    "                shutil.copy(source_file_path, destination_file_path)\n",
    "\n",
    "# Example usage:\n",
    "source_folders = names_list  # List of source folders\n",
    "destination_folder = folder_path_data+'/data'  # Destination folder to merge contents\n",
    "\n",
    "merge_folders_contents(source_folders, destination_folder)\n"
   ]
  },
  {
   "cell_type": "markdown",
   "metadata": {},
   "source": [
    "## Remove Unwanted Label Edges"
   ]
  },
  {
   "cell_type": "code",
   "execution_count": 56,
   "metadata": {},
   "outputs": [],
   "source": [
    "import cv2\n",
    "import glob\n",
    "\n",
    "# read input\n",
    "for fil in glob.glob(folder_path_data+'/data/labels/*.png'):\n",
    "    name = fil.split('/')[-1]\n",
    "    img = cv2.imread(fil)\n",
    "\n",
    "    img[img>=1]=255\n",
    "\n",
    "    # convert to grayscale\n",
    "    gray = cv2.cvtColor(img, cv2.COLOR_BGR2GRAY)\n",
    "    # use thresholding\n",
    "    thresh = cv2.threshold(gray, 0, 255, cv2.THRESH_BINARY+cv2.THRESH_OTSU)[1]\n",
    "    kernel = cv2.getStructuringElement(cv2.MORPH_ELLIPSE, (20,20))\n",
    "    output = cv2.morphologyEx(thresh, cv2.MORPH_OPEN, kernel)\n",
    "    # output[output==255]=1\n",
    "    cv2.imwrite(folder_path_data+'/data/'+name, output)\n"
   ]
  },
  {
   "cell_type": "markdown",
   "metadata": {},
   "source": [
    "## Remove Unwanted Folders"
   ]
  },
  {
   "cell_type": "code",
   "execution_count": null,
   "metadata": {},
   "outputs": [],
   "source": []
  }
 ],
 "metadata": {
  "kernelspec": {
   "display_name": "Python 3",
   "language": "python",
   "name": "python3"
  },
  "language_info": {
   "codemirror_mode": {
    "name": "ipython",
    "version": 3
   },
   "file_extension": ".py",
   "mimetype": "text/x-python",
   "name": "python",
   "nbconvert_exporter": "python",
   "pygments_lexer": "ipython3",
   "version": "3.11.8"
  }
 },
 "nbformat": 4,
 "nbformat_minor": 2
}
