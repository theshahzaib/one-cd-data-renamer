{
 "cells": [
  {
   "cell_type": "code",
   "execution_count": 1,
   "metadata": {},
   "outputs": [
    {
     "name": "stdout",
     "output_type": "stream",
     "text": [
      "Deleted train/images\\bolari_1606_patch_1_1_png_rf_323fda8b57ee23fa5746397e601de276_pre.png\n",
      "Deleted train/images\\bolari_1709_patch_1_1_png_rf_e1954174c34a6ee69ee8c7073d894e36_pre.png\n",
      "Deleted train/images\\bolari_1802_patch_1_1_png_rf_81647124bd8c565e704f14428d42e0fc_pre.png\n",
      "Deleted train/images\\bolari_1812_patch_1_1_png_rf_c3e8517182202e36f3709e7e68a12ae9_pre.png\n",
      "Deleted train/images\\bolari_1902_patch_1_1_png_rf_53ee81544706e462fa08cc228841479b_pre.png\n",
      "Deleted train/images\\bolari_1906_patch_1_1_png_rf_9fa7a2caaa9a4b2d8392ba68c11a0ea5_pre.png\n",
      "Deleted train/images\\bolari_1912_patch_1_1_png_rf_20ec8e4456d5a1b4be195142d9634e81_pre.png\n",
      "Deleted train/images\\bolari_2012_patch_1_1_png_rf_85d2b849e62c8f1c6578fcadce3fe6b7_pre.png\n",
      "Deleted train/images\\bolari_2211_patch_1_1_png_rf_0c65e8a1d3e2965cb6e3a090d8d8e2af_pre.png\n"
     ]
    }
   ],
   "source": [
    "import os\n",
    "import glob\n",
    "\n",
    "def delete_images_with_keyword(folder_path, keyword):\n",
    "    # Get a list of image files in the folder\n",
    "    image_files = glob.glob(os.path.join(folder_path, '*.jpg')) + glob.glob(os.path.join(folder_path, '*.png'))\n",
    "\n",
    "    # Iterate through each image file\n",
    "    for image_file in image_files:\n",
    "        # Check if the keyword is in the file name\n",
    "        if keyword in os.path.basename(image_file):\n",
    "            # Delete the image file\n",
    "            os.remove(image_file)\n",
    "            print(f\"Deleted {image_file}\")\n",
    "\n",
    "# Replace 'folder_path' with the path to your folder containing images\n",
    "folder_path = 'train/images'\n",
    "# Replace 'pre' with your keyword\n",
    "keyword = 'pre'\n",
    "\n",
    "# Call the function to delete images with the specified keyword\n",
    "delete_images_with_keyword(folder_path, keyword)\n"
   ]
  },
  {
   "cell_type": "code",
   "execution_count": 4,
   "metadata": {},
   "outputs": [
    {
     "name": "stdout",
     "output_type": "stream",
     "text": [
      "Deleted train/output_colored_labels\\bolari_1606_patch_1_1_png_rf_323fda8b57ee23fa5746397e601de276_pre.png\n",
      "Deleted train/output_colored_labels\\bolari_1709_patch_1_1_png_rf_e1954174c34a6ee69ee8c7073d894e36_pre.png\n",
      "Deleted train/output_colored_labels\\bolari_1802_patch_1_1_png_rf_81647124bd8c565e704f14428d42e0fc_pre.png\n",
      "Deleted train/output_colored_labels\\bolari_1812_patch_1_1_png_rf_c3e8517182202e36f3709e7e68a12ae9_pre.png\n",
      "Deleted train/output_colored_labels\\bolari_1902_patch_1_1_png_rf_53ee81544706e462fa08cc228841479b_pre.png\n",
      "Deleted train/output_colored_labels\\bolari_1906_patch_1_1_png_rf_9fa7a2caaa9a4b2d8392ba68c11a0ea5_pre.png\n",
      "Deleted train/output_colored_labels\\bolari_1912_patch_1_1_png_rf_20ec8e4456d5a1b4be195142d9634e81_pre.png\n",
      "Deleted train/output_colored_labels\\bolari_2012_patch_1_1_png_rf_85d2b849e62c8f1c6578fcadce3fe6b7_pre.png\n",
      "Deleted train/output_colored_labels\\bolari_2211_patch_1_1_png_rf_0c65e8a1d3e2965cb6e3a090d8d8e2af_pre.png\n"
     ]
    }
   ],
   "source": [
    "# Replace 'folder_path' with the path to your folder containing images\n",
    "folder_path = 'train/output_colored_labels'\n",
    "delete_images_with_keyword(folder_path, keyword)"
   ]
  },
  {
   "cell_type": "code",
   "execution_count": 14,
   "metadata": {},
   "outputs": [
    {
     "name": "stdout",
     "output_type": "stream",
     "text": [
      "Created subfolder 'result'\n",
      "Folder structure created successfully.\n"
     ]
    }
   ],
   "source": [
    "import os\n",
    "\n",
    "# Define the root folder name\n",
    "root_folder = 'train2'\n",
    "\n",
    "# Create the root folder if it doesn't exist\n",
    "if not os.path.exists(root_folder):\n",
    "    os.mkdir(root_folder)\n",
    "    print(f\"Created folder '{root_folder}'\")\n",
    "\n",
    "# Define the subfolder names\n",
    "subfolders = ['tmp_image', 'tmp_label', 'result']\n",
    "\n",
    "# Create the subfolders inside the root folder\n",
    "for subfolder in subfolders:\n",
    "    subfolder_path = os.path.join(root_folder, subfolder)\n",
    "    if not os.path.exists(subfolder_path):\n",
    "        os.mkdir(subfolder_path)\n",
    "        print(f\"Created subfolder '{subfolder}'\")\n",
    "\n",
    "print(\"Folder structure created successfully.\")\n"
   ]
  },
  {
   "cell_type": "markdown",
   "metadata": {},
   "source": [
    "Copying data"
   ]
  },
  {
   "cell_type": "code",
   "execution_count": 8,
   "metadata": {},
   "outputs": [],
   "source": [
    "import os\n",
    "import shutil\n",
    "\n",
    "def copy_folder_contents(source_folder, destination_folder):\n",
    "    # Create destination folder if it doesn't exist\n",
    "    if not os.path.exists(destination_folder):\n",
    "        os.makedirs(destination_folder)\n",
    "\n",
    "    # Get list of all files and sub-folders in the source folder\n",
    "    contents = os.listdir(source_folder)\n",
    "\n",
    "    # Copy each file and sub-folder to the destination folder\n",
    "    for item in contents:\n",
    "        source_item = os.path.join(source_folder, item)\n",
    "        destination_item = os.path.join(destination_folder, item)\n",
    "        if os.path.isdir(source_item):\n",
    "            # If item is a folder, recursively call copy_folder_contents\n",
    "            copy_folder_contents(source_item, destination_item)\n",
    "        else:\n",
    "            # If item is a file, copy it to destination folder\n",
    "            shutil.copy2(source_item, destination_folder)\n",
    "\n",
    "# Replace 'source_folder' and 'destination_folder' with the paths to your folders\n",
    "source_folder = 'train'\n",
    "destination_folder = 'train2'\n",
    "\n",
    "# Call the function to copy contents from source_folder to destination_folder\n",
    "copy_folder_contents(source_folder, destination_folder)\n"
   ]
  },
  {
   "cell_type": "markdown",
   "metadata": {},
   "source": [
    "moving last image and file to other folder"
   ]
  },
  {
   "cell_type": "code",
   "execution_count": 13,
   "metadata": {},
   "outputs": [
    {
     "name": "stdout",
     "output_type": "stream",
     "text": [
      "Moved 'bolari_1709_patch_1_1_png_rf_e1954174c34a6ee69ee8c7073d894e36_post.png' to 'train2/tmp_image'\n",
      "Moved 'bolari_1709_patch_1_1_png_rf_e1954174c34a6ee69ee8c7073d894e36_post.png' to 'train2/tmp_label'\n"
     ]
    }
   ],
   "source": [
    "import os\n",
    "import shutil\n",
    "\n",
    "def move_first_file(source_folder, destination_folder):\n",
    "    # Get list of files in the source folder\n",
    "    files = os.listdir(source_folder)\n",
    "\n",
    "    if files:\n",
    "        # Get the first file in the list\n",
    "        first_file = files[0]\n",
    "\n",
    "        # Construct paths for source and destination files\n",
    "        source_file_path = os.path.join(source_folder, first_file)\n",
    "        destination_file_path = os.path.join(destination_folder, first_file)\n",
    "\n",
    "        # Move the file to the destination folder\n",
    "        shutil.move(source_file_path, destination_file_path)\n",
    "        print(f\"Moved '{first_file}' to '{destination_folder}'\")\n",
    "    else:\n",
    "        print(\"Source folder is empty.\")\n",
    "\n",
    "# Replace 'source_folder' and 'destination_folder' with the paths to your folders\n",
    "source_folder = 'train2/images'\n",
    "destination_folder = 'train2/tmp_image'\n",
    "\n",
    "# Call the function to move the first file from source_folder to destination_folder\n",
    "move_first_file(source_folder, destination_folder)\n",
    "\n",
    "source_folder = 'train2/labels'\n",
    "destination_folder = 'train2/tmp_label'\n",
    "\n",
    "move_first_file(source_folder, destination_folder)\n",
    "\n"
   ]
  },
  {
   "cell_type": "markdown",
   "metadata": {},
   "source": [
    "Image subtraction"
   ]
  },
  {
   "cell_type": "code",
   "execution_count": 18,
   "metadata": {},
   "outputs": [
    {
     "name": "stdout",
     "output_type": "stream",
     "text": [
      "Subtracted images and saved result to 'train2/result1/result.png'\n"
     ]
    }
   ],
   "source": [
    "import cv2\n",
    "import numpy as np\n",
    "\n",
    "def subtract_binary_images(image1_path, image2_path, output_path):\n",
    "    # Load the binary images in grayscale mode\n",
    "    image1 = cv2.imread(image1_path, cv2.IMREAD_GRAYSCALE)\n",
    "    image2 = cv2.imread(image2_path, cv2.IMREAD_GRAYSCALE)\n",
    "\n",
    "    # Ensure that both images have the same dimensions\n",
    "    if image1.shape != image2.shape:\n",
    "        print(\"Error: Images must have the same dimensions.\")\n",
    "        return\n",
    "\n",
    "    # Perform pixel-wise subtraction\n",
    "    result = cv2.subtract(image1, image2)\n",
    "\n",
    "    # Save the result as PNG\n",
    "    cv2.imwrite(output_path, result)\n",
    "\n",
    "    print(f\"Subtracted images and saved result to '{output_path}'\")\n",
    "\n",
    "\n",
    "# Replace 'image1_path', 'image2_path', and 'output_path' with your image file paths\n",
    "image1_path = 'train2/labels/bolari_1802_patch_1_1_png_rf_81647124bd8c565e704f14428d42e0fc_post.png'\n",
    "image2_path = 'train2/tmp_label/bolari_1709_patch_1_1_png_rf_e1954174c34a6ee69ee8c7073d894e36_post.png'\n",
    "output_path = 'train2/result1/result.png'\n",
    "\n",
    "# Call the function to subtract binary images\n",
    "subtract_binary_images(image1_path, image2_path, output_path)\n"
   ]
  },
  {
   "cell_type": "markdown",
   "metadata": {},
   "source": [
    "## Subtract from all images"
   ]
  },
  {
   "cell_type": "code",
   "execution_count": 10,
   "metadata": {},
   "outputs": [],
   "source": [
    "lbl_list = os.listdir('train2/labels')"
   ]
  },
  {
   "cell_type": "code",
   "execution_count": 9,
   "metadata": {},
   "outputs": [
    {
     "data": {
      "text/plain": [
       "'bolari_1709_patch_1_1_png_rf_e1954174c34a6ee69ee8c7073d894e36_post.png'"
      ]
     },
     "execution_count": 9,
     "metadata": {},
     "output_type": "execute_result"
    }
   ],
   "source": [
    "os.listdir('train2/labels')[0]"
   ]
  },
  {
   "cell_type": "code",
   "execution_count": 12,
   "metadata": {},
   "outputs": [
    {
     "data": {
      "text/plain": [
       "8"
      ]
     },
     "execution_count": 12,
     "metadata": {},
     "output_type": "execute_result"
    }
   ],
   "source": [
    "len(os.listdir('train2/labels'))"
   ]
  },
  {
   "cell_type": "code",
   "execution_count": 16,
   "metadata": {},
   "outputs": [
    {
     "name": "stdout",
     "output_type": "stream",
     "text": [
      "0\n",
      "1\n",
      "2\n",
      "3\n",
      "4\n",
      "5\n",
      "6\n",
      "7\n"
     ]
    }
   ],
   "source": [
    "for i in range(8):\n",
    "    print(i)"
   ]
  },
  {
   "cell_type": "code",
   "execution_count": 24,
   "metadata": {},
   "outputs": [
    {
     "name": "stdout",
     "output_type": "stream",
     "text": [
      "Creating directory 'train2/result2'...\n"
     ]
    }
   ],
   "source": [
    "import os\n",
    "\n",
    "def create_directory(directory):\n",
    "    if os.path.exists(directory):\n",
    "        print(f\"Directory '{directory}' already exists. Deleting it...\")\n",
    "        os.rmdir(directory)\n",
    "    print(f\"Creating directory '{directory}'...\")\n",
    "    os.makedirs(directory)\n",
    "\n",
    "create_directory('train2/result2')\n"
   ]
  },
  {
   "cell_type": "code",
   "execution_count": 25,
   "metadata": {},
   "outputs": [
    {
     "name": "stdout",
     "output_type": "stream",
     "text": [
      "Directory 'train2/result2' already exists. Skipping creation.\n"
     ]
    }
   ],
   "source": [
    "import os\n",
    "\n",
    "def create_directory_if_not_exists(directory):\n",
    "    if not os.path.exists(directory):\n",
    "        os.makedirs(directory)\n",
    "        print(f\"Directory '{directory}' created.\")\n",
    "    else:\n",
    "        print(f\"Directory '{directory}' already exists. Skipping creation.\")\n",
    "\n",
    "create_directory_if_not_exists('train2/result2')\n"
   ]
  },
  {
   "cell_type": "code",
   "execution_count": 30,
   "metadata": {},
   "outputs": [
    {
     "name": "stdout",
     "output_type": "stream",
     "text": [
      "Directory 'train2/result0' already exists. Skipping creation.\n",
      "Subtracted images and saved result to 'train2/result0/bolari_1802_patch_1_1_png_rf_81647124bd8c565e704f14428d42e0fc_post.png'\n",
      "Directory 'train2/result0' already exists. Skipping creation.\n",
      "Subtracted images and saved result to 'train2/result0/bolari_1812_patch_1_1_png_rf_c3e8517182202e36f3709e7e68a12ae9_post.png'\n",
      "Directory 'train2/result0' already exists. Skipping creation.\n",
      "Subtracted images and saved result to 'train2/result0/bolari_1902_patch_1_1_png_rf_53ee81544706e462fa08cc228841479b_post.png'\n",
      "Directory 'train2/result0' already exists. Skipping creation.\n",
      "Subtracted images and saved result to 'train2/result0/bolari_1906_patch_1_1_png_rf_9fa7a2caaa9a4b2d8392ba68c11a0ea5_post.png'\n",
      "Directory 'train2/result0' already exists. Skipping creation.\n",
      "Subtracted images and saved result to 'train2/result0/bolari_1912_patch_1_1_png_rf_20ec8e4456d5a1b4be195142d9634e81_post.png'\n",
      "Directory 'train2/result0' already exists. Skipping creation.\n",
      "Subtracted images and saved result to 'train2/result0/bolari_2012_patch_1_1_png_rf_85d2b849e62c8f1c6578fcadce3fe6b7_post.png'\n",
      "Directory 'train2/result0' already exists. Skipping creation.\n",
      "Subtracted images and saved result to 'train2/result0/bolari_2211_patch_1_1_png_rf_0c65e8a1d3e2965cb6e3a090d8d8e2af_post.png'\n",
      "Directory 'train2/result1' already exists. Skipping creation.\n",
      "Subtracted images and saved result to 'train2/result1/bolari_1709_patch_1_1_png_rf_e1954174c34a6ee69ee8c7073d894e36_post.png'\n",
      "Directory 'train2/result1' already exists. Skipping creation.\n",
      "Subtracted images and saved result to 'train2/result1/bolari_1812_patch_1_1_png_rf_c3e8517182202e36f3709e7e68a12ae9_post.png'\n",
      "Directory 'train2/result1' already exists. Skipping creation.\n",
      "Subtracted images and saved result to 'train2/result1/bolari_1902_patch_1_1_png_rf_53ee81544706e462fa08cc228841479b_post.png'\n",
      "Directory 'train2/result1' already exists. Skipping creation.\n",
      "Subtracted images and saved result to 'train2/result1/bolari_1906_patch_1_1_png_rf_9fa7a2caaa9a4b2d8392ba68c11a0ea5_post.png'\n",
      "Directory 'train2/result1' already exists. Skipping creation.\n",
      "Subtracted images and saved result to 'train2/result1/bolari_1912_patch_1_1_png_rf_20ec8e4456d5a1b4be195142d9634e81_post.png'\n",
      "Directory 'train2/result1' already exists. Skipping creation.\n",
      "Subtracted images and saved result to 'train2/result1/bolari_2012_patch_1_1_png_rf_85d2b849e62c8f1c6578fcadce3fe6b7_post.png'\n",
      "Directory 'train2/result1' already exists. Skipping creation.\n",
      "Subtracted images and saved result to 'train2/result1/bolari_2211_patch_1_1_png_rf_0c65e8a1d3e2965cb6e3a090d8d8e2af_post.png'\n",
      "Directory 'train2/result2' already exists. Skipping creation.\n",
      "Subtracted images and saved result to 'train2/result2/bolari_1709_patch_1_1_png_rf_e1954174c34a6ee69ee8c7073d894e36_post.png'\n",
      "Directory 'train2/result2' already exists. Skipping creation.\n",
      "Subtracted images and saved result to 'train2/result2/bolari_1802_patch_1_1_png_rf_81647124bd8c565e704f14428d42e0fc_post.png'\n",
      "Directory 'train2/result2' already exists. Skipping creation.\n",
      "Subtracted images and saved result to 'train2/result2/bolari_1902_patch_1_1_png_rf_53ee81544706e462fa08cc228841479b_post.png'\n",
      "Directory 'train2/result2' already exists. Skipping creation.\n",
      "Subtracted images and saved result to 'train2/result2/bolari_1906_patch_1_1_png_rf_9fa7a2caaa9a4b2d8392ba68c11a0ea5_post.png'\n",
      "Directory 'train2/result2' already exists. Skipping creation.\n",
      "Subtracted images and saved result to 'train2/result2/bolari_1912_patch_1_1_png_rf_20ec8e4456d5a1b4be195142d9634e81_post.png'\n",
      "Directory 'train2/result2' already exists. Skipping creation.\n",
      "Subtracted images and saved result to 'train2/result2/bolari_2012_patch_1_1_png_rf_85d2b849e62c8f1c6578fcadce3fe6b7_post.png'\n",
      "Directory 'train2/result2' already exists. Skipping creation.\n",
      "Subtracted images and saved result to 'train2/result2/bolari_2211_patch_1_1_png_rf_0c65e8a1d3e2965cb6e3a090d8d8e2af_post.png'\n",
      "Directory 'train2/result3' already exists. Skipping creation.\n",
      "Subtracted images and saved result to 'train2/result3/bolari_1709_patch_1_1_png_rf_e1954174c34a6ee69ee8c7073d894e36_post.png'\n",
      "Directory 'train2/result3' already exists. Skipping creation.\n",
      "Subtracted images and saved result to 'train2/result3/bolari_1802_patch_1_1_png_rf_81647124bd8c565e704f14428d42e0fc_post.png'\n",
      "Directory 'train2/result3' already exists. Skipping creation.\n",
      "Subtracted images and saved result to 'train2/result3/bolari_1812_patch_1_1_png_rf_c3e8517182202e36f3709e7e68a12ae9_post.png'\n",
      "Directory 'train2/result3' already exists. Skipping creation.\n",
      "Subtracted images and saved result to 'train2/result3/bolari_1906_patch_1_1_png_rf_9fa7a2caaa9a4b2d8392ba68c11a0ea5_post.png'\n",
      "Directory 'train2/result3' already exists. Skipping creation.\n",
      "Subtracted images and saved result to 'train2/result3/bolari_1912_patch_1_1_png_rf_20ec8e4456d5a1b4be195142d9634e81_post.png'\n",
      "Directory 'train2/result3' already exists. Skipping creation.\n",
      "Subtracted images and saved result to 'train2/result3/bolari_2012_patch_1_1_png_rf_85d2b849e62c8f1c6578fcadce3fe6b7_post.png'\n",
      "Directory 'train2/result3' already exists. Skipping creation.\n",
      "Subtracted images and saved result to 'train2/result3/bolari_2211_patch_1_1_png_rf_0c65e8a1d3e2965cb6e3a090d8d8e2af_post.png'\n",
      "Directory 'train2/result4' already exists. Skipping creation.\n",
      "Subtracted images and saved result to 'train2/result4/bolari_1709_patch_1_1_png_rf_e1954174c34a6ee69ee8c7073d894e36_post.png'\n",
      "Directory 'train2/result4' already exists. Skipping creation.\n",
      "Subtracted images and saved result to 'train2/result4/bolari_1802_patch_1_1_png_rf_81647124bd8c565e704f14428d42e0fc_post.png'\n",
      "Directory 'train2/result4' already exists. Skipping creation.\n",
      "Subtracted images and saved result to 'train2/result4/bolari_1812_patch_1_1_png_rf_c3e8517182202e36f3709e7e68a12ae9_post.png'\n",
      "Directory 'train2/result4' already exists. Skipping creation.\n",
      "Subtracted images and saved result to 'train2/result4/bolari_1902_patch_1_1_png_rf_53ee81544706e462fa08cc228841479b_post.png'\n",
      "Directory 'train2/result4' already exists. Skipping creation.\n",
      "Subtracted images and saved result to 'train2/result4/bolari_1912_patch_1_1_png_rf_20ec8e4456d5a1b4be195142d9634e81_post.png'\n",
      "Directory 'train2/result4' already exists. Skipping creation.\n",
      "Subtracted images and saved result to 'train2/result4/bolari_2012_patch_1_1_png_rf_85d2b849e62c8f1c6578fcadce3fe6b7_post.png'\n",
      "Directory 'train2/result4' already exists. Skipping creation.\n",
      "Subtracted images and saved result to 'train2/result4/bolari_2211_patch_1_1_png_rf_0c65e8a1d3e2965cb6e3a090d8d8e2af_post.png'\n",
      "Directory 'train2/result5' already exists. Skipping creation.\n",
      "Subtracted images and saved result to 'train2/result5/bolari_1709_patch_1_1_png_rf_e1954174c34a6ee69ee8c7073d894e36_post.png'\n",
      "Directory 'train2/result5' already exists. Skipping creation.\n",
      "Subtracted images and saved result to 'train2/result5/bolari_1802_patch_1_1_png_rf_81647124bd8c565e704f14428d42e0fc_post.png'\n",
      "Directory 'train2/result5' already exists. Skipping creation.\n",
      "Subtracted images and saved result to 'train2/result5/bolari_1812_patch_1_1_png_rf_c3e8517182202e36f3709e7e68a12ae9_post.png'\n",
      "Directory 'train2/result5' already exists. Skipping creation.\n",
      "Subtracted images and saved result to 'train2/result5/bolari_1902_patch_1_1_png_rf_53ee81544706e462fa08cc228841479b_post.png'\n",
      "Directory 'train2/result5' already exists. Skipping creation.\n",
      "Subtracted images and saved result to 'train2/result5/bolari_1906_patch_1_1_png_rf_9fa7a2caaa9a4b2d8392ba68c11a0ea5_post.png'\n",
      "Directory 'train2/result5' already exists. Skipping creation.\n",
      "Subtracted images and saved result to 'train2/result5/bolari_2012_patch_1_1_png_rf_85d2b849e62c8f1c6578fcadce3fe6b7_post.png'\n",
      "Directory 'train2/result5' already exists. Skipping creation.\n",
      "Subtracted images and saved result to 'train2/result5/bolari_2211_patch_1_1_png_rf_0c65e8a1d3e2965cb6e3a090d8d8e2af_post.png'\n",
      "Directory 'train2/result6' already exists. Skipping creation.\n",
      "Subtracted images and saved result to 'train2/result6/bolari_1709_patch_1_1_png_rf_e1954174c34a6ee69ee8c7073d894e36_post.png'\n",
      "Directory 'train2/result6' already exists. Skipping creation.\n",
      "Subtracted images and saved result to 'train2/result6/bolari_1802_patch_1_1_png_rf_81647124bd8c565e704f14428d42e0fc_post.png'\n",
      "Directory 'train2/result6' already exists. Skipping creation.\n",
      "Subtracted images and saved result to 'train2/result6/bolari_1812_patch_1_1_png_rf_c3e8517182202e36f3709e7e68a12ae9_post.png'\n",
      "Directory 'train2/result6' already exists. Skipping creation.\n",
      "Subtracted images and saved result to 'train2/result6/bolari_1902_patch_1_1_png_rf_53ee81544706e462fa08cc228841479b_post.png'\n",
      "Directory 'train2/result6' already exists. Skipping creation.\n",
      "Subtracted images and saved result to 'train2/result6/bolari_1906_patch_1_1_png_rf_9fa7a2caaa9a4b2d8392ba68c11a0ea5_post.png'\n",
      "Directory 'train2/result6' already exists. Skipping creation.\n",
      "Subtracted images and saved result to 'train2/result6/bolari_1912_patch_1_1_png_rf_20ec8e4456d5a1b4be195142d9634e81_post.png'\n",
      "Directory 'train2/result6' already exists. Skipping creation.\n",
      "Subtracted images and saved result to 'train2/result6/bolari_2211_patch_1_1_png_rf_0c65e8a1d3e2965cb6e3a090d8d8e2af_post.png'\n",
      "Directory 'train2/result7' already exists. Skipping creation.\n",
      "Subtracted images and saved result to 'train2/result7/bolari_1709_patch_1_1_png_rf_e1954174c34a6ee69ee8c7073d894e36_post.png'\n",
      "Directory 'train2/result7' already exists. Skipping creation.\n",
      "Subtracted images and saved result to 'train2/result7/bolari_1802_patch_1_1_png_rf_81647124bd8c565e704f14428d42e0fc_post.png'\n",
      "Directory 'train2/result7' already exists. Skipping creation.\n",
      "Subtracted images and saved result to 'train2/result7/bolari_1812_patch_1_1_png_rf_c3e8517182202e36f3709e7e68a12ae9_post.png'\n",
      "Directory 'train2/result7' already exists. Skipping creation.\n",
      "Subtracted images and saved result to 'train2/result7/bolari_1902_patch_1_1_png_rf_53ee81544706e462fa08cc228841479b_post.png'\n",
      "Directory 'train2/result7' already exists. Skipping creation.\n",
      "Subtracted images and saved result to 'train2/result7/bolari_1906_patch_1_1_png_rf_9fa7a2caaa9a4b2d8392ba68c11a0ea5_post.png'\n",
      "Directory 'train2/result7' already exists. Skipping creation.\n",
      "Subtracted images and saved result to 'train2/result7/bolari_1912_patch_1_1_png_rf_20ec8e4456d5a1b4be195142d9634e81_post.png'\n",
      "Directory 'train2/result7' already exists. Skipping creation.\n",
      "Subtracted images and saved result to 'train2/result7/bolari_2012_patch_1_1_png_rf_85d2b849e62c8f1c6578fcadce3fe6b7_post.png'\n"
     ]
    }
   ],
   "source": [
    "lbl_list = os.listdir('train2/labels')\n",
    "\n",
    "# for label_name in lbl_list:\n",
    "\n",
    "for i in range(len(lbl_list)):\n",
    "    lbl_list = os.listdir('train2/labels')\n",
    "    tmp_img = lbl_list.pop(i)\n",
    "\n",
    "    for label_name in lbl_list:\n",
    "        \n",
    "        image1_path = 'train2/labels/'+label_name\n",
    "        # image2_path = 'train2/tmp_label/'+os.listdir('train2/label')[i]\n",
    "        image2_path = 'train2/labels/'+tmp_img\n",
    "        create_directory_if_not_exists('train2/result'+str(i))\n",
    "        output_path = 'train2/result'+str(i)+'/'+label_name\n",
    "\n",
    "        subtract_binary_images(image1_path, image2_path, output_path)\n",
    "\n"
   ]
  },
  {
   "cell_type": "code",
   "execution_count": null,
   "metadata": {},
   "outputs": [],
   "source": []
  }
 ],
 "metadata": {
  "kernelspec": {
   "display_name": "Python 3",
   "language": "python",
   "name": "python3"
  },
  "language_info": {
   "codemirror_mode": {
    "name": "ipython",
    "version": 3
   },
   "file_extension": ".py",
   "mimetype": "text/x-python",
   "name": "python",
   "nbconvert_exporter": "python",
   "pygments_lexer": "ipython3",
   "version": "3.11.8"
  }
 },
 "nbformat": 4,
 "nbformat_minor": 2
}
