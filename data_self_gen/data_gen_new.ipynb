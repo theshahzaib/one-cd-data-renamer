{
 "cells": [
  {
   "cell_type": "markdown",
   "metadata": {},
   "source": [
    "Removing Images and labels of pre"
   ]
  },
  {
   "cell_type": "code",
   "execution_count": 11,
   "metadata": {},
   "outputs": [],
   "source": [
    "import os\n",
    "import glob\n",
    "\n",
    "def delete_images_with_keyword(folder_path, keyword):\n",
    "    # Get a list of image files in the folder\n",
    "    image_files = glob.glob(os.path.join(folder_path, '*.jpg')) + glob.glob(os.path.join(folder_path, '*.png'))\n",
    "\n",
    "    # Iterate through each image file\n",
    "    for image_file in image_files:\n",
    "        # Check if the keyword is in the file name\n",
    "        if keyword in os.path.basename(image_file):\n",
    "            # Delete the image file\n",
    "            os.remove(image_file)\n",
    "            print(f\"Deleted {image_file}\")\n",
    "\n",
    "# Replace 'folder_path' with the path to your folder containing images\n",
    "folder_path = 'train4/images'\n",
    "# Replace 'pre' with your keyword\n",
    "keyword = 'pre'\n",
    "\n",
    "# Call the function to delete images with the specified keyword\n",
    "delete_images_with_keyword(folder_path, keyword)\n",
    "\n",
    "# Replace 'folder_path' with the path to your folder containing images\n",
    "folder_path = 'train4/labels'\n",
    "delete_images_with_keyword(folder_path, keyword)\n"
   ]
  },
  {
   "cell_type": "markdown",
   "metadata": {},
   "source": [
    "## Subtract from all images"
   ]
  },
  {
   "cell_type": "markdown",
   "metadata": {},
   "source": [
    "## Main SubData Images & Label Gen Code"
   ]
  },
  {
   "cell_type": "code",
   "execution_count": 12,
   "metadata": {},
   "outputs": [
    {
     "name": "stdout",
     "output_type": "stream",
     "text": [
      "Created folder: train4/subdata0/train\n",
      "Subtracted images and saved result to 'train4/subdata0/train/sd_0_bolari_1709_patch_1_1_png_rf_e1954174c34a6ee69ee8c7073d894e36_mask.png'\n",
      "Subtracted images and saved result to 'train4/subdata0/train/sd_0_bolari_1802_patch_1_1_png_rf_81647124bd8c565e704f14428d42e0fc_mask.png'\n",
      "Subtracted images and saved result to 'train4/subdata0/train/sd_0_bolari_1812_patch_1_1_png_rf_c3e8517182202e36f3709e7e68a12ae9_mask.png'\n",
      "Subtracted images and saved result to 'train4/subdata0/train/sd_0_bolari_1902_patch_1_1_png_rf_53ee81544706e462fa08cc228841479b_mask.png'\n",
      "Subtracted images and saved result to 'train4/subdata0/train/sd_0_bolari_1906_patch_1_1_png_rf_9fa7a2caaa9a4b2d8392ba68c11a0ea5_mask.png'\n",
      "Subtracted images and saved result to 'train4/subdata0/train/sd_0_bolari_1912_patch_1_1_png_rf_20ec8e4456d5a1b4be195142d9634e81_mask.png'\n",
      "Subtracted images and saved result to 'train4/subdata0/train/sd_0_bolari_2012_patch_1_1_png_rf_85d2b849e62c8f1c6578fcadce3fe6b7_mask.png'\n",
      "Subtracted images and saved result to 'train4/subdata0/train/sd_0_bolari_2211_patch_1_1_png_rf_0c65e8a1d3e2965cb6e3a090d8d8e2af_mask.png'\n",
      "Created folder: train4/subdata1/train\n",
      "Subtracted images and saved result to 'train4/subdata1/train/sd_1_bolari_1802_patch_1_1_png_rf_81647124bd8c565e704f14428d42e0fc_mask.png'\n",
      "Subtracted images and saved result to 'train4/subdata1/train/sd_1_bolari_1812_patch_1_1_png_rf_c3e8517182202e36f3709e7e68a12ae9_mask.png'\n",
      "Subtracted images and saved result to 'train4/subdata1/train/sd_1_bolari_1902_patch_1_1_png_rf_53ee81544706e462fa08cc228841479b_mask.png'\n",
      "Subtracted images and saved result to 'train4/subdata1/train/sd_1_bolari_1906_patch_1_1_png_rf_9fa7a2caaa9a4b2d8392ba68c11a0ea5_mask.png'\n",
      "Subtracted images and saved result to 'train4/subdata1/train/sd_1_bolari_1912_patch_1_1_png_rf_20ec8e4456d5a1b4be195142d9634e81_mask.png'\n",
      "Subtracted images and saved result to 'train4/subdata1/train/sd_1_bolari_2012_patch_1_1_png_rf_85d2b849e62c8f1c6578fcadce3fe6b7_mask.png'\n",
      "Subtracted images and saved result to 'train4/subdata1/train/sd_1_bolari_2211_patch_1_1_png_rf_0c65e8a1d3e2965cb6e3a090d8d8e2af_mask.png'\n",
      "Created folder: train4/subdata2/train\n",
      "Subtracted images and saved result to 'train4/subdata2/train/sd_2_bolari_1812_patch_1_1_png_rf_c3e8517182202e36f3709e7e68a12ae9_mask.png'\n",
      "Subtracted images and saved result to 'train4/subdata2/train/sd_2_bolari_1902_patch_1_1_png_rf_53ee81544706e462fa08cc228841479b_mask.png'\n",
      "Subtracted images and saved result to 'train4/subdata2/train/sd_2_bolari_1906_patch_1_1_png_rf_9fa7a2caaa9a4b2d8392ba68c11a0ea5_mask.png'\n",
      "Subtracted images and saved result to 'train4/subdata2/train/sd_2_bolari_1912_patch_1_1_png_rf_20ec8e4456d5a1b4be195142d9634e81_mask.png'\n",
      "Subtracted images and saved result to 'train4/subdata2/train/sd_2_bolari_2012_patch_1_1_png_rf_85d2b849e62c8f1c6578fcadce3fe6b7_mask.png'\n",
      "Subtracted images and saved result to 'train4/subdata2/train/sd_2_bolari_2211_patch_1_1_png_rf_0c65e8a1d3e2965cb6e3a090d8d8e2af_mask.png'\n",
      "Created folder: train4/subdata3/train\n",
      "Subtracted images and saved result to 'train4/subdata3/train/sd_3_bolari_1902_patch_1_1_png_rf_53ee81544706e462fa08cc228841479b_mask.png'\n",
      "Subtracted images and saved result to 'train4/subdata3/train/sd_3_bolari_1906_patch_1_1_png_rf_9fa7a2caaa9a4b2d8392ba68c11a0ea5_mask.png'\n",
      "Subtracted images and saved result to 'train4/subdata3/train/sd_3_bolari_1912_patch_1_1_png_rf_20ec8e4456d5a1b4be195142d9634e81_mask.png'\n",
      "Subtracted images and saved result to 'train4/subdata3/train/sd_3_bolari_2012_patch_1_1_png_rf_85d2b849e62c8f1c6578fcadce3fe6b7_mask.png'\n",
      "Subtracted images and saved result to 'train4/subdata3/train/sd_3_bolari_2211_patch_1_1_png_rf_0c65e8a1d3e2965cb6e3a090d8d8e2af_mask.png'\n",
      "Created folder: train4/subdata4/train\n",
      "Subtracted images and saved result to 'train4/subdata4/train/sd_4_bolari_1906_patch_1_1_png_rf_9fa7a2caaa9a4b2d8392ba68c11a0ea5_mask.png'\n",
      "Subtracted images and saved result to 'train4/subdata4/train/sd_4_bolari_1912_patch_1_1_png_rf_20ec8e4456d5a1b4be195142d9634e81_mask.png'\n",
      "Subtracted images and saved result to 'train4/subdata4/train/sd_4_bolari_2012_patch_1_1_png_rf_85d2b849e62c8f1c6578fcadce3fe6b7_mask.png'\n",
      "Subtracted images and saved result to 'train4/subdata4/train/sd_4_bolari_2211_patch_1_1_png_rf_0c65e8a1d3e2965cb6e3a090d8d8e2af_mask.png'\n",
      "Created folder: train4/subdata5/train\n",
      "Subtracted images and saved result to 'train4/subdata5/train/sd_5_bolari_1912_patch_1_1_png_rf_20ec8e4456d5a1b4be195142d9634e81_mask.png'\n",
      "Subtracted images and saved result to 'train4/subdata5/train/sd_5_bolari_2012_patch_1_1_png_rf_85d2b849e62c8f1c6578fcadce3fe6b7_mask.png'\n",
      "Subtracted images and saved result to 'train4/subdata5/train/sd_5_bolari_2211_patch_1_1_png_rf_0c65e8a1d3e2965cb6e3a090d8d8e2af_mask.png'\n",
      "Created folder: train4/subdata6/train\n",
      "Subtracted images and saved result to 'train4/subdata6/train/sd_6_bolari_2012_patch_1_1_png_rf_85d2b849e62c8f1c6578fcadce3fe6b7_mask.png'\n",
      "Subtracted images and saved result to 'train4/subdata6/train/sd_6_bolari_2211_patch_1_1_png_rf_0c65e8a1d3e2965cb6e3a090d8d8e2af_mask.png'\n",
      "Created folder: train4/subdata7/train\n",
      "Subtracted images and saved result to 'train4/subdata7/train/sd_7_bolari_2211_patch_1_1_png_rf_0c65e8a1d3e2965cb6e3a090d8d8e2af_mask.png'\n",
      "Created folder: train4/subdata8/train\n"
     ]
    }
   ],
   "source": [
    "import os, shutil\n",
    "from PIL import Image\n",
    "import cv2\n",
    "\n",
    "train_folder = 'train4'\n",
    "#####\n",
    "lbl_list = os.listdir(train_folder+'/labels')\n",
    "#####\n",
    "def subtract_binary_images(image1_path, image2_path, output_path):\n",
    "    image1 = cv2.imread(image1_path, cv2.IMREAD_GRAYSCALE)\n",
    "    image2 = cv2.imread(image2_path, cv2.IMREAD_GRAYSCALE)\n",
    "    if image1.shape != image2.shape:\n",
    "        print(\"Error: Images must have the same dimensions.\")\n",
    "        return\n",
    "    result = cv2.subtract(image1, image2)\n",
    "    cv2.imwrite(output_path, result)\n",
    "    print(f\"Subtracted images and saved result to '{output_path}'\")\n",
    "\n",
    "def create_directory_if_not_exists(directory):\n",
    "    if not os.path.exists(directory):\n",
    "        os.makedirs(directory)\n",
    "        print(f\"Directory '{directory}' created.\")\n",
    "    else:\n",
    "        print(f\"Directory '{directory}' already exists. Skipping creation.\")\n",
    "\n",
    "def create_folder(folder_path):\n",
    "    if os.path.exists(folder_path):\n",
    "        shutil.rmtree(folder_path)\n",
    "        print(f\"Deleted existing folder: {folder_path}\")\n",
    "    os.makedirs(folder_path)\n",
    "    print(f\"Created folder: {folder_path}\")\n",
    "\n",
    "def convert_png_to_jpg(png_path, jpg_path):\n",
    "    png_image = Image.open(png_path)\n",
    "    if png_image.mode in ('RGBA', 'LA'):\n",
    "        png_image = png_image.convert('RGB')\n",
    "    png_image.save(jpg_path, format='JPEG', quality=100)\n",
    "\n",
    "def create_empty_binary_mask(width, height):\n",
    "    # Create a new black image (mode '1' for binary)\n",
    "    # Create a new black image (mode 'L' for 8-bit grayscale)\n",
    "    mask = Image.new('L', (width, height), color=0)\n",
    "    return mask\n",
    "\n",
    "\n",
    "lbl_list = os.listdir(train_folder+'/labels')\n",
    "\n",
    "for i in range(len(lbl_list)):\n",
    "\n",
    "    tmp_lbl = lbl_list.pop(0)\n",
    "\n",
    "    create_folder(train_folder+'/subdata'+str(i)+'/train')\n",
    "\n",
    "    for label_name in lbl_list:\n",
    "        \n",
    "        lbl1_path = train_folder+'/labels/'+label_name\n",
    "        lbl2_path = train_folder+'/labels/'+tmp_lbl\n",
    "        output_path = train_folder+'/subdata'+str(i)+'/train/'+'sd_'+str(i)+'_'+label_name[:-9]+'_mask.png'\n",
    "\n",
    "        subtract_binary_images(lbl1_path, lbl2_path, output_path)\n",
    "\n",
    "        image_png = train_folder+'/images/'+label_name\n",
    "        image_jpg = train_folder+'/subdata'+str(i)+'/train/'+'sd_'+str(i)+'_'+label_name[:-9]+'.jpg'\n",
    "\n",
    "        convert_png_to_jpg(image_png,image_jpg)\n",
    "\n",
    "\n",
    "    tmp_img_png = train_folder+'/images/'+tmp_lbl\n",
    "    tmp_img_jpg = train_folder+'/subdata'+str(i)+'/train/'+'000.jpg'\n",
    "    convert_png_to_jpg(tmp_img_png,tmp_img_jpg)\n",
    "\n",
    "    binary_mask = create_empty_binary_mask(1024, 1024)\n",
    "    binary_mask.save(train_folder+'/subdata'+str(i)+'/train/'+'000_mask.png')\n",
    "\n"
   ]
  },
  {
   "cell_type": "markdown",
   "metadata": {},
   "source": [
    "## Now it time for ... One Data Gen"
   ]
  },
  {
   "cell_type": "code",
   "execution_count": 68,
   "metadata": {},
   "outputs": [],
   "source": [
    "!cd \"C:/Users/Asus/Documents/GitHub/one-cd-data-renamer/data_self_gen/train3/subdata3/\""
   ]
  },
  {
   "cell_type": "code",
   "execution_count": 69,
   "metadata": {},
   "outputs": [
    {
     "data": {
      "text/plain": [
       "'C:\\\\Users\\\\Asus'"
      ]
     },
     "execution_count": 69,
     "metadata": {},
     "output_type": "execute_result"
    }
   ],
   "source": [
    "pwd"
   ]
  },
  {
   "cell_type": "code",
   "execution_count": 27,
   "metadata": {},
   "outputs": [
    {
     "name": "stdout",
     "output_type": "stream",
     "text": [
      "ok\n",
      "Renamed: train\\000.jpg -> train\\000.jpg\n",
      "Renamed: train\\000_mask.png -> train\\000_mask.png\n",
      "Renamed: train\\sd_3_park_view_city_0202_patch_1_0_png_rf_add170b8bc0fa3373329a336a0da06b3.jpg -> train\\sd_3_park_view_city_0202_patch_1_0_png_rf_add170b8bc0fa3373329a336a0da06b3.jpg\n",
      "Renamed: train\\sd_3_park_view_city_0202_patch_1_0_png_rf_add170b8bc0fa3373329a336a0da06b3_mask.png -> train\\sd_3_park_view_city_0202_patch_1_0_png_rf_add170b8bc0fa3373329a336a0da06b3_mask.png\n",
      "Renamed: train\\sd_3_park_view_city_1212_patch_1_0_png_rf_40bfbb62b410d86bff5cddd470605d3e.jpg -> train\\sd_3_park_view_city_1212_patch_1_0_png_rf_40bfbb62b410d86bff5cddd470605d3e.jpg\n",
      "Renamed: train\\sd_3_park_view_city_1212_patch_1_0_png_rf_40bfbb62b410d86bff5cddd470605d3e_mask.png -> train\\sd_3_park_view_city_1212_patch_1_0_png_rf_40bfbb62b410d86bff5cddd470605d3e_mask.png\n",
      "Renamed: train\\sd_3_park_view_city_1607_patch_1_0_png_rf_3ca02fad7c46480ac2e0609769388250.jpg -> train\\sd_3_park_view_city_1607_patch_1_0_png_rf_3ca02fad7c46480ac2e0609769388250.jpg\n",
      "Renamed: train\\sd_3_park_view_city_1607_patch_1_0_png_rf_3ca02fad7c46480ac2e0609769388250_mask.png -> train\\sd_3_park_view_city_1607_patch_1_0_png_rf_3ca02fad7c46480ac2e0609769388250_mask.png\n",
      "Renamed: train\\sd_3_park_view_city_1903_patch_1_0_png_rf_89d1eb99302e6021944e0d437f309774.jpg -> train\\sd_3_park_view_city_1903_patch_1_0_png_rf_89d1eb99302e6021944e0d437f309774.jpg\n",
      "Renamed: train\\sd_3_park_view_city_1903_patch_1_0_png_rf_89d1eb99302e6021944e0d437f309774_mask.png -> train\\sd_3_park_view_city_1903_patch_1_0_png_rf_89d1eb99302e6021944e0d437f309774_mask.png\n",
      "Renamed: train\\sd_3_park_view_city_2005_patch_1_0_png_rf_4f4e3f83c8aa351d5ae894f03314439b.jpg -> train\\sd_3_park_view_city_2005_patch_1_0_png_rf_4f4e3f83c8aa351d5ae894f03314439b.jpg\n",
      "Renamed: train\\sd_3_park_view_city_2005_patch_1_0_png_rf_4f4e3f83c8aa351d5ae894f03314439b_mask.png -> train\\sd_3_park_view_city_2005_patch_1_0_png_rf_4f4e3f83c8aa351d5ae894f03314439b_mask.png\n",
      "Renamed: train\\sd_3_park_view_city_2106_patch_1_0_png_rf_e2fbf4e445001737bcb6c6dfdcc69ffe.jpg -> train\\sd_3_park_view_city_2106_patch_1_0_png_rf_e2fbf4e445001737bcb6c6dfdcc69ffe.jpg\n",
      "Renamed: train\\sd_3_park_view_city_2106_patch_1_0_png_rf_e2fbf4e445001737bcb6c6dfdcc69ffe_mask.png -> train\\sd_3_park_view_city_2106_patch_1_0_png_rf_e2fbf4e445001737bcb6c6dfdcc69ffe_mask.png\n",
      "Renamed: train\\sd_3_park_view_city_2204_patch_1_0_png_rf_e56a3a0c157b2667bc37dffefebede81.jpg -> train\\sd_3_park_view_city_2204_patch_1_0_png_rf_e56a3a0c157b2667bc37dffefebede81.jpg\n",
      "Renamed: train\\sd_3_park_view_city_2204_patch_1_0_png_rf_e56a3a0c157b2667bc37dffefebede81_mask.png -> train\\sd_3_park_view_city_2204_patch_1_0_png_rf_e56a3a0c157b2667bc37dffefebede81_mask.png\n",
      "Renamed: train\\sd_3_park_view_city_2212_patch_1_0_png_rf_08b07b8312ef1886105bf87578560ee0.jpg -> train\\sd_3_park_view_city_2212_patch_1_0_png_rf_08b07b8312ef1886105bf87578560ee0.jpg\n",
      "Renamed: train\\sd_3_park_view_city_2212_patch_1_0_png_rf_08b07b8312ef1886105bf87578560ee0_mask.png -> train\\sd_3_park_view_city_2212_patch_1_0_png_rf_08b07b8312ef1886105bf87578560ee0_mask.png\n",
      "Renamed: train\\sd_3_park_view_city_2306_patch_1_0_png_rf_43afae4fc2dd4f4fbb6c8848bfca51d3.jpg -> train\\sd_3_park_view_city_2306_patch_1_0_png_rf_43afae4fc2dd4f4fbb6c8848bfca51d3.jpg\n",
      "Renamed: train\\sd_3_park_view_city_2306_patch_1_0_png_rf_43afae4fc2dd4f4fbb6c8848bfca51d3_mask.png -> train\\sd_3_park_view_city_2306_patch_1_0_png_rf_43afae4fc2dd4f4fbb6c8848bfca51d3_mask.png\n",
      "Moved 000.jpg from train to train/pre.\n",
      "Moved sd_3_park_view_city_0202_patch_1_0_png_rf_add170b8bc0fa3373329a336a0da06b3.jpg from train to train/post.\n",
      "Moved sd_3_park_view_city_1212_patch_1_0_png_rf_40bfbb62b410d86bff5cddd470605d3e.jpg from train to train/post.\n",
      "Moved sd_3_park_view_city_1607_patch_1_0_png_rf_3ca02fad7c46480ac2e0609769388250.jpg from train to train/post.\n",
      "Moved sd_3_park_view_city_1903_patch_1_0_png_rf_89d1eb99302e6021944e0d437f309774.jpg from train to train/post.\n",
      "Moved sd_3_park_view_city_2005_patch_1_0_png_rf_4f4e3f83c8aa351d5ae894f03314439b.jpg from train to train/post.\n",
      "Moved sd_3_park_view_city_2106_patch_1_0_png_rf_e2fbf4e445001737bcb6c6dfdcc69ffe.jpg from train to train/post.\n",
      "Moved sd_3_park_view_city_2204_patch_1_0_png_rf_e56a3a0c157b2667bc37dffefebede81.jpg from train to train/post.\n",
      "Moved sd_3_park_view_city_2212_patch_1_0_png_rf_08b07b8312ef1886105bf87578560ee0.jpg from train to train/post.\n",
      "Moved sd_3_park_view_city_2306_patch_1_0_png_rf_43afae4fc2dd4f4fbb6c8848bfca51d3.jpg from train to train/post.\n",
      "Duplicate copy 1 created: train/pre\\000_copy_1.jpg\n",
      "Duplicate copy 2 created: train/pre\\000_copy_2.jpg\n",
      "Duplicate copy 3 created: train/pre\\000_copy_3.jpg\n",
      "Duplicate copy 4 created: train/pre\\000_copy_4.jpg\n",
      "Duplicate copy 5 created: train/pre\\000_copy_5.jpg\n",
      "Duplicate copy 6 created: train/pre\\000_copy_6.jpg\n",
      "Duplicate copy 7 created: train/pre\\000_copy_7.jpg\n",
      "Duplicate copy 8 created: train/pre\\000_copy_8.jpg\n",
      "Replaced: train/pre\\000.jpg -> train/pre\\sd_3_park_view_city_0202_patch_1_0_png_rf_add170b8bc0fa3373329a336a0da06b3_post.jpg\n",
      "Replaced: train/pre\\000_copy_1.jpg -> train/pre\\sd_3_park_view_city_1212_patch_1_0_png_rf_40bfbb62b410d86bff5cddd470605d3e_post.jpg\n",
      "Replaced: train/pre\\000_copy_2.jpg -> train/pre\\sd_3_park_view_city_1607_patch_1_0_png_rf_3ca02fad7c46480ac2e0609769388250_post.jpg\n",
      "Replaced: train/pre\\000_copy_3.jpg -> train/pre\\sd_3_park_view_city_1903_patch_1_0_png_rf_89d1eb99302e6021944e0d437f309774_post.jpg\n",
      "Replaced: train/pre\\000_copy_4.jpg -> train/pre\\sd_3_park_view_city_2005_patch_1_0_png_rf_4f4e3f83c8aa351d5ae894f03314439b_post.jpg\n",
      "Replaced: train/pre\\000_copy_5.jpg -> train/pre\\sd_3_park_view_city_2106_patch_1_0_png_rf_e2fbf4e445001737bcb6c6dfdcc69ffe_post.jpg\n",
      "Replaced: train/pre\\000_copy_6.jpg -> train/pre\\sd_3_park_view_city_2204_patch_1_0_png_rf_e56a3a0c157b2667bc37dffefebede81_post.jpg\n",
      "Replaced: train/pre\\000_copy_7.jpg -> train/pre\\sd_3_park_view_city_2212_patch_1_0_png_rf_08b07b8312ef1886105bf87578560ee0_post.jpg\n",
      "Replaced: train/pre\\000_copy_8.jpg -> train/pre\\sd_3_park_view_city_2306_patch_1_0_png_rf_43afae4fc2dd4f4fbb6c8848bfca51d3_post.jpg\n",
      "Renamed: train/pre\\sd_3_park_view_city_0202_patch_1_0_png_rf_add170b8bc0fa3373329a336a0da06b3_post.jpg -> train/pre\\sd_3_park_view_city_0202_patch_1_0_png_rf_add170b8bc0fa3373329a336a0da06b3_pre.jpg\n",
      "Renamed: train/pre\\sd_3_park_view_city_1212_patch_1_0_png_rf_40bfbb62b410d86bff5cddd470605d3e_post.jpg -> train/pre\\sd_3_park_view_city_1212_patch_1_0_png_rf_40bfbb62b410d86bff5cddd470605d3e_pre.jpg\n",
      "Renamed: train/pre\\sd_3_park_view_city_1607_patch_1_0_png_rf_3ca02fad7c46480ac2e0609769388250_post.jpg -> train/pre\\sd_3_park_view_city_1607_patch_1_0_png_rf_3ca02fad7c46480ac2e0609769388250_pre.jpg\n",
      "Renamed: train/pre\\sd_3_park_view_city_1903_patch_1_0_png_rf_89d1eb99302e6021944e0d437f309774_post.jpg -> train/pre\\sd_3_park_view_city_1903_patch_1_0_png_rf_89d1eb99302e6021944e0d437f309774_pre.jpg\n",
      "Renamed: train/pre\\sd_3_park_view_city_2005_patch_1_0_png_rf_4f4e3f83c8aa351d5ae894f03314439b_post.jpg -> train/pre\\sd_3_park_view_city_2005_patch_1_0_png_rf_4f4e3f83c8aa351d5ae894f03314439b_pre.jpg\n",
      "Renamed: train/pre\\sd_3_park_view_city_2106_patch_1_0_png_rf_e2fbf4e445001737bcb6c6dfdcc69ffe_post.jpg -> train/pre\\sd_3_park_view_city_2106_patch_1_0_png_rf_e2fbf4e445001737bcb6c6dfdcc69ffe_pre.jpg\n",
      "Renamed: train/pre\\sd_3_park_view_city_2204_patch_1_0_png_rf_e56a3a0c157b2667bc37dffefebede81_post.jpg -> train/pre\\sd_3_park_view_city_2204_patch_1_0_png_rf_e56a3a0c157b2667bc37dffefebede81_pre.jpg\n",
      "Renamed: train/pre\\sd_3_park_view_city_2212_patch_1_0_png_rf_08b07b8312ef1886105bf87578560ee0_post.jpg -> train/pre\\sd_3_park_view_city_2212_patch_1_0_png_rf_08b07b8312ef1886105bf87578560ee0_pre.jpg\n",
      "Renamed: train/pre\\sd_3_park_view_city_2306_patch_1_0_png_rf_43afae4fc2dd4f4fbb6c8848bfca51d3_post.jpg -> train/pre\\sd_3_park_view_city_2306_patch_1_0_png_rf_43afae4fc2dd4f4fbb6c8848bfca51d3_pre.jpg\n",
      "Removed the first '.png' file '000_mask.png' from the folder.\n",
      "Copied 'sd_3_park_view_city_0202_patch_1_0_png_rf_add170b8bc0fa3373329a336a0da06b3_mask.png' from train to train/post.\n",
      "Copied 'sd_3_park_view_city_1212_patch_1_0_png_rf_40bfbb62b410d86bff5cddd470605d3e_mask.png' from train to train/post.\n",
      "Copied 'sd_3_park_view_city_1607_patch_1_0_png_rf_3ca02fad7c46480ac2e0609769388250_mask.png' from train to train/post.\n",
      "Copied 'sd_3_park_view_city_1903_patch_1_0_png_rf_89d1eb99302e6021944e0d437f309774_mask.png' from train to train/post.\n",
      "Copied 'sd_3_park_view_city_2005_patch_1_0_png_rf_4f4e3f83c8aa351d5ae894f03314439b_mask.png' from train to train/post.\n",
      "Copied 'sd_3_park_view_city_2106_patch_1_0_png_rf_e2fbf4e445001737bcb6c6dfdcc69ffe_mask.png' from train to train/post.\n",
      "Copied 'sd_3_park_view_city_2204_patch_1_0_png_rf_e56a3a0c157b2667bc37dffefebede81_mask.png' from train to train/post.\n",
      "Copied 'sd_3_park_view_city_2212_patch_1_0_png_rf_08b07b8312ef1886105bf87578560ee0_mask.png' from train to train/post.\n",
      "Copied 'sd_3_park_view_city_2306_patch_1_0_png_rf_43afae4fc2dd4f4fbb6c8848bfca51d3_mask.png' from train to train/post.\n",
      "Renamed: train/post\\sd_3_park_view_city_0202_patch_1_0_png_rf_add170b8bc0fa3373329a336a0da06b3_mask.png -> train/post\\sd_3_park_view_city_0202_patch_1_0_png_rf_add170b8bc0fa3373329a336a0da06b3_post.png\n",
      "Renamed: train/post\\sd_3_park_view_city_0202_patch_1_0_png_rf_add170b8bc0fa3373329a336a0da06b3_post.jpg -> train/post\\sd_3_park_view_city_0202_patch_1_0_png_rf_add170b8bc0fa3373329a336a0da06b3_post.jpg\n",
      "Renamed: train/post\\sd_3_park_view_city_1212_patch_1_0_png_rf_40bfbb62b410d86bff5cddd470605d3e_mask.png -> train/post\\sd_3_park_view_city_1212_patch_1_0_png_rf_40bfbb62b410d86bff5cddd470605d3e_post.png\n",
      "Renamed: train/post\\sd_3_park_view_city_1212_patch_1_0_png_rf_40bfbb62b410d86bff5cddd470605d3e_post.jpg -> train/post\\sd_3_park_view_city_1212_patch_1_0_png_rf_40bfbb62b410d86bff5cddd470605d3e_post.jpg\n",
      "Renamed: train/post\\sd_3_park_view_city_1607_patch_1_0_png_rf_3ca02fad7c46480ac2e0609769388250_mask.png -> train/post\\sd_3_park_view_city_1607_patch_1_0_png_rf_3ca02fad7c46480ac2e0609769388250_post.png\n",
      "Renamed: train/post\\sd_3_park_view_city_1607_patch_1_0_png_rf_3ca02fad7c46480ac2e0609769388250_post.jpg -> train/post\\sd_3_park_view_city_1607_patch_1_0_png_rf_3ca02fad7c46480ac2e0609769388250_post.jpg\n",
      "Renamed: train/post\\sd_3_park_view_city_1903_patch_1_0_png_rf_89d1eb99302e6021944e0d437f309774_mask.png -> train/post\\sd_3_park_view_city_1903_patch_1_0_png_rf_89d1eb99302e6021944e0d437f309774_post.png\n",
      "Renamed: train/post\\sd_3_park_view_city_1903_patch_1_0_png_rf_89d1eb99302e6021944e0d437f309774_post.jpg -> train/post\\sd_3_park_view_city_1903_patch_1_0_png_rf_89d1eb99302e6021944e0d437f309774_post.jpg\n",
      "Renamed: train/post\\sd_3_park_view_city_2005_patch_1_0_png_rf_4f4e3f83c8aa351d5ae894f03314439b_mask.png -> train/post\\sd_3_park_view_city_2005_patch_1_0_png_rf_4f4e3f83c8aa351d5ae894f03314439b_post.png\n",
      "Renamed: train/post\\sd_3_park_view_city_2005_patch_1_0_png_rf_4f4e3f83c8aa351d5ae894f03314439b_post.jpg -> train/post\\sd_3_park_view_city_2005_patch_1_0_png_rf_4f4e3f83c8aa351d5ae894f03314439b_post.jpg\n",
      "Renamed: train/post\\sd_3_park_view_city_2106_patch_1_0_png_rf_e2fbf4e445001737bcb6c6dfdcc69ffe_mask.png -> train/post\\sd_3_park_view_city_2106_patch_1_0_png_rf_e2fbf4e445001737bcb6c6dfdcc69ffe_post.png\n",
      "Renamed: train/post\\sd_3_park_view_city_2106_patch_1_0_png_rf_e2fbf4e445001737bcb6c6dfdcc69ffe_post.jpg -> train/post\\sd_3_park_view_city_2106_patch_1_0_png_rf_e2fbf4e445001737bcb6c6dfdcc69ffe_post.jpg\n",
      "Renamed: train/post\\sd_3_park_view_city_2204_patch_1_0_png_rf_e56a3a0c157b2667bc37dffefebede81_mask.png -> train/post\\sd_3_park_view_city_2204_patch_1_0_png_rf_e56a3a0c157b2667bc37dffefebede81_post.png\n",
      "Renamed: train/post\\sd_3_park_view_city_2204_patch_1_0_png_rf_e56a3a0c157b2667bc37dffefebede81_post.jpg -> train/post\\sd_3_park_view_city_2204_patch_1_0_png_rf_e56a3a0c157b2667bc37dffefebede81_post.jpg\n",
      "Renamed: train/post\\sd_3_park_view_city_2212_patch_1_0_png_rf_08b07b8312ef1886105bf87578560ee0_mask.png -> train/post\\sd_3_park_view_city_2212_patch_1_0_png_rf_08b07b8312ef1886105bf87578560ee0_post.png\n",
      "Renamed: train/post\\sd_3_park_view_city_2212_patch_1_0_png_rf_08b07b8312ef1886105bf87578560ee0_post.jpg -> train/post\\sd_3_park_view_city_2212_patch_1_0_png_rf_08b07b8312ef1886105bf87578560ee0_post.jpg\n",
      "Renamed: train/post\\sd_3_park_view_city_2306_patch_1_0_png_rf_43afae4fc2dd4f4fbb6c8848bfca51d3_mask.png -> train/post\\sd_3_park_view_city_2306_patch_1_0_png_rf_43afae4fc2dd4f4fbb6c8848bfca51d3_post.png\n",
      "Renamed: train/post\\sd_3_park_view_city_2306_patch_1_0_png_rf_43afae4fc2dd4f4fbb6c8848bfca51d3_post.jpg -> train/post\\sd_3_park_view_city_2306_patch_1_0_png_rf_43afae4fc2dd4f4fbb6c8848bfca51d3_post.jpg\n",
      "Non-zero pixels in 'train\\sd_3_park_view_city_0202_patch_1_0_png_rf_add170b8bc0fa3373329a336a0da06b3_mask.png' replaced with 1. Result saved to 'train/mask\\sd_3_park_view_city_0202_patch_1_0_png_rf_add170b8bc0fa3373329a336a0da06b3_mask.png'.\n",
      "Non-zero pixels in 'train\\sd_3_park_view_city_1212_patch_1_0_png_rf_40bfbb62b410d86bff5cddd470605d3e_mask.png' replaced with 1. Result saved to 'train/mask\\sd_3_park_view_city_1212_patch_1_0_png_rf_40bfbb62b410d86bff5cddd470605d3e_mask.png'.\n",
      "Non-zero pixels in 'train\\sd_3_park_view_city_1607_patch_1_0_png_rf_3ca02fad7c46480ac2e0609769388250_mask.png' replaced with 1. Result saved to 'train/mask\\sd_3_park_view_city_1607_patch_1_0_png_rf_3ca02fad7c46480ac2e0609769388250_mask.png'.\n",
      "Non-zero pixels in 'train\\sd_3_park_view_city_1903_patch_1_0_png_rf_89d1eb99302e6021944e0d437f309774_mask.png' replaced with 1. Result saved to 'train/mask\\sd_3_park_view_city_1903_patch_1_0_png_rf_89d1eb99302e6021944e0d437f309774_mask.png'.\n",
      "Non-zero pixels in 'train\\sd_3_park_view_city_2005_patch_1_0_png_rf_4f4e3f83c8aa351d5ae894f03314439b_mask.png' replaced with 1. Result saved to 'train/mask\\sd_3_park_view_city_2005_patch_1_0_png_rf_4f4e3f83c8aa351d5ae894f03314439b_mask.png'.\n",
      "Non-zero pixels in 'train\\sd_3_park_view_city_2106_patch_1_0_png_rf_e2fbf4e445001737bcb6c6dfdcc69ffe_mask.png' replaced with 1. Result saved to 'train/mask\\sd_3_park_view_city_2106_patch_1_0_png_rf_e2fbf4e445001737bcb6c6dfdcc69ffe_mask.png'.\n",
      "Non-zero pixels in 'train\\sd_3_park_view_city_2204_patch_1_0_png_rf_e56a3a0c157b2667bc37dffefebede81_mask.png' replaced with 1. Result saved to 'train/mask\\sd_3_park_view_city_2204_patch_1_0_png_rf_e56a3a0c157b2667bc37dffefebede81_mask.png'.\n",
      "Non-zero pixels in 'train\\sd_3_park_view_city_2212_patch_1_0_png_rf_08b07b8312ef1886105bf87578560ee0_mask.png' replaced with 1. Result saved to 'train/mask\\sd_3_park_view_city_2212_patch_1_0_png_rf_08b07b8312ef1886105bf87578560ee0_mask.png'.\n",
      "Non-zero pixels in 'train\\sd_3_park_view_city_2306_patch_1_0_png_rf_43afae4fc2dd4f4fbb6c8848bfca51d3_mask.png' replaced with 1. Result saved to 'train/mask\\sd_3_park_view_city_2306_patch_1_0_png_rf_43afae4fc2dd4f4fbb6c8848bfca51d3_mask.png'.\n",
      "Renamed: train/mask\\sd_3_park_view_city_0202_patch_1_0_png_rf_add170b8bc0fa3373329a336a0da06b3_mask.png -> train/mask\\sd_3_park_view_city_0202_patch_1_0_png_rf_add170b8bc0fa3373329a336a0da06b3_pre.png\n",
      "Renamed: train/mask\\sd_3_park_view_city_1212_patch_1_0_png_rf_40bfbb62b410d86bff5cddd470605d3e_mask.png -> train/mask\\sd_3_park_view_city_1212_patch_1_0_png_rf_40bfbb62b410d86bff5cddd470605d3e_pre.png\n",
      "Renamed: train/mask\\sd_3_park_view_city_1607_patch_1_0_png_rf_3ca02fad7c46480ac2e0609769388250_mask.png -> train/mask\\sd_3_park_view_city_1607_patch_1_0_png_rf_3ca02fad7c46480ac2e0609769388250_pre.png\n",
      "Renamed: train/mask\\sd_3_park_view_city_1903_patch_1_0_png_rf_89d1eb99302e6021944e0d437f309774_mask.png -> train/mask\\sd_3_park_view_city_1903_patch_1_0_png_rf_89d1eb99302e6021944e0d437f309774_pre.png\n",
      "Renamed: train/mask\\sd_3_park_view_city_2005_patch_1_0_png_rf_4f4e3f83c8aa351d5ae894f03314439b_mask.png -> train/mask\\sd_3_park_view_city_2005_patch_1_0_png_rf_4f4e3f83c8aa351d5ae894f03314439b_pre.png\n",
      "Renamed: train/mask\\sd_3_park_view_city_2106_patch_1_0_png_rf_e2fbf4e445001737bcb6c6dfdcc69ffe_mask.png -> train/mask\\sd_3_park_view_city_2106_patch_1_0_png_rf_e2fbf4e445001737bcb6c6dfdcc69ffe_pre.png\n",
      "Renamed: train/mask\\sd_3_park_view_city_2204_patch_1_0_png_rf_e56a3a0c157b2667bc37dffefebede81_mask.png -> train/mask\\sd_3_park_view_city_2204_patch_1_0_png_rf_e56a3a0c157b2667bc37dffefebede81_pre.png\n",
      "Renamed: train/mask\\sd_3_park_view_city_2212_patch_1_0_png_rf_08b07b8312ef1886105bf87578560ee0_mask.png -> train/mask\\sd_3_park_view_city_2212_patch_1_0_png_rf_08b07b8312ef1886105bf87578560ee0_pre.png\n",
      "Renamed: train/mask\\sd_3_park_view_city_2306_patch_1_0_png_rf_43afae4fc2dd4f4fbb6c8848bfca51d3_mask.png -> train/mask\\sd_3_park_view_city_2306_patch_1_0_png_rf_43afae4fc2dd4f4fbb6c8848bfca51d3_pre.png\n",
      "Moved 'sd_3_park_view_city_0202_patch_1_0_png_rf_add170b8bc0fa3373329a336a0da06b3_pre.png' from train/mask to train/pre.\n",
      "Moved 'sd_3_park_view_city_1212_patch_1_0_png_rf_40bfbb62b410d86bff5cddd470605d3e_pre.png' from train/mask to train/pre.\n",
      "Moved 'sd_3_park_view_city_1607_patch_1_0_png_rf_3ca02fad7c46480ac2e0609769388250_pre.png' from train/mask to train/pre.\n",
      "Moved 'sd_3_park_view_city_1903_patch_1_0_png_rf_89d1eb99302e6021944e0d437f309774_pre.png' from train/mask to train/pre.\n",
      "Moved 'sd_3_park_view_city_2005_patch_1_0_png_rf_4f4e3f83c8aa351d5ae894f03314439b_pre.png' from train/mask to train/pre.\n",
      "Moved 'sd_3_park_view_city_2106_patch_1_0_png_rf_e2fbf4e445001737bcb6c6dfdcc69ffe_pre.png' from train/mask to train/pre.\n",
      "Moved 'sd_3_park_view_city_2204_patch_1_0_png_rf_e56a3a0c157b2667bc37dffefebede81_pre.png' from train/mask to train/pre.\n",
      "Moved 'sd_3_park_view_city_2212_patch_1_0_png_rf_08b07b8312ef1886105bf87578560ee0_pre.png' from train/mask to train/pre.\n",
      "Moved 'sd_3_park_view_city_2306_patch_1_0_png_rf_43afae4fc2dd4f4fbb6c8848bfca51d3_pre.png' from train/mask to train/pre.\n",
      "Deleted folder: train/mask\n",
      "Deleted: train\\sd_3_park_view_city_0202_patch_1_0_png_rf_add170b8bc0fa3373329a336a0da06b3_mask.png\n",
      "Deleted: train\\sd_3_park_view_city_1212_patch_1_0_png_rf_40bfbb62b410d86bff5cddd470605d3e_mask.png\n",
      "Deleted: train\\sd_3_park_view_city_1607_patch_1_0_png_rf_3ca02fad7c46480ac2e0609769388250_mask.png\n",
      "Deleted: train\\sd_3_park_view_city_1903_patch_1_0_png_rf_89d1eb99302e6021944e0d437f309774_mask.png\n",
      "Deleted: train\\sd_3_park_view_city_2005_patch_1_0_png_rf_4f4e3f83c8aa351d5ae894f03314439b_mask.png\n",
      "Deleted: train\\sd_3_park_view_city_2106_patch_1_0_png_rf_e2fbf4e445001737bcb6c6dfdcc69ffe_mask.png\n",
      "Deleted: train\\sd_3_park_view_city_2204_patch_1_0_png_rf_e56a3a0c157b2667bc37dffefebede81_mask.png\n",
      "Deleted: train\\sd_3_park_view_city_2212_patch_1_0_png_rf_08b07b8312ef1886105bf87578560ee0_mask.png\n",
      "Deleted: train\\sd_3_park_view_city_2306_patch_1_0_png_rf_43afae4fc2dd4f4fbb6c8848bfca51d3_mask.png\n",
      "Deleted all files with extension \".png\" in train\n",
      "Moved 'sd_3_park_view_city_0202_patch_1_0_png_rf_add170b8bc0fa3373329a336a0da06b3_pre.jpg' from train/pre to train/images.\n",
      "Moved 'sd_3_park_view_city_1212_patch_1_0_png_rf_40bfbb62b410d86bff5cddd470605d3e_pre.jpg' from train/pre to train/images.\n",
      "Moved 'sd_3_park_view_city_1607_patch_1_0_png_rf_3ca02fad7c46480ac2e0609769388250_pre.jpg' from train/pre to train/images.\n",
      "Moved 'sd_3_park_view_city_1903_patch_1_0_png_rf_89d1eb99302e6021944e0d437f309774_pre.jpg' from train/pre to train/images.\n",
      "Moved 'sd_3_park_view_city_2005_patch_1_0_png_rf_4f4e3f83c8aa351d5ae894f03314439b_pre.jpg' from train/pre to train/images.\n",
      "Moved 'sd_3_park_view_city_2106_patch_1_0_png_rf_e2fbf4e445001737bcb6c6dfdcc69ffe_pre.jpg' from train/pre to train/images.\n",
      "Moved 'sd_3_park_view_city_2204_patch_1_0_png_rf_e56a3a0c157b2667bc37dffefebede81_pre.jpg' from train/pre to train/images.\n",
      "Moved 'sd_3_park_view_city_2212_patch_1_0_png_rf_08b07b8312ef1886105bf87578560ee0_pre.jpg' from train/pre to train/images.\n",
      "Moved 'sd_3_park_view_city_2306_patch_1_0_png_rf_43afae4fc2dd4f4fbb6c8848bfca51d3_pre.jpg' from train/pre to train/images.\n",
      "Moved 'sd_3_park_view_city_0202_patch_1_0_png_rf_add170b8bc0fa3373329a336a0da06b3_post.jpg' from train/post to train/images.\n",
      "Moved 'sd_3_park_view_city_1212_patch_1_0_png_rf_40bfbb62b410d86bff5cddd470605d3e_post.jpg' from train/post to train/images.\n",
      "Moved 'sd_3_park_view_city_1607_patch_1_0_png_rf_3ca02fad7c46480ac2e0609769388250_post.jpg' from train/post to train/images.\n",
      "Moved 'sd_3_park_view_city_1903_patch_1_0_png_rf_89d1eb99302e6021944e0d437f309774_post.jpg' from train/post to train/images.\n",
      "Moved 'sd_3_park_view_city_2005_patch_1_0_png_rf_4f4e3f83c8aa351d5ae894f03314439b_post.jpg' from train/post to train/images.\n",
      "Moved 'sd_3_park_view_city_2106_patch_1_0_png_rf_e2fbf4e445001737bcb6c6dfdcc69ffe_post.jpg' from train/post to train/images.\n",
      "Moved 'sd_3_park_view_city_2204_patch_1_0_png_rf_e56a3a0c157b2667bc37dffefebede81_post.jpg' from train/post to train/images.\n",
      "Moved 'sd_3_park_view_city_2212_patch_1_0_png_rf_08b07b8312ef1886105bf87578560ee0_post.jpg' from train/post to train/images.\n",
      "Moved 'sd_3_park_view_city_2306_patch_1_0_png_rf_43afae4fc2dd4f4fbb6c8848bfca51d3_post.jpg' from train/post to train/images.\n",
      "Moved 'sd_3_park_view_city_0202_patch_1_0_png_rf_add170b8bc0fa3373329a336a0da06b3_pre.png' from train/pre to train/labels.\n",
      "Moved 'sd_3_park_view_city_1212_patch_1_0_png_rf_40bfbb62b410d86bff5cddd470605d3e_pre.png' from train/pre to train/labels.\n",
      "Moved 'sd_3_park_view_city_1607_patch_1_0_png_rf_3ca02fad7c46480ac2e0609769388250_pre.png' from train/pre to train/labels.\n",
      "Moved 'sd_3_park_view_city_1903_patch_1_0_png_rf_89d1eb99302e6021944e0d437f309774_pre.png' from train/pre to train/labels.\n",
      "Moved 'sd_3_park_view_city_2005_patch_1_0_png_rf_4f4e3f83c8aa351d5ae894f03314439b_pre.png' from train/pre to train/labels.\n",
      "Moved 'sd_3_park_view_city_2106_patch_1_0_png_rf_e2fbf4e445001737bcb6c6dfdcc69ffe_pre.png' from train/pre to train/labels.\n",
      "Moved 'sd_3_park_view_city_2204_patch_1_0_png_rf_e56a3a0c157b2667bc37dffefebede81_pre.png' from train/pre to train/labels.\n",
      "Moved 'sd_3_park_view_city_2212_patch_1_0_png_rf_08b07b8312ef1886105bf87578560ee0_pre.png' from train/pre to train/labels.\n",
      "Moved 'sd_3_park_view_city_2306_patch_1_0_png_rf_43afae4fc2dd4f4fbb6c8848bfca51d3_pre.png' from train/pre to train/labels.\n",
      "Moved 'sd_3_park_view_city_0202_patch_1_0_png_rf_add170b8bc0fa3373329a336a0da06b3_post.png' from train/post to train/labels.\n",
      "Moved 'sd_3_park_view_city_1212_patch_1_0_png_rf_40bfbb62b410d86bff5cddd470605d3e_post.png' from train/post to train/labels.\n",
      "Moved 'sd_3_park_view_city_1607_patch_1_0_png_rf_3ca02fad7c46480ac2e0609769388250_post.png' from train/post to train/labels.\n",
      "Moved 'sd_3_park_view_city_1903_patch_1_0_png_rf_89d1eb99302e6021944e0d437f309774_post.png' from train/post to train/labels.\n",
      "Moved 'sd_3_park_view_city_2005_patch_1_0_png_rf_4f4e3f83c8aa351d5ae894f03314439b_post.png' from train/post to train/labels.\n",
      "Moved 'sd_3_park_view_city_2106_patch_1_0_png_rf_e2fbf4e445001737bcb6c6dfdcc69ffe_post.png' from train/post to train/labels.\n",
      "Moved 'sd_3_park_view_city_2204_patch_1_0_png_rf_e56a3a0c157b2667bc37dffefebede81_post.png' from train/post to train/labels.\n",
      "Moved 'sd_3_park_view_city_2212_patch_1_0_png_rf_08b07b8312ef1886105bf87578560ee0_post.png' from train/post to train/labels.\n",
      "Moved 'sd_3_park_view_city_2306_patch_1_0_png_rf_43afae4fc2dd4f4fbb6c8848bfca51d3_post.png' from train/post to train/labels.\n",
      "Deleted folder: train/pre\n",
      "Deleted folder: train/post\n",
      "Conversion and deletion completed.\n",
      "-----------------------------------------------\n",
      "------------ All Done Thank You!!! ------------\n",
      "-----------------------------------------------\n"
     ]
    }
   ],
   "source": [
    "exec(open(\"C:/Users/Asus/Documents/GitHub/one-cd-data-renamer/data_self_gen/train3/subdata3/one_data_pre_process.py\").read())"
   ]
  },
  {
   "cell_type": "code",
   "execution_count": 95,
   "metadata": {},
   "outputs": [
    {
     "name": "stdout",
     "output_type": "stream",
     "text": [
      "C:\\Users\\Asus\\Documents\\GitHub\\one-cd-data-renamer\n"
     ]
    }
   ],
   "source": [
    "cd \"C:/Users/Asus/Documents/GitHub/one-cd-data-renamer\""
   ]
  },
  {
   "cell_type": "code",
   "execution_count": 96,
   "metadata": {},
   "outputs": [
    {
     "data": {
      "text/plain": [
       "'C:\\\\Users\\\\Asus\\\\Documents\\\\GitHub\\\\one-cd-data-renamer'"
      ]
     },
     "execution_count": 96,
     "metadata": {},
     "output_type": "execute_result"
    }
   ],
   "source": [
    "pwd"
   ]
  },
  {
   "cell_type": "code",
   "execution_count": 98,
   "metadata": {},
   "outputs": [
    {
     "ename": "FileNotFoundError",
     "evalue": "[WinError 2] The system cannot find the file specified",
     "output_type": "error",
     "traceback": [
      "\u001b[1;31m---------------------------------------------------------------------------\u001b[0m",
      "\u001b[1;31mFileNotFoundError\u001b[0m                         Traceback (most recent call last)",
      "Cell \u001b[1;32mIn[98], line 7\u001b[0m\n\u001b[0;32m      4\u001b[0m cd_dir \u001b[38;5;241m=\u001b[39m \u001b[38;5;124m\"\u001b[39m\u001b[38;5;124mC:/Users/Asus/Documents/GitHub/one-cd-data-renamer/data_self_gen/train3/subdata5/\u001b[39m\u001b[38;5;124m\"\u001b[39m\n\u001b[0;32m      6\u001b[0m \u001b[38;5;66;03m# Run the Python file\u001b[39;00m\n\u001b[1;32m----> 7\u001b[0m \u001b[43msubprocess\u001b[49m\u001b[38;5;241;43m.\u001b[39;49m\u001b[43mrun\u001b[49m\u001b[43m(\u001b[49m\u001b[43m[\u001b[49m\u001b[38;5;124;43m'\u001b[39;49m\u001b[38;5;124;43mcd\u001b[39;49m\u001b[38;5;124;43m'\u001b[39;49m\u001b[43m,\u001b[49m\u001b[43m \u001b[49m\u001b[43mcd_dir\u001b[49m\u001b[43m]\u001b[49m\u001b[43m)\u001b[49m\n",
      "File \u001b[1;32mc:\\Users\\Asus\\AppData\\Local\\Programs\\Python\\Python312\\Lib\\subprocess.py:548\u001b[0m, in \u001b[0;36mrun\u001b[1;34m(input, capture_output, timeout, check, *popenargs, **kwargs)\u001b[0m\n\u001b[0;32m    545\u001b[0m     kwargs[\u001b[38;5;124m'\u001b[39m\u001b[38;5;124mstdout\u001b[39m\u001b[38;5;124m'\u001b[39m] \u001b[38;5;241m=\u001b[39m PIPE\n\u001b[0;32m    546\u001b[0m     kwargs[\u001b[38;5;124m'\u001b[39m\u001b[38;5;124mstderr\u001b[39m\u001b[38;5;124m'\u001b[39m] \u001b[38;5;241m=\u001b[39m PIPE\n\u001b[1;32m--> 548\u001b[0m \u001b[38;5;28;01mwith\u001b[39;00m \u001b[43mPopen\u001b[49m\u001b[43m(\u001b[49m\u001b[38;5;241;43m*\u001b[39;49m\u001b[43mpopenargs\u001b[49m\u001b[43m,\u001b[49m\u001b[43m \u001b[49m\u001b[38;5;241;43m*\u001b[39;49m\u001b[38;5;241;43m*\u001b[39;49m\u001b[43mkwargs\u001b[49m\u001b[43m)\u001b[49m \u001b[38;5;28;01mas\u001b[39;00m process:\n\u001b[0;32m    549\u001b[0m     \u001b[38;5;28;01mtry\u001b[39;00m:\n\u001b[0;32m    550\u001b[0m         stdout, stderr \u001b[38;5;241m=\u001b[39m process\u001b[38;5;241m.\u001b[39mcommunicate(\u001b[38;5;28minput\u001b[39m, timeout\u001b[38;5;241m=\u001b[39mtimeout)\n",
      "File \u001b[1;32mc:\\Users\\Asus\\AppData\\Local\\Programs\\Python\\Python312\\Lib\\subprocess.py:1026\u001b[0m, in \u001b[0;36mPopen.__init__\u001b[1;34m(self, args, bufsize, executable, stdin, stdout, stderr, preexec_fn, close_fds, shell, cwd, env, universal_newlines, startupinfo, creationflags, restore_signals, start_new_session, pass_fds, user, group, extra_groups, encoding, errors, text, umask, pipesize, process_group)\u001b[0m\n\u001b[0;32m   1022\u001b[0m         \u001b[38;5;28;01mif\u001b[39;00m \u001b[38;5;28mself\u001b[39m\u001b[38;5;241m.\u001b[39mtext_mode:\n\u001b[0;32m   1023\u001b[0m             \u001b[38;5;28mself\u001b[39m\u001b[38;5;241m.\u001b[39mstderr \u001b[38;5;241m=\u001b[39m io\u001b[38;5;241m.\u001b[39mTextIOWrapper(\u001b[38;5;28mself\u001b[39m\u001b[38;5;241m.\u001b[39mstderr,\n\u001b[0;32m   1024\u001b[0m                     encoding\u001b[38;5;241m=\u001b[39mencoding, errors\u001b[38;5;241m=\u001b[39merrors)\n\u001b[1;32m-> 1026\u001b[0m     \u001b[38;5;28;43mself\u001b[39;49m\u001b[38;5;241;43m.\u001b[39;49m\u001b[43m_execute_child\u001b[49m\u001b[43m(\u001b[49m\u001b[43margs\u001b[49m\u001b[43m,\u001b[49m\u001b[43m \u001b[49m\u001b[43mexecutable\u001b[49m\u001b[43m,\u001b[49m\u001b[43m \u001b[49m\u001b[43mpreexec_fn\u001b[49m\u001b[43m,\u001b[49m\u001b[43m \u001b[49m\u001b[43mclose_fds\u001b[49m\u001b[43m,\u001b[49m\n\u001b[0;32m   1027\u001b[0m \u001b[43m                        \u001b[49m\u001b[43mpass_fds\u001b[49m\u001b[43m,\u001b[49m\u001b[43m \u001b[49m\u001b[43mcwd\u001b[49m\u001b[43m,\u001b[49m\u001b[43m \u001b[49m\u001b[43menv\u001b[49m\u001b[43m,\u001b[49m\n\u001b[0;32m   1028\u001b[0m \u001b[43m                        \u001b[49m\u001b[43mstartupinfo\u001b[49m\u001b[43m,\u001b[49m\u001b[43m \u001b[49m\u001b[43mcreationflags\u001b[49m\u001b[43m,\u001b[49m\u001b[43m \u001b[49m\u001b[43mshell\u001b[49m\u001b[43m,\u001b[49m\n\u001b[0;32m   1029\u001b[0m \u001b[43m                        \u001b[49m\u001b[43mp2cread\u001b[49m\u001b[43m,\u001b[49m\u001b[43m \u001b[49m\u001b[43mp2cwrite\u001b[49m\u001b[43m,\u001b[49m\n\u001b[0;32m   1030\u001b[0m \u001b[43m                        \u001b[49m\u001b[43mc2pread\u001b[49m\u001b[43m,\u001b[49m\u001b[43m \u001b[49m\u001b[43mc2pwrite\u001b[49m\u001b[43m,\u001b[49m\n\u001b[0;32m   1031\u001b[0m \u001b[43m                        \u001b[49m\u001b[43merrread\u001b[49m\u001b[43m,\u001b[49m\u001b[43m \u001b[49m\u001b[43merrwrite\u001b[49m\u001b[43m,\u001b[49m\n\u001b[0;32m   1032\u001b[0m \u001b[43m                        \u001b[49m\u001b[43mrestore_signals\u001b[49m\u001b[43m,\u001b[49m\n\u001b[0;32m   1033\u001b[0m \u001b[43m                        \u001b[49m\u001b[43mgid\u001b[49m\u001b[43m,\u001b[49m\u001b[43m \u001b[49m\u001b[43mgids\u001b[49m\u001b[43m,\u001b[49m\u001b[43m \u001b[49m\u001b[43muid\u001b[49m\u001b[43m,\u001b[49m\u001b[43m \u001b[49m\u001b[43mumask\u001b[49m\u001b[43m,\u001b[49m\n\u001b[0;32m   1034\u001b[0m \u001b[43m                        \u001b[49m\u001b[43mstart_new_session\u001b[49m\u001b[43m,\u001b[49m\u001b[43m \u001b[49m\u001b[43mprocess_group\u001b[49m\u001b[43m)\u001b[49m\n\u001b[0;32m   1035\u001b[0m \u001b[38;5;28;01mexcept\u001b[39;00m:\n\u001b[0;32m   1036\u001b[0m     \u001b[38;5;66;03m# Cleanup if the child failed starting.\u001b[39;00m\n\u001b[0;32m   1037\u001b[0m     \u001b[38;5;28;01mfor\u001b[39;00m f \u001b[38;5;129;01min\u001b[39;00m \u001b[38;5;28mfilter\u001b[39m(\u001b[38;5;28;01mNone\u001b[39;00m, (\u001b[38;5;28mself\u001b[39m\u001b[38;5;241m.\u001b[39mstdin, \u001b[38;5;28mself\u001b[39m\u001b[38;5;241m.\u001b[39mstdout, \u001b[38;5;28mself\u001b[39m\u001b[38;5;241m.\u001b[39mstderr)):\n",
      "File \u001b[1;32mc:\\Users\\Asus\\AppData\\Local\\Programs\\Python\\Python312\\Lib\\subprocess.py:1538\u001b[0m, in \u001b[0;36mPopen._execute_child\u001b[1;34m(self, args, executable, preexec_fn, close_fds, pass_fds, cwd, env, startupinfo, creationflags, shell, p2cread, p2cwrite, c2pread, c2pwrite, errread, errwrite, unused_restore_signals, unused_gid, unused_gids, unused_uid, unused_umask, unused_start_new_session, unused_process_group)\u001b[0m\n\u001b[0;32m   1536\u001b[0m \u001b[38;5;66;03m# Start the process\u001b[39;00m\n\u001b[0;32m   1537\u001b[0m \u001b[38;5;28;01mtry\u001b[39;00m:\n\u001b[1;32m-> 1538\u001b[0m     hp, ht, pid, tid \u001b[38;5;241m=\u001b[39m \u001b[43m_winapi\u001b[49m\u001b[38;5;241;43m.\u001b[39;49m\u001b[43mCreateProcess\u001b[49m\u001b[43m(\u001b[49m\u001b[43mexecutable\u001b[49m\u001b[43m,\u001b[49m\u001b[43m \u001b[49m\u001b[43margs\u001b[49m\u001b[43m,\u001b[49m\n\u001b[0;32m   1539\u001b[0m \u001b[43m                             \u001b[49m\u001b[38;5;66;43;03m# no special security\u001b[39;49;00m\n\u001b[0;32m   1540\u001b[0m \u001b[43m                             \u001b[49m\u001b[38;5;28;43;01mNone\u001b[39;49;00m\u001b[43m,\u001b[49m\u001b[43m \u001b[49m\u001b[38;5;28;43;01mNone\u001b[39;49;00m\u001b[43m,\u001b[49m\n\u001b[0;32m   1541\u001b[0m \u001b[43m                             \u001b[49m\u001b[38;5;28;43mint\u001b[39;49m\u001b[43m(\u001b[49m\u001b[38;5;129;43;01mnot\u001b[39;49;00m\u001b[43m \u001b[49m\u001b[43mclose_fds\u001b[49m\u001b[43m)\u001b[49m\u001b[43m,\u001b[49m\n\u001b[0;32m   1542\u001b[0m \u001b[43m                             \u001b[49m\u001b[43mcreationflags\u001b[49m\u001b[43m,\u001b[49m\n\u001b[0;32m   1543\u001b[0m \u001b[43m                             \u001b[49m\u001b[43menv\u001b[49m\u001b[43m,\u001b[49m\n\u001b[0;32m   1544\u001b[0m \u001b[43m                             \u001b[49m\u001b[43mcwd\u001b[49m\u001b[43m,\u001b[49m\n\u001b[0;32m   1545\u001b[0m \u001b[43m                             \u001b[49m\u001b[43mstartupinfo\u001b[49m\u001b[43m)\u001b[49m\n\u001b[0;32m   1546\u001b[0m \u001b[38;5;28;01mfinally\u001b[39;00m:\n\u001b[0;32m   1547\u001b[0m     \u001b[38;5;66;03m# Child is launched. Close the parent's copy of those pipe\u001b[39;00m\n\u001b[0;32m   1548\u001b[0m     \u001b[38;5;66;03m# handles that only the child should have open.  You need\u001b[39;00m\n\u001b[1;32m   (...)\u001b[0m\n\u001b[0;32m   1551\u001b[0m     \u001b[38;5;66;03m# pipe will not close when the child process exits and the\u001b[39;00m\n\u001b[0;32m   1552\u001b[0m     \u001b[38;5;66;03m# ReadFile will hang.\u001b[39;00m\n\u001b[0;32m   1553\u001b[0m     \u001b[38;5;28mself\u001b[39m\u001b[38;5;241m.\u001b[39m_close_pipe_fds(p2cread, p2cwrite,\n\u001b[0;32m   1554\u001b[0m                          c2pread, c2pwrite,\n\u001b[0;32m   1555\u001b[0m                          errread, errwrite)\n",
      "\u001b[1;31mFileNotFoundError\u001b[0m: [WinError 2] The system cannot find the file specified"
     ]
    }
   ],
   "source": [
    "import subprocess\n",
    "\n",
    "# Path to the Python file you want to run\n",
    "cd_dir = \"C:/Users/Asus/Documents/GitHub/one-cd-data-renamer/data_self_gen/train3/subdata5/\"\n",
    "\n",
    "# Run the Python file\n",
    "subprocess.run(['cd', cd_dir])"
   ]
  },
  {
   "cell_type": "code",
   "execution_count": 110,
   "metadata": {},
   "outputs": [
    {
     "name": "stdout",
     "output_type": "stream",
     "text": [
      "C:\\Users\\Asus\\Documents\\GitHub\\one-cd-data-renamer\\data_self_gen\\train3\n"
     ]
    },
    {
     "name": "stderr",
     "output_type": "stream",
     "text": [
      "c:\\Users\\Asus\\AppData\\Local\\Programs\\Python\\Python312\\Lib\\site-packages\\IPython\\core\\magics\\osm.py:417: UserWarning: using dhist requires you to install the `pickleshare` library.\n",
      "  self.shell.db['dhist'] = compress_dhist(dhist)[-100:]\n"
     ]
    }
   ],
   "source": [
    "cd \"C:/Users/Asus/Documents/GitHub/one-cd-data-renamer/data_self_gen/train3/\""
   ]
  },
  {
   "cell_type": "code",
   "execution_count": 111,
   "metadata": {},
   "outputs": [
    {
     "data": {
      "text/plain": [
       "'C:\\\\Users\\\\Asus\\\\Documents\\\\GitHub\\\\one-cd-data-renamer\\\\data_self_gen\\\\train3'"
      ]
     },
     "execution_count": 111,
     "metadata": {},
     "output_type": "execute_result"
    }
   ],
   "source": [
    "pwd"
   ]
  },
  {
   "cell_type": "code",
   "execution_count": 105,
   "metadata": {},
   "outputs": [
    {
     "data": {
      "text/plain": [
       "CompletedProcess(args=['python', 'C:/Users/Asus/Documents/GitHub/one-cd-data-renamer/data_self_gen/train3/subdata4/one_data_pre_process.py'], returncode=0)"
      ]
     },
     "execution_count": 105,
     "metadata": {},
     "output_type": "execute_result"
    }
   ],
   "source": [
    "import subprocess\n",
    "\n",
    "# Path to the Python file you want to run\n",
    "python_file_path = \"C:/Users/Asus/Documents/GitHub/one-cd-data-renamer/data_self_gen/train3/subdata4/one_data_pre_process.py\"\n",
    "\n",
    "# Run the Python file\n",
    "subprocess.run([\"python\", python_file_path])\n"
   ]
  },
  {
   "cell_type": "code",
   "execution_count": 112,
   "metadata": {},
   "outputs": [
    {
     "data": {
      "text/plain": [
       "CompletedProcess(args=['python', 'C:/Users/Asus/Documents/GitHub/one-cd-data-renamer/data_self_gen/train3/subdata4/one_data_pre_process.py'], returncode=1)"
      ]
     },
     "execution_count": 112,
     "metadata": {},
     "output_type": "execute_result"
    }
   ],
   "source": [
    "import subprocess\n",
    "\n",
    "# Path to the Python file you want to run\n",
    "python_file_path = \"C:/Users/Asus/Documents/GitHub/one-cd-data-renamer/data_self_gen/train3/subdata4/one_data_pre_process.py\"\n",
    "\n",
    "# Run the Python file\n",
    "subprocess.run([\"python\", python_file_path])"
   ]
  },
  {
   "cell_type": "code",
   "execution_count": null,
   "metadata": {},
   "outputs": [],
   "source": []
  }
 ],
 "metadata": {
  "kernelspec": {
   "display_name": "Python 3",
   "language": "python",
   "name": "python3"
  },
  "language_info": {
   "codemirror_mode": {
    "name": "ipython",
    "version": 3
   },
   "file_extension": ".py",
   "mimetype": "text/x-python",
   "name": "python",
   "nbconvert_exporter": "python",
   "pygments_lexer": "ipython3",
   "version": "3.11.8"
  }
 },
 "nbformat": 4,
 "nbformat_minor": 2
}
