{
 "cells": [
  {
   "cell_type": "code",
   "execution_count": 1,
   "metadata": {},
   "outputs": [],
   "source": [
    "import os\n",
    "import glob\n",
    "\n",
    "def delete_images_with_keyword(folder_path, keyword):\n",
    "    # Get a list of image files in the folder\n",
    "    image_files = glob.glob(os.path.join(folder_path, '*.jpg')) + glob.glob(os.path.join(folder_path, '*.png'))\n",
    "\n",
    "    # Iterate through each image file\n",
    "    for image_file in image_files:\n",
    "        # Check if the keyword is in the file name\n",
    "        if keyword in os.path.basename(image_file):\n",
    "            # Delete the image file\n",
    "            os.remove(image_file)\n",
    "            print(f\"Deleted {image_file}\")\n",
    "\n",
    "# Replace 'folder_path' with the path to your folder containing images\n",
    "folder_path = 'train/images'\n",
    "# Replace 'pre' with your keyword\n",
    "keyword = 'pre'\n",
    "\n",
    "# Call the function to delete images with the specified keyword\n",
    "delete_images_with_keyword(folder_path, keyword)\n"
   ]
  },
  {
   "cell_type": "code",
   "execution_count": 2,
   "metadata": {},
   "outputs": [],
   "source": [
    "# Replace 'folder_path' with the path to your folder containing images\n",
    "folder_path = 'train/labels'\n",
    "delete_images_with_keyword(folder_path, keyword)"
   ]
  },
  {
   "cell_type": "code",
   "execution_count": 3,
   "metadata": {},
   "outputs": [
    {
     "name": "stdout",
     "output_type": "stream",
     "text": [
      "Folder structure created successfully.\n"
     ]
    }
   ],
   "source": [
    "import os\n",
    "\n",
    "# Define the root folder name\n",
    "root_folder = 'train2'\n",
    "\n",
    "# Create the root folder if it doesn't exist\n",
    "if not os.path.exists(root_folder):\n",
    "    os.mkdir(root_folder)\n",
    "    print(f\"Created folder '{root_folder}'\")\n",
    "\n",
    "# Define the subfolder names\n",
    "subfolders = ['tmp_image', 'tmp_label', 'result']\n",
    "\n",
    "# Create the subfolders inside the root folder\n",
    "for subfolder in subfolders:\n",
    "    subfolder_path = os.path.join(root_folder, subfolder)\n",
    "    if not os.path.exists(subfolder_path):\n",
    "        os.mkdir(subfolder_path)\n",
    "        print(f\"Created subfolder '{subfolder}'\")\n",
    "\n",
    "print(\"Folder structure created successfully.\")\n"
   ]
  },
  {
   "cell_type": "markdown",
   "metadata": {},
   "source": [
    "Copying data"
   ]
  },
  {
   "cell_type": "code",
   "execution_count": 4,
   "metadata": {},
   "outputs": [],
   "source": [
    "import os\n",
    "import shutil\n",
    "\n",
    "def copy_folder_contents(source_folder, destination_folder):\n",
    "    # Create destination folder if it doesn't exist\n",
    "    if not os.path.exists(destination_folder):\n",
    "        os.makedirs(destination_folder)\n",
    "\n",
    "    # Get list of all files and sub-folders in the source folder\n",
    "    contents = os.listdir(source_folder)\n",
    "\n",
    "    # Copy each file and sub-folder to the destination folder\n",
    "    for item in contents:\n",
    "        source_item = os.path.join(source_folder, item)\n",
    "        destination_item = os.path.join(destination_folder, item)\n",
    "        if os.path.isdir(source_item):\n",
    "            # If item is a folder, recursively call copy_folder_contents\n",
    "            copy_folder_contents(source_item, destination_item)\n",
    "        else:\n",
    "            # If item is a file, copy it to destination folder\n",
    "            shutil.copy2(source_item, destination_folder)\n",
    "\n",
    "# Replace 'source_folder' and 'destination_folder' with the paths to your folders\n",
    "source_folder = 'train'\n",
    "destination_folder = 'train2'\n",
    "\n",
    "# Call the function to copy contents from source_folder to destination_folder\n",
    "copy_folder_contents(source_folder, destination_folder)\n"
   ]
  },
  {
   "cell_type": "markdown",
   "metadata": {},
   "source": [
    "moving last image and file to other folder"
   ]
  },
  {
   "cell_type": "code",
   "execution_count": 7,
   "metadata": {},
   "outputs": [
    {
     "name": "stdout",
     "output_type": "stream",
     "text": [
      "Moved 'bolari_1709_patch_1_1_png_rf_e1954174c34a6ee69ee8c7073d894e36_post.png' to 'train2/tmp_image'\n",
      "Moved 'bolari_1709_patch_1_1_png_rf_e1954174c34a6ee69ee8c7073d894e36_post.png' to 'train2/tmp_label'\n"
     ]
    }
   ],
   "source": [
    "import os\n",
    "import shutil\n",
    "\n",
    "def move_first_file(source_folder, destination_folder):\n",
    "    # Get list of files in the source folder\n",
    "    files = os.listdir(source_folder)\n",
    "\n",
    "    if files:\n",
    "        # Get the first file in the list\n",
    "        first_file = files[0]\n",
    "\n",
    "        # Construct paths for source and destination files\n",
    "        source_file_path = os.path.join(source_folder, first_file)\n",
    "        destination_file_path = os.path.join(destination_folder, first_file)\n",
    "\n",
    "        # Move the file to the destination folder\n",
    "        shutil.move(source_file_path, destination_file_path)\n",
    "        print(f\"Moved '{first_file}' to '{destination_folder}'\")\n",
    "    else:\n",
    "        print(\"Source folder is empty.\")\n",
    "\n",
    "# Replace 'source_folder' and 'destination_folder' with the paths to your folders\n",
    "source_folder = 'train2/images'\n",
    "destination_folder = 'train2/tmp_image'\n",
    "\n",
    "# Call the function to move the first file from source_folder to destination_folder\n",
    "move_first_file(source_folder, destination_folder)\n",
    "\n",
    "source_folder = 'train2/labels'\n",
    "destination_folder = 'train2/tmp_label'\n",
    "\n",
    "move_first_file(source_folder, destination_folder)\n",
    "\n"
   ]
  },
  {
   "cell_type": "markdown",
   "metadata": {},
   "source": [
    "Image subtraction"
   ]
  },
  {
   "cell_type": "code",
   "execution_count": 8,
   "metadata": {},
   "outputs": [
    {
     "ename": "AttributeError",
     "evalue": "'NoneType' object has no attribute 'shape'",
     "output_type": "error",
     "traceback": [
      "\u001b[1;31m---------------------------------------------------------------------------\u001b[0m",
      "\u001b[1;31mAttributeError\u001b[0m                            Traceback (most recent call last)",
      "Cell \u001b[1;32mIn[8], line 29\u001b[0m\n\u001b[0;32m     26\u001b[0m output_path \u001b[38;5;241m=\u001b[39m \u001b[38;5;124m'\u001b[39m\u001b[38;5;124mtrain2/result1/result.png\u001b[39m\u001b[38;5;124m'\u001b[39m\n\u001b[0;32m     28\u001b[0m \u001b[38;5;66;03m# Call the function to subtract binary images\u001b[39;00m\n\u001b[1;32m---> 29\u001b[0m \u001b[43msubtract_binary_images\u001b[49m\u001b[43m(\u001b[49m\u001b[43mimage1_path\u001b[49m\u001b[43m,\u001b[49m\u001b[43m \u001b[49m\u001b[43mimage2_path\u001b[49m\u001b[43m,\u001b[49m\u001b[43m \u001b[49m\u001b[43moutput_path\u001b[49m\u001b[43m)\u001b[49m\n",
      "Cell \u001b[1;32mIn[8], line 10\u001b[0m, in \u001b[0;36msubtract_binary_images\u001b[1;34m(image1_path, image2_path, output_path)\u001b[0m\n\u001b[0;32m      7\u001b[0m image2 \u001b[38;5;241m=\u001b[39m cv2\u001b[38;5;241m.\u001b[39mimread(image2_path, cv2\u001b[38;5;241m.\u001b[39mIMREAD_GRAYSCALE)\n\u001b[0;32m      9\u001b[0m \u001b[38;5;66;03m# Ensure that both images have the same dimensions\u001b[39;00m\n\u001b[1;32m---> 10\u001b[0m \u001b[38;5;28;01mif\u001b[39;00m image1\u001b[38;5;241m.\u001b[39mshape \u001b[38;5;241m!=\u001b[39m \u001b[43mimage2\u001b[49m\u001b[38;5;241;43m.\u001b[39;49m\u001b[43mshape\u001b[49m:\n\u001b[0;32m     11\u001b[0m     \u001b[38;5;28mprint\u001b[39m(\u001b[38;5;124m\"\u001b[39m\u001b[38;5;124mError: Images must have the same dimensions.\u001b[39m\u001b[38;5;124m\"\u001b[39m)\n\u001b[0;32m     12\u001b[0m     \u001b[38;5;28;01mreturn\u001b[39;00m\n",
      "\u001b[1;31mAttributeError\u001b[0m: 'NoneType' object has no attribute 'shape'"
     ]
    }
   ],
   "source": [
    "import cv2\n",
    "import numpy as np\n",
    "\n",
    "def subtract_binary_images(image1_path, image2_path, output_path):\n",
    "    # Load the binary images in grayscale mode\n",
    "    image1 = cv2.imread(image1_path, cv2.IMREAD_GRAYSCALE)\n",
    "    image2 = cv2.imread(image2_path, cv2.IMREAD_GRAYSCALE)\n",
    "\n",
    "    # Ensure that both images have the same dimensions\n",
    "    if image1.shape != image2.shape:\n",
    "        print(\"Error: Images must have the same dimensions.\")\n",
    "        return\n",
    "\n",
    "    # Perform pixel-wise subtraction\n",
    "    result = cv2.subtract(image1, image2)\n",
    "\n",
    "    # Save the result as PNG\n",
    "    cv2.imwrite(output_path, result)\n",
    "\n",
    "    print(f\"Subtracted images and saved result to '{output_path}'\")\n",
    "\n",
    "\n",
    "# Replace 'image1_path', 'image2_path', and 'output_path' with your image file paths\n",
    "image1_path = 'train2/labels/bolari_1802_patch_1_1_png_rf_81647124bd8c565e704f14428d42e0fc_post.png'\n",
    "image2_path = 'train2/tmp_label/bolari_1709_patch_1_1_png_rf_e1954174c34a6ee69ee8c7073d894e36_post.png'\n",
    "output_path = 'train2/result1/result.png'\n",
    "\n",
    "# Call the function to subtract binary images\n",
    "subtract_binary_images(image1_path, image2_path, output_path)\n"
   ]
  },
  {
   "cell_type": "markdown",
   "metadata": {},
   "source": [
    "## Subtract from all images"
   ]
  },
  {
   "cell_type": "code",
   "execution_count": 9,
   "metadata": {},
   "outputs": [],
   "source": [
    "lbl_list = os.listdir('train2/labels')"
   ]
  },
  {
   "cell_type": "code",
   "execution_count": 10,
   "metadata": {},
   "outputs": [
    {
     "data": {
      "text/plain": [
       "'bolari_1709_patch_1_1_png_rf_e1954174c34a6ee69ee8c7073d894e36_post.png'"
      ]
     },
     "execution_count": 10,
     "metadata": {},
     "output_type": "execute_result"
    }
   ],
   "source": [
    "os.listdir('train2/labels')[0]"
   ]
  },
  {
   "cell_type": "code",
   "execution_count": 12,
   "metadata": {},
   "outputs": [
    {
     "data": {
      "text/plain": [
       "8"
      ]
     },
     "execution_count": 12,
     "metadata": {},
     "output_type": "execute_result"
    }
   ],
   "source": [
    "len(os.listdir('train2/labels'))"
   ]
  },
  {
   "cell_type": "code",
   "execution_count": 16,
   "metadata": {},
   "outputs": [
    {
     "name": "stdout",
     "output_type": "stream",
     "text": [
      "0\n",
      "1\n",
      "2\n",
      "3\n",
      "4\n",
      "5\n",
      "6\n",
      "7\n"
     ]
    }
   ],
   "source": [
    "for i in range(8):\n",
    "    print(i)"
   ]
  },
  {
   "cell_type": "code",
   "execution_count": 11,
   "metadata": {},
   "outputs": [
    {
     "name": "stdout",
     "output_type": "stream",
     "text": [
      "Creating directory 'train2/result2'...\n"
     ]
    }
   ],
   "source": [
    "import os\n",
    "\n",
    "def create_directory(directory):\n",
    "    if os.path.exists(directory):\n",
    "        print(f\"Directory '{directory}' already exists. Deleting it...\")\n",
    "        os.rmdir(directory)\n",
    "    print(f\"Creating directory '{directory}'...\")\n",
    "    os.makedirs(directory)\n",
    "\n",
    "create_directory('train2/result2')\n"
   ]
  },
  {
   "cell_type": "code",
   "execution_count": 13,
   "metadata": {},
   "outputs": [
    {
     "name": "stdout",
     "output_type": "stream",
     "text": [
      "Directory 'train2/result2' already exists. Skipping creation.\n"
     ]
    }
   ],
   "source": [
    "\n"
   ]
  },
  {
   "cell_type": "markdown",
   "metadata": {},
   "source": [
    "## Main Data Label Gen Code"
   ]
  },
  {
   "cell_type": "code",
   "execution_count": 45,
   "metadata": {},
   "outputs": [
    {
     "name": "stdout",
     "output_type": "stream",
     "text": [
      "Directory 'train2/subdata0' already exists. Skipping creation.\n",
      "Subtracted images and saved result to 'train2/subdata0/bolari_1802_patch_1_1_png_rf_81647124bd8c565e704f14428d42e0fc_post.png'\n",
      "Directory 'train2/subdata0' already exists. Skipping creation.\n",
      "Subtracted images and saved result to 'train2/subdata0/bolari_1812_patch_1_1_png_rf_c3e8517182202e36f3709e7e68a12ae9_post.png'\n",
      "Directory 'train2/subdata0' already exists. Skipping creation.\n",
      "Subtracted images and saved result to 'train2/subdata0/bolari_1902_patch_1_1_png_rf_53ee81544706e462fa08cc228841479b_post.png'\n",
      "Directory 'train2/subdata0' already exists. Skipping creation.\n",
      "Subtracted images and saved result to 'train2/subdata0/bolari_1906_patch_1_1_png_rf_9fa7a2caaa9a4b2d8392ba68c11a0ea5_post.png'\n",
      "Directory 'train2/subdata0' already exists. Skipping creation.\n",
      "Subtracted images and saved result to 'train2/subdata0/bolari_1912_patch_1_1_png_rf_20ec8e4456d5a1b4be195142d9634e81_post.png'\n",
      "Directory 'train2/subdata0' already exists. Skipping creation.\n",
      "Subtracted images and saved result to 'train2/subdata0/bolari_2012_patch_1_1_png_rf_85d2b849e62c8f1c6578fcadce3fe6b7_post.png'\n",
      "Directory 'train2/subdata0' already exists. Skipping creation.\n",
      "Subtracted images and saved result to 'train2/subdata0/bolari_2211_patch_1_1_png_rf_0c65e8a1d3e2965cb6e3a090d8d8e2af_post.png'\n",
      "Directory 'train2/subdata1' already exists. Skipping creation.\n",
      "Subtracted images and saved result to 'train2/subdata1/bolari_1709_patch_1_1_png_rf_e1954174c34a6ee69ee8c7073d894e36_post.png'\n",
      "Directory 'train2/subdata1' already exists. Skipping creation.\n",
      "Subtracted images and saved result to 'train2/subdata1/bolari_1812_patch_1_1_png_rf_c3e8517182202e36f3709e7e68a12ae9_post.png'\n",
      "Directory 'train2/subdata1' already exists. Skipping creation.\n",
      "Subtracted images and saved result to 'train2/subdata1/bolari_1902_patch_1_1_png_rf_53ee81544706e462fa08cc228841479b_post.png'\n",
      "Directory 'train2/subdata1' already exists. Skipping creation.\n",
      "Subtracted images and saved result to 'train2/subdata1/bolari_1906_patch_1_1_png_rf_9fa7a2caaa9a4b2d8392ba68c11a0ea5_post.png'\n",
      "Directory 'train2/subdata1' already exists. Skipping creation.\n",
      "Subtracted images and saved result to 'train2/subdata1/bolari_1912_patch_1_1_png_rf_20ec8e4456d5a1b4be195142d9634e81_post.png'\n",
      "Directory 'train2/subdata1' already exists. Skipping creation.\n",
      "Subtracted images and saved result to 'train2/subdata1/bolari_2012_patch_1_1_png_rf_85d2b849e62c8f1c6578fcadce3fe6b7_post.png'\n",
      "Directory 'train2/subdata1' already exists. Skipping creation.\n",
      "Subtracted images and saved result to 'train2/subdata1/bolari_2211_patch_1_1_png_rf_0c65e8a1d3e2965cb6e3a090d8d8e2af_post.png'\n",
      "Directory 'train2/subdata2' already exists. Skipping creation.\n",
      "Subtracted images and saved result to 'train2/subdata2/bolari_1709_patch_1_1_png_rf_e1954174c34a6ee69ee8c7073d894e36_post.png'\n",
      "Directory 'train2/subdata2' already exists. Skipping creation.\n",
      "Subtracted images and saved result to 'train2/subdata2/bolari_1802_patch_1_1_png_rf_81647124bd8c565e704f14428d42e0fc_post.png'\n",
      "Directory 'train2/subdata2' already exists. Skipping creation.\n",
      "Subtracted images and saved result to 'train2/subdata2/bolari_1902_patch_1_1_png_rf_53ee81544706e462fa08cc228841479b_post.png'\n",
      "Directory 'train2/subdata2' already exists. Skipping creation.\n",
      "Subtracted images and saved result to 'train2/subdata2/bolari_1906_patch_1_1_png_rf_9fa7a2caaa9a4b2d8392ba68c11a0ea5_post.png'\n",
      "Directory 'train2/subdata2' already exists. Skipping creation.\n",
      "Subtracted images and saved result to 'train2/subdata2/bolari_1912_patch_1_1_png_rf_20ec8e4456d5a1b4be195142d9634e81_post.png'\n",
      "Directory 'train2/subdata2' already exists. Skipping creation.\n",
      "Subtracted images and saved result to 'train2/subdata2/bolari_2012_patch_1_1_png_rf_85d2b849e62c8f1c6578fcadce3fe6b7_post.png'\n",
      "Directory 'train2/subdata2' already exists. Skipping creation.\n",
      "Subtracted images and saved result to 'train2/subdata2/bolari_2211_patch_1_1_png_rf_0c65e8a1d3e2965cb6e3a090d8d8e2af_post.png'\n",
      "Directory 'train2/subdata3' already exists. Skipping creation.\n",
      "Subtracted images and saved result to 'train2/subdata3/bolari_1709_patch_1_1_png_rf_e1954174c34a6ee69ee8c7073d894e36_post.png'\n",
      "Directory 'train2/subdata3' already exists. Skipping creation.\n",
      "Subtracted images and saved result to 'train2/subdata3/bolari_1802_patch_1_1_png_rf_81647124bd8c565e704f14428d42e0fc_post.png'\n",
      "Directory 'train2/subdata3' already exists. Skipping creation.\n",
      "Subtracted images and saved result to 'train2/subdata3/bolari_1812_patch_1_1_png_rf_c3e8517182202e36f3709e7e68a12ae9_post.png'\n",
      "Directory 'train2/subdata3' already exists. Skipping creation.\n",
      "Subtracted images and saved result to 'train2/subdata3/bolari_1906_patch_1_1_png_rf_9fa7a2caaa9a4b2d8392ba68c11a0ea5_post.png'\n",
      "Directory 'train2/subdata3' already exists. Skipping creation.\n",
      "Subtracted images and saved result to 'train2/subdata3/bolari_1912_patch_1_1_png_rf_20ec8e4456d5a1b4be195142d9634e81_post.png'\n",
      "Directory 'train2/subdata3' already exists. Skipping creation.\n",
      "Subtracted images and saved result to 'train2/subdata3/bolari_2012_patch_1_1_png_rf_85d2b849e62c8f1c6578fcadce3fe6b7_post.png'\n",
      "Directory 'train2/subdata3' already exists. Skipping creation.\n",
      "Subtracted images and saved result to 'train2/subdata3/bolari_2211_patch_1_1_png_rf_0c65e8a1d3e2965cb6e3a090d8d8e2af_post.png'\n",
      "Directory 'train2/subdata4' already exists. Skipping creation.\n",
      "Subtracted images and saved result to 'train2/subdata4/bolari_1709_patch_1_1_png_rf_e1954174c34a6ee69ee8c7073d894e36_post.png'\n",
      "Directory 'train2/subdata4' already exists. Skipping creation.\n",
      "Subtracted images and saved result to 'train2/subdata4/bolari_1802_patch_1_1_png_rf_81647124bd8c565e704f14428d42e0fc_post.png'\n",
      "Directory 'train2/subdata4' already exists. Skipping creation.\n",
      "Subtracted images and saved result to 'train2/subdata4/bolari_1812_patch_1_1_png_rf_c3e8517182202e36f3709e7e68a12ae9_post.png'\n",
      "Directory 'train2/subdata4' already exists. Skipping creation.\n",
      "Subtracted images and saved result to 'train2/subdata4/bolari_1902_patch_1_1_png_rf_53ee81544706e462fa08cc228841479b_post.png'\n",
      "Directory 'train2/subdata4' already exists. Skipping creation.\n",
      "Subtracted images and saved result to 'train2/subdata4/bolari_1912_patch_1_1_png_rf_20ec8e4456d5a1b4be195142d9634e81_post.png'\n",
      "Directory 'train2/subdata4' already exists. Skipping creation.\n",
      "Subtracted images and saved result to 'train2/subdata4/bolari_2012_patch_1_1_png_rf_85d2b849e62c8f1c6578fcadce3fe6b7_post.png'\n",
      "Directory 'train2/subdata4' already exists. Skipping creation.\n",
      "Subtracted images and saved result to 'train2/subdata4/bolari_2211_patch_1_1_png_rf_0c65e8a1d3e2965cb6e3a090d8d8e2af_post.png'\n",
      "Directory 'train2/subdata5' already exists. Skipping creation.\n",
      "Subtracted images and saved result to 'train2/subdata5/bolari_1709_patch_1_1_png_rf_e1954174c34a6ee69ee8c7073d894e36_post.png'\n",
      "Directory 'train2/subdata5' already exists. Skipping creation.\n",
      "Subtracted images and saved result to 'train2/subdata5/bolari_1802_patch_1_1_png_rf_81647124bd8c565e704f14428d42e0fc_post.png'\n",
      "Directory 'train2/subdata5' already exists. Skipping creation.\n",
      "Subtracted images and saved result to 'train2/subdata5/bolari_1812_patch_1_1_png_rf_c3e8517182202e36f3709e7e68a12ae9_post.png'\n",
      "Directory 'train2/subdata5' already exists. Skipping creation.\n",
      "Subtracted images and saved result to 'train2/subdata5/bolari_1902_patch_1_1_png_rf_53ee81544706e462fa08cc228841479b_post.png'\n",
      "Directory 'train2/subdata5' already exists. Skipping creation.\n",
      "Subtracted images and saved result to 'train2/subdata5/bolari_1906_patch_1_1_png_rf_9fa7a2caaa9a4b2d8392ba68c11a0ea5_post.png'\n",
      "Directory 'train2/subdata5' already exists. Skipping creation.\n",
      "Subtracted images and saved result to 'train2/subdata5/bolari_2012_patch_1_1_png_rf_85d2b849e62c8f1c6578fcadce3fe6b7_post.png'\n",
      "Directory 'train2/subdata5' already exists. Skipping creation.\n",
      "Subtracted images and saved result to 'train2/subdata5/bolari_2211_patch_1_1_png_rf_0c65e8a1d3e2965cb6e3a090d8d8e2af_post.png'\n",
      "Directory 'train2/subdata6' already exists. Skipping creation.\n",
      "Subtracted images and saved result to 'train2/subdata6/bolari_1709_patch_1_1_png_rf_e1954174c34a6ee69ee8c7073d894e36_post.png'\n",
      "Directory 'train2/subdata6' already exists. Skipping creation.\n",
      "Subtracted images and saved result to 'train2/subdata6/bolari_1802_patch_1_1_png_rf_81647124bd8c565e704f14428d42e0fc_post.png'\n",
      "Directory 'train2/subdata6' already exists. Skipping creation.\n",
      "Subtracted images and saved result to 'train2/subdata6/bolari_1812_patch_1_1_png_rf_c3e8517182202e36f3709e7e68a12ae9_post.png'\n",
      "Directory 'train2/subdata6' already exists. Skipping creation.\n",
      "Subtracted images and saved result to 'train2/subdata6/bolari_1902_patch_1_1_png_rf_53ee81544706e462fa08cc228841479b_post.png'\n",
      "Directory 'train2/subdata6' already exists. Skipping creation.\n",
      "Subtracted images and saved result to 'train2/subdata6/bolari_1906_patch_1_1_png_rf_9fa7a2caaa9a4b2d8392ba68c11a0ea5_post.png'\n",
      "Directory 'train2/subdata6' already exists. Skipping creation.\n",
      "Subtracted images and saved result to 'train2/subdata6/bolari_1912_patch_1_1_png_rf_20ec8e4456d5a1b4be195142d9634e81_post.png'\n",
      "Directory 'train2/subdata6' already exists. Skipping creation.\n",
      "Subtracted images and saved result to 'train2/subdata6/bolari_2211_patch_1_1_png_rf_0c65e8a1d3e2965cb6e3a090d8d8e2af_post.png'\n",
      "Directory 'train2/subdata7' already exists. Skipping creation.\n",
      "Subtracted images and saved result to 'train2/subdata7/bolari_1709_patch_1_1_png_rf_e1954174c34a6ee69ee8c7073d894e36_post.png'\n",
      "Directory 'train2/subdata7' already exists. Skipping creation.\n",
      "Subtracted images and saved result to 'train2/subdata7/bolari_1802_patch_1_1_png_rf_81647124bd8c565e704f14428d42e0fc_post.png'\n",
      "Directory 'train2/subdata7' already exists. Skipping creation.\n",
      "Subtracted images and saved result to 'train2/subdata7/bolari_1812_patch_1_1_png_rf_c3e8517182202e36f3709e7e68a12ae9_post.png'\n",
      "Directory 'train2/subdata7' already exists. Skipping creation.\n",
      "Subtracted images and saved result to 'train2/subdata7/bolari_1902_patch_1_1_png_rf_53ee81544706e462fa08cc228841479b_post.png'\n",
      "Directory 'train2/subdata7' already exists. Skipping creation.\n",
      "Subtracted images and saved result to 'train2/subdata7/bolari_1906_patch_1_1_png_rf_9fa7a2caaa9a4b2d8392ba68c11a0ea5_post.png'\n",
      "Directory 'train2/subdata7' already exists. Skipping creation.\n",
      "Subtracted images and saved result to 'train2/subdata7/bolari_1912_patch_1_1_png_rf_20ec8e4456d5a1b4be195142d9634e81_post.png'\n",
      "Directory 'train2/subdata7' already exists. Skipping creation.\n",
      "Subtracted images and saved result to 'train2/subdata7/bolari_2012_patch_1_1_png_rf_85d2b849e62c8f1c6578fcadce3fe6b7_post.png'\n"
     ]
    }
   ],
   "source": [
    "import os\n",
    "\n",
    "def create_directory_if_not_exists(directory):\n",
    "    if not os.path.exists(directory):\n",
    "        os.makedirs(directory)\n",
    "        print(f\"Directory '{directory}' created.\")\n",
    "    else:\n",
    "        print(f\"Directory '{directory}' already exists. Skipping creation.\")\n",
    "\n",
    "\n",
    "lbl_list = os.listdir('train2/labels')\n",
    "\n",
    "\n",
    "for i in range(len(lbl_list)):\n",
    "    lbl_list = os.listdir('train2/labels')\n",
    "    tmp_img = lbl_list.pop(i)\n",
    "\n",
    "    for label_name in lbl_list:\n",
    "        \n",
    "        image1_path = 'train2/labels/'+label_name\n",
    "        # image2_path = 'train2/tmp_label/'+os.listdir('train2/label')[i]\n",
    "        image2_path = 'train2/labels/'+tmp_img\n",
    "        create_directory_if_not_exists('train2/subdata'+str(i))\n",
    "        output_path = 'train2/subdata'+str(i)+'/'+label_name\n",
    "\n",
    "        subtract_binary_images(image1_path, image2_path, output_path)\n",
    "\n"
   ]
  },
  {
   "cell_type": "markdown",
   "metadata": {},
   "source": [
    "## Main SubData Images & Label Gen Code"
   ]
  },
  {
   "cell_type": "code",
   "execution_count": 74,
   "metadata": {},
   "outputs": [
    {
     "name": "stdout",
     "output_type": "stream",
     "text": [
      "Deleted existing folder: train2/subdata0\n",
      "Created folder: train2/subdata0\n",
      "Subtracted images and saved result to 'train2/subdata0/sd_0_bolari_1802_patch_1_1_png_rf_81647124bd8c565e704f14428d42e0fc_mask.png'\n",
      "Subtracted images and saved result to 'train2/subdata0/sd_0_bolari_1812_patch_1_1_png_rf_c3e8517182202e36f3709e7e68a12ae9_mask.png'\n",
      "Subtracted images and saved result to 'train2/subdata0/sd_0_bolari_1902_patch_1_1_png_rf_53ee81544706e462fa08cc228841479b_mask.png'\n",
      "Subtracted images and saved result to 'train2/subdata0/sd_0_bolari_1906_patch_1_1_png_rf_9fa7a2caaa9a4b2d8392ba68c11a0ea5_mask.png'\n",
      "Subtracted images and saved result to 'train2/subdata0/sd_0_bolari_1912_patch_1_1_png_rf_20ec8e4456d5a1b4be195142d9634e81_mask.png'\n",
      "Subtracted images and saved result to 'train2/subdata0/sd_0_bolari_2012_patch_1_1_png_rf_85d2b849e62c8f1c6578fcadce3fe6b7_mask.png'\n",
      "Subtracted images and saved result to 'train2/subdata0/sd_0_bolari_2211_patch_1_1_png_rf_0c65e8a1d3e2965cb6e3a090d8d8e2af_mask.png'\n",
      "Deleted existing folder: train2/subdata1\n",
      "Created folder: train2/subdata1\n",
      "Subtracted images and saved result to 'train2/subdata1/sd_1_bolari_1709_patch_1_1_png_rf_e1954174c34a6ee69ee8c7073d894e36_mask.png'\n",
      "Subtracted images and saved result to 'train2/subdata1/sd_1_bolari_1812_patch_1_1_png_rf_c3e8517182202e36f3709e7e68a12ae9_mask.png'\n",
      "Subtracted images and saved result to 'train2/subdata1/sd_1_bolari_1902_patch_1_1_png_rf_53ee81544706e462fa08cc228841479b_mask.png'\n",
      "Subtracted images and saved result to 'train2/subdata1/sd_1_bolari_1906_patch_1_1_png_rf_9fa7a2caaa9a4b2d8392ba68c11a0ea5_mask.png'\n",
      "Subtracted images and saved result to 'train2/subdata1/sd_1_bolari_1912_patch_1_1_png_rf_20ec8e4456d5a1b4be195142d9634e81_mask.png'\n",
      "Subtracted images and saved result to 'train2/subdata1/sd_1_bolari_2012_patch_1_1_png_rf_85d2b849e62c8f1c6578fcadce3fe6b7_mask.png'\n",
      "Subtracted images and saved result to 'train2/subdata1/sd_1_bolari_2211_patch_1_1_png_rf_0c65e8a1d3e2965cb6e3a090d8d8e2af_mask.png'\n",
      "Deleted existing folder: train2/subdata2\n",
      "Created folder: train2/subdata2\n",
      "Subtracted images and saved result to 'train2/subdata2/sd_2_bolari_1709_patch_1_1_png_rf_e1954174c34a6ee69ee8c7073d894e36_mask.png'\n",
      "Subtracted images and saved result to 'train2/subdata2/sd_2_bolari_1802_patch_1_1_png_rf_81647124bd8c565e704f14428d42e0fc_mask.png'\n",
      "Subtracted images and saved result to 'train2/subdata2/sd_2_bolari_1902_patch_1_1_png_rf_53ee81544706e462fa08cc228841479b_mask.png'\n",
      "Subtracted images and saved result to 'train2/subdata2/sd_2_bolari_1906_patch_1_1_png_rf_9fa7a2caaa9a4b2d8392ba68c11a0ea5_mask.png'\n",
      "Subtracted images and saved result to 'train2/subdata2/sd_2_bolari_1912_patch_1_1_png_rf_20ec8e4456d5a1b4be195142d9634e81_mask.png'\n",
      "Subtracted images and saved result to 'train2/subdata2/sd_2_bolari_2012_patch_1_1_png_rf_85d2b849e62c8f1c6578fcadce3fe6b7_mask.png'\n",
      "Subtracted images and saved result to 'train2/subdata2/sd_2_bolari_2211_patch_1_1_png_rf_0c65e8a1d3e2965cb6e3a090d8d8e2af_mask.png'\n",
      "Deleted existing folder: train2/subdata3\n",
      "Created folder: train2/subdata3\n",
      "Subtracted images and saved result to 'train2/subdata3/sd_3_bolari_1709_patch_1_1_png_rf_e1954174c34a6ee69ee8c7073d894e36_mask.png'\n",
      "Subtracted images and saved result to 'train2/subdata3/sd_3_bolari_1802_patch_1_1_png_rf_81647124bd8c565e704f14428d42e0fc_mask.png'\n",
      "Subtracted images and saved result to 'train2/subdata3/sd_3_bolari_1812_patch_1_1_png_rf_c3e8517182202e36f3709e7e68a12ae9_mask.png'\n",
      "Subtracted images and saved result to 'train2/subdata3/sd_3_bolari_1906_patch_1_1_png_rf_9fa7a2caaa9a4b2d8392ba68c11a0ea5_mask.png'\n",
      "Subtracted images and saved result to 'train2/subdata3/sd_3_bolari_1912_patch_1_1_png_rf_20ec8e4456d5a1b4be195142d9634e81_mask.png'\n",
      "Subtracted images and saved result to 'train2/subdata3/sd_3_bolari_2012_patch_1_1_png_rf_85d2b849e62c8f1c6578fcadce3fe6b7_mask.png'\n",
      "Subtracted images and saved result to 'train2/subdata3/sd_3_bolari_2211_patch_1_1_png_rf_0c65e8a1d3e2965cb6e3a090d8d8e2af_mask.png'\n",
      "Deleted existing folder: train2/subdata4\n",
      "Created folder: train2/subdata4\n",
      "Subtracted images and saved result to 'train2/subdata4/sd_4_bolari_1709_patch_1_1_png_rf_e1954174c34a6ee69ee8c7073d894e36_mask.png'\n",
      "Subtracted images and saved result to 'train2/subdata4/sd_4_bolari_1802_patch_1_1_png_rf_81647124bd8c565e704f14428d42e0fc_mask.png'\n",
      "Subtracted images and saved result to 'train2/subdata4/sd_4_bolari_1812_patch_1_1_png_rf_c3e8517182202e36f3709e7e68a12ae9_mask.png'\n",
      "Subtracted images and saved result to 'train2/subdata4/sd_4_bolari_1902_patch_1_1_png_rf_53ee81544706e462fa08cc228841479b_mask.png'\n",
      "Subtracted images and saved result to 'train2/subdata4/sd_4_bolari_1912_patch_1_1_png_rf_20ec8e4456d5a1b4be195142d9634e81_mask.png'\n",
      "Subtracted images and saved result to 'train2/subdata4/sd_4_bolari_2012_patch_1_1_png_rf_85d2b849e62c8f1c6578fcadce3fe6b7_mask.png'\n",
      "Subtracted images and saved result to 'train2/subdata4/sd_4_bolari_2211_patch_1_1_png_rf_0c65e8a1d3e2965cb6e3a090d8d8e2af_mask.png'\n",
      "Deleted existing folder: train2/subdata5\n",
      "Created folder: train2/subdata5\n",
      "Subtracted images and saved result to 'train2/subdata5/sd_5_bolari_1709_patch_1_1_png_rf_e1954174c34a6ee69ee8c7073d894e36_mask.png'\n",
      "Subtracted images and saved result to 'train2/subdata5/sd_5_bolari_1802_patch_1_1_png_rf_81647124bd8c565e704f14428d42e0fc_mask.png'\n",
      "Subtracted images and saved result to 'train2/subdata5/sd_5_bolari_1812_patch_1_1_png_rf_c3e8517182202e36f3709e7e68a12ae9_mask.png'\n",
      "Subtracted images and saved result to 'train2/subdata5/sd_5_bolari_1902_patch_1_1_png_rf_53ee81544706e462fa08cc228841479b_mask.png'\n",
      "Subtracted images and saved result to 'train2/subdata5/sd_5_bolari_1906_patch_1_1_png_rf_9fa7a2caaa9a4b2d8392ba68c11a0ea5_mask.png'\n",
      "Subtracted images and saved result to 'train2/subdata5/sd_5_bolari_2012_patch_1_1_png_rf_85d2b849e62c8f1c6578fcadce3fe6b7_mask.png'\n",
      "Subtracted images and saved result to 'train2/subdata5/sd_5_bolari_2211_patch_1_1_png_rf_0c65e8a1d3e2965cb6e3a090d8d8e2af_mask.png'\n",
      "Deleted existing folder: train2/subdata6\n",
      "Created folder: train2/subdata6\n",
      "Subtracted images and saved result to 'train2/subdata6/sd_6_bolari_1709_patch_1_1_png_rf_e1954174c34a6ee69ee8c7073d894e36_mask.png'\n",
      "Subtracted images and saved result to 'train2/subdata6/sd_6_bolari_1802_patch_1_1_png_rf_81647124bd8c565e704f14428d42e0fc_mask.png'\n",
      "Subtracted images and saved result to 'train2/subdata6/sd_6_bolari_1812_patch_1_1_png_rf_c3e8517182202e36f3709e7e68a12ae9_mask.png'\n",
      "Subtracted images and saved result to 'train2/subdata6/sd_6_bolari_1902_patch_1_1_png_rf_53ee81544706e462fa08cc228841479b_mask.png'\n",
      "Subtracted images and saved result to 'train2/subdata6/sd_6_bolari_1906_patch_1_1_png_rf_9fa7a2caaa9a4b2d8392ba68c11a0ea5_mask.png'\n",
      "Subtracted images and saved result to 'train2/subdata6/sd_6_bolari_1912_patch_1_1_png_rf_20ec8e4456d5a1b4be195142d9634e81_mask.png'\n",
      "Subtracted images and saved result to 'train2/subdata6/sd_6_bolari_2211_patch_1_1_png_rf_0c65e8a1d3e2965cb6e3a090d8d8e2af_mask.png'\n",
      "Deleted existing folder: train2/subdata7\n",
      "Created folder: train2/subdata7\n",
      "Subtracted images and saved result to 'train2/subdata7/sd_7_bolari_1709_patch_1_1_png_rf_e1954174c34a6ee69ee8c7073d894e36_mask.png'\n",
      "Subtracted images and saved result to 'train2/subdata7/sd_7_bolari_1802_patch_1_1_png_rf_81647124bd8c565e704f14428d42e0fc_mask.png'\n",
      "Subtracted images and saved result to 'train2/subdata7/sd_7_bolari_1812_patch_1_1_png_rf_c3e8517182202e36f3709e7e68a12ae9_mask.png'\n",
      "Subtracted images and saved result to 'train2/subdata7/sd_7_bolari_1902_patch_1_1_png_rf_53ee81544706e462fa08cc228841479b_mask.png'\n",
      "Subtracted images and saved result to 'train2/subdata7/sd_7_bolari_1906_patch_1_1_png_rf_9fa7a2caaa9a4b2d8392ba68c11a0ea5_mask.png'\n",
      "Subtracted images and saved result to 'train2/subdata7/sd_7_bolari_1912_patch_1_1_png_rf_20ec8e4456d5a1b4be195142d9634e81_mask.png'\n",
      "Subtracted images and saved result to 'train2/subdata7/sd_7_bolari_2012_patch_1_1_png_rf_85d2b849e62c8f1c6578fcadce3fe6b7_mask.png'\n"
     ]
    }
   ],
   "source": [
    "import os\n",
    "from PIL import Image\n",
    "import os\n",
    "\n",
    "def create_directory_if_not_exists(directory):\n",
    "    if not os.path.exists(directory):\n",
    "        os.makedirs(directory)\n",
    "        print(f\"Directory '{directory}' created.\")\n",
    "    else:\n",
    "        print(f\"Directory '{directory}' already exists. Skipping creation.\")\n",
    "\n",
    "def create_folder(folder_path):\n",
    "    if os.path.exists(folder_path):\n",
    "        shutil.rmtree(folder_path)\n",
    "        print(f\"Deleted existing folder: {folder_path}\")\n",
    "    os.makedirs(folder_path)\n",
    "    print(f\"Created folder: {folder_path}\")\n",
    "\n",
    "def convert_png_to_jpg(png_path, jpg_path):\n",
    "    png_image = Image.open(png_path)\n",
    "    if png_image.mode in ('RGBA', 'LA'):\n",
    "        png_image = png_image.convert('RGB')\n",
    "    png_image.save(jpg_path, format='JPEG', quality=100)\n",
    "\n",
    "def create_empty_binary_mask(width, height):\n",
    "    # Create a new black image (mode '1' for binary)\n",
    "    # Create a new black image (mode 'L' for 8-bit grayscale)\n",
    "    mask = Image.new('L', (width, height), color=0)\n",
    "    return mask\n",
    "\n",
    "\n",
    "lbl_list = os.listdir('train2/labels')\n",
    "\n",
    "for i in range(len(lbl_list)):\n",
    "\n",
    "    lbl_list = os.listdir('train2/labels')\n",
    "    tmp_lbl = lbl_list.pop(i)\n",
    "\n",
    "    create_folder('train2/subdata'+str(i))\n",
    "\n",
    "    for label_name in lbl_list:\n",
    "        \n",
    "        lbl1_path = 'train2/labels/'+label_name\n",
    "        lbl2_path = 'train2/labels/'+tmp_lbl\n",
    "        output_path = 'train2/subdata'+str(i)+'/'+'sd_'+str(i)+'_'+label_name[:-9]+'_mask.png'\n",
    "\n",
    "        subtract_binary_images(lbl1_path, lbl2_path, output_path)\n",
    "\n",
    "        image_png = 'train2/images/'+label_name\n",
    "        image_jpg = 'train2/subdata'+str(i)+'/'+'sd_'+str(i)+'_'+label_name[:-9]+'.jpg'\n",
    "\n",
    "        convert_png_to_jpg(image_png,image_jpg)\n",
    "\n",
    "\n",
    "    tmp_img_png = 'train2/images/'+tmp_lbl\n",
    "    tmp_img_jpg = 'train2/subdata'+str(i)+'/'+'000.jpg'\n",
    "    convert_png_to_jpg(tmp_img_png,tmp_img_jpg)\n",
    "\n",
    "    binary_mask = create_empty_binary_mask(1024, 1024)\n",
    "    binary_mask.save('train2/subdata'+str(i)+'/'+'000_mask.png')\n",
    "\n",
    "\n",
    "\n",
    "\n",
    "\n"
   ]
  },
  {
   "cell_type": "markdown",
   "metadata": {},
   "source": [
    "## Now it time for ... One Data Gen"
   ]
  },
  {
   "cell_type": "markdown",
   "metadata": {},
   "source": [
    "## Visualize Labels"
   ]
  },
  {
   "cell_type": "code",
   "execution_count": 75,
   "metadata": {},
   "outputs": [
    {
     "data": {
      "text/plain": [
       "['subdata0',\n",
       " 'subdata0_colored_labels',\n",
       " 'subdata1',\n",
       " 'subdata1_colored_labels',\n",
       " 'subdata2',\n",
       " 'subdata2_colored_labels',\n",
       " 'subdata3',\n",
       " 'subdata3_colored_labels',\n",
       " 'subdata4',\n",
       " 'subdata4_colored_labels',\n",
       " 'subdata5',\n",
       " 'subdata5_colored_labels',\n",
       " 'subdata6',\n",
       " 'subdata6_colored_labels',\n",
       " 'subdata7',\n",
       " 'subdata7_colored_labels']"
      ]
     },
     "execution_count": 75,
     "metadata": {},
     "output_type": "execute_result"
    }
   ],
   "source": [
    "os.listdir('train2')[2:]"
   ]
  },
  {
   "cell_type": "code",
   "execution_count": 28,
   "metadata": {},
   "outputs": [
    {
     "name": "stdout",
     "output_type": "stream",
     "text": [
      "Color coding of masks completed.\n",
      "Color coding of masks completed.\n",
      "Color coding of masks completed.\n",
      "Color coding of masks completed.\n",
      "Color coding of masks completed.\n",
      "Color coding of masks completed.\n",
      "Color coding of masks completed.\n",
      "Color coding of masks completed.\n"
     ]
    }
   ],
   "source": [
    "import os\n",
    "import numpy as np\n",
    "from PIL import Image\n",
    "\n",
    "# Define your color map RGB format\n",
    "color_map = {\n",
    "    0: [0, 0, 0],     # Class 0 - Background (Black)\n",
    "    1: [0, 255, 0],   # Class 1 - flatSurface (Green)\n",
    "    2: [255, 0, 0],   # Class 2 - excavation (Red)\n",
    "    3: [255, 255, 0], # Class 3 - foundation (Yellow)\n",
    "    4: [255, 0, 255]  # Class 4 - building (Purple)\n",
    "    \n",
    "}\n",
    "\n",
    "'''\n",
    "basic_colors_RGB = {\n",
    "    'red': [255, 0, 0],\n",
    "    'green': [0, 255, 0],\n",
    "    'blue': [0, 0, 255],\n",
    "    'yellow': [255, 255, 0],\n",
    "    'cyan': [0, 255, 255],\n",
    "    'magenta': [255, 0, 255],\n",
    "    'black': [0, 0, 0]\n",
    "}\n",
    "'''\n",
    "folders = os.listdir('train2')[2:]\n",
    "\n",
    "for folder_i in folders:\n",
    "\n",
    "    # Input and output directories\n",
    "    input_folder = 'train2/'+folder_i\n",
    "    output_folder = 'train2/'+folder_i+'_colored_labels'\n",
    "\n",
    "    # Create output directory if it doesn't exist\n",
    "    if not os.path.exists(output_folder):\n",
    "        os.makedirs(output_folder)\n",
    "\n",
    "    # List all PNG files in the input folder\n",
    "    mask_files = [f for f in os.listdir(input_folder) if f.endswith('.png')]\n",
    "\n",
    "    # Process each mask file\n",
    "    for mask_file in mask_files:\n",
    "        # Load the PNG mask\n",
    "        mask_path = os.path.join(input_folder, mask_file)\n",
    "        mask = Image.open(mask_path)\n",
    "        \n",
    "        # Convert the mask to numpy array\n",
    "        mask_array = np.array(mask)\n",
    "\n",
    "        # Create a blank RGB image with the same shape as the mask\n",
    "        colored_mask = np.zeros((mask_array.shape[0], mask_array.shape[1], 3), dtype=np.uint8)\n",
    "\n",
    "        # Color code the mask based on the color map\n",
    "        for class_index, color in color_map.items():\n",
    "            # Find pixels in the mask belonging to the current class\n",
    "            class_pixels = (mask_array == class_index)\n",
    "            \n",
    "            # Assign color to the pixels belonging to the current class\n",
    "            colored_mask[class_pixels] = color\n",
    "\n",
    "        # Convert the numpy array to an image\n",
    "        colored_mask_image = Image.fromarray(colored_mask)\n",
    "\n",
    "        # Save the color coded mask in the output folder with the same filename\n",
    "        output_mask_path = os.path.join(output_folder, mask_file)\n",
    "        colored_mask_image.save(output_mask_path)\n",
    "\n",
    "    print(\"Color coding of masks completed.\")\n"
   ]
  },
  {
   "cell_type": "code",
   "execution_count": null,
   "metadata": {},
   "outputs": [],
   "source": []
  }
 ],
 "metadata": {
  "kernelspec": {
   "display_name": "Python 3",
   "language": "python",
   "name": "python3"
  },
  "language_info": {
   "codemirror_mode": {
    "name": "ipython",
    "version": 3
   },
   "file_extension": ".py",
   "mimetype": "text/x-python",
   "name": "python",
   "nbconvert_exporter": "python",
   "pygments_lexer": "ipython3",
   "version": "3.12.1"
  }
 },
 "nbformat": 4,
 "nbformat_minor": 2
}
