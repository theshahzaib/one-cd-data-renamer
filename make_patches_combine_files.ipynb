{
 "cells": [
  {
   "cell_type": "markdown",
   "metadata": {},
   "source": [
    "# Making Patches"
   ]
  },
  {
   "cell_type": "markdown",
   "metadata": {},
   "source": [
    "## First things First\n",
    "\n",
    "Creating Folders"
   ]
  },
  {
   "cell_type": "code",
   "execution_count": null,
   "metadata": {},
   "outputs": [],
   "source": [
    "import os\n",
    "import shutil\n",
    "\n",
    "def create_folder(folder_path):\n",
    "    # Check if the folder already exists\n",
    "    if os.path.exists(folder_path):\n",
    "        # If it exists, delete the folder and its contents\n",
    "        shutil.rmtree(folder_path)\n",
    "        print(f\"Existing folder '{folder_path}' deleted.\")\n",
    "\n",
    "    # Create the new folder\n",
    "    os.makedirs(folder_path)\n",
    "    print(f\"Folder '{folder_path}' created.\")"
   ]
  },
  {
   "cell_type": "markdown",
   "metadata": {},
   "source": [
    "## Convert Files First from 0.3 to 0.5 m/px"
   ]
  },
  {
   "cell_type": "code",
   "execution_count": null,
   "metadata": {},
   "outputs": [],
   "source": [
    "from PIL import Image\n",
    "import os\n",
    "\n",
    "def resize_images(input_folder, output_folder, target_resolution):\n",
    "    # Create the output folder if it doesn't exist\n",
    "    os.makedirs(output_folder, exist_ok=True)\n",
    "\n",
    "    # List all files in the input folder\n",
    "    input_files = [f for f in os.listdir(input_folder) if os.path.isfile(os.path.join(input_folder, f))]\n",
    "\n",
    "    for input_file in input_files:\n",
    "        input_path = os.path.join(input_folder, input_file)\n",
    "        output_path = os.path.join(output_folder, input_file)\n",
    "\n",
    "        # Open the image\n",
    "        img = Image.open(input_path)\n",
    "\n",
    "        # Calculate the new size based on the target resolution\n",
    "        new_width = int(img.width * (0.3 / target_resolution))\n",
    "        new_height = int(img.height * (0.3 / target_resolution))\n",
    "\n",
    "        # Resize the image\n",
    "        resized_img = img.resize((new_width, new_height))\n",
    "\n",
    "        # Save the resized image\n",
    "        resized_img.save(output_path)\n",
    "\n",
    "if __name__ == \"__main__\":\n",
    "    # Specify input and output folders\n",
    "    input_folder_path = \"0p3\"\n",
    "    output_folder_path = \"0p5\"\n",
    "    \n",
    "    create_folder(output_folder_path)\n",
    "\n",
    "    # Specify the target resolution (0.5 meters per pixel)\n",
    "    target_resolution = 0.5\n",
    "\n",
    "    # Resize images and save to the output folder\n",
    "    resize_images(input_folder_path, output_folder_path, target_resolution)\n"
   ]
  },
  {
   "cell_type": "markdown",
   "metadata": {},
   "source": [
    "## Extract PNG patches"
   ]
  },
  {
   "cell_type": "code",
   "execution_count": null,
   "metadata": {},
   "outputs": [],
   "source": [
    "from PIL import Image\n",
    "import os\n",
    "\n",
    "def extract_patches(input_folder, output_folder, patch_size):\n",
    "    # Create the output folder if it doesn't exist\n",
    "    os.makedirs(output_folder, exist_ok=True)\n",
    "\n",
    "    # List all files in the input folder\n",
    "    input_files = [f for f in os.listdir(input_folder) if os.path.isfile(os.path.join(input_folder, f))]\n",
    "\n",
    "    for input_file in input_files:\n",
    "        input_path = os.path.join(input_folder, input_file)\n",
    "\n",
    "        # Open the TIFF image\n",
    "        img = Image.open(input_path)\n",
    "\n",
    "        # Get the dimensions of the image\n",
    "        img_width, img_height = img.size\n",
    "\n",
    "        # Define the size of the patches\n",
    "        patch_width, patch_height = patch_size\n",
    "\n",
    "        # Calculate the number of patches in both dimensions\n",
    "        num_patches_x = img_width // patch_width\n",
    "        num_patches_y = img_height // patch_height\n",
    "\n",
    "        # Extract patches and save them\n",
    "        for i in range(num_patches_x):\n",
    "            for j in range(num_patches_y):\n",
    "                left = i * patch_width\n",
    "                upper = j * patch_height\n",
    "                right = left + patch_width\n",
    "                lower = upper + patch_height\n",
    "\n",
    "                # Crop the patch\n",
    "                patch = img.crop((left, upper, right, lower))\n",
    "\n",
    "                # Save the patch\n",
    "                output_path = os.path.join(output_folder, f\"{os.path.splitext(input_file)[0]}_patch_{i}_{j}.png\")\n",
    "                \n",
    "                patch.save(output_path)\n",
    "\n",
    "if __name__ == \"__main__\":\n",
    "    # Specify input and output folders\n",
    "    input_folder_path = \"0p5\"\n",
    "    output_folder_path = \"patches\"\n",
    "\n",
    "    create_folder(output_folder_path)\n",
    "\n",
    "    # Specify the patch size (1024x1024)\n",
    "    patch_size = (1024, 1024)\n",
    "\n",
    "    # Extract patches and save to the output folder\n",
    "    extract_patches(input_folder_path, output_folder_path, patch_size)\n"
   ]
  },
  {
   "cell_type": "code",
   "execution_count": 48,
   "metadata": {},
   "outputs": [],
   "source": [
    "def move_png_files_with_keyword(source_folder, destination_folder, keyword):\n",
    "    # Ensure the destination folder exists, create it if not\n",
    "    if not os.path.exists(destination_folder):\n",
    "        os.makedirs(destination_folder)\n",
    "\n",
    "    # Loop through files in the source folder\n",
    "    for filename in os.listdir(source_folder):\n",
    "        if filename.endswith('.png') and keyword in filename:\n",
    "            source_path = os.path.join(source_folder, filename)\n",
    "            destination_path = os.path.join(destination_folder, filename)\n",
    "\n",
    "            # Copy the file to the destination folder\n",
    "            shutil.move(source_path, destination_path)\n",
    "            print(f\"File '{filename}' copied to {destination_folder}\")"
   ]
  },
  {
   "cell_type": "code",
   "execution_count": 72,
   "metadata": {},
   "outputs": [
    {
     "name": "stdout",
     "output_type": "stream",
     "text": [
      "5 4\n"
     ]
    }
   ],
   "source": [
    "ipsample_file = input_folder_path+'/'+os.listdir(input_folder_path)[0]\n",
    "# Open the TIFF image\n",
    "img = Image.open(ipsample_file)\n",
    "# Get the dimensions of the image\n",
    "img_width, img_height = img.size\n",
    "\n",
    "x_dim = img_width//1024\n",
    "y_dim = img_height//1024\n",
    "\n",
    "source_folder_path = \"patches\"\n",
    "\n",
    "for i in range(x_dim):\n",
    "    for j in range(y_dim):\n",
    "        # print(str(i)+'_'+str(j))\n",
    "        # Example usage:\n",
    "        folder_path = \"final/patch_\"+str(i)+'_'+str(j)\n",
    "        create_folder(folder_path)\n",
    "\n",
    "        # Example usage:\n",
    "        destination_folder_path = \"final/patch_\"+str(i)+'_'+str(j)\n",
    "        search_keyword = str(i)+'_'+str(j)\n",
    "\n",
    "        move_png_files_with_keyword(source_folder_path, destination_folder_path, search_keyword)\n"
   ]
  },
  {
   "cell_type": "code",
   "execution_count": null,
   "metadata": {},
   "outputs": [],
   "source": []
  }
 ],
 "metadata": {
  "kernelspec": {
   "display_name": "base",
   "language": "python",
   "name": "python3"
  },
  "language_info": {
   "codemirror_mode": {
    "name": "ipython",
    "version": 3
   },
   "file_extension": ".py",
   "mimetype": "text/x-python",
   "name": "python",
   "nbconvert_exporter": "python",
   "pygments_lexer": "ipython3",
   "version": "3.9.13"
  }
 },
 "nbformat": 4,
 "nbformat_minor": 2
}
