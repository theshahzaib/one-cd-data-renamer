{
 "cells": [
  {
   "cell_type": "code",
   "execution_count": null,
   "metadata": {},
   "outputs": [],
   "source": []
  },
  {
   "cell_type": "markdown",
   "metadata": {},
   "source": [
    "# Pre-Processing Data"
   ]
  },
  {
   "cell_type": "markdown",
   "metadata": {},
   "source": [
    "## Creating folders first"
   ]
  },
  {
   "cell_type": "code",
   "execution_count": 53,
   "metadata": {
    "scrolled": true
   },
   "outputs": [
    {
     "name": "stdout",
     "output_type": "stream",
     "text": [
      "ok\n"
     ]
    }
   ],
   "source": [
    "import os\n",
    "import shutil\n",
    "\n",
    "\n",
    "os.makedirs(\"train/pre\", exist_ok=True)\n",
    "os.makedirs(\"train/post\", exist_ok=True)\n",
    "os.makedirs(\"train/mask\", exist_ok=True)\n",
    "os.makedirs(\"train/images\", exist_ok=True)\n",
    "os.makedirs(\"train/labels\", exist_ok=True)\n",
    "\n",
    "\n",
    "print('ok')"
   ]
  },
  {
   "cell_type": "markdown",
   "metadata": {},
   "source": [
    "## Replace Dots (.) in file names"
   ]
  },
  {
   "cell_type": "code",
   "execution_count": 54,
   "metadata": {},
   "outputs": [],
   "source": [
    "def replace_dots_in_file_name(folder_path):\n",
    "    for filename in os.listdir(folder_path):\n",
    "        # Get the full file path\n",
    "        filepath = os.path.join(folder_path, filename)\n",
    "\n",
    "        # Check if it is a file (not a directory)\n",
    "        if os.path.isfile(filepath):\n",
    "            # Split the file name and extension\n",
    "            root, ext = os.path.splitext(filename)\n",
    "\n",
    "            # Replace dots in the root part of the file name\n",
    "            new_root = root.replace('.', '_')\n",
    "\n",
    "            # Combine the new root and the original extension\n",
    "            new_filename = new_root + ext\n",
    "\n",
    "            # Construct the new file path\n",
    "            new_filepath = os.path.join(folder_path, new_filename)\n",
    "\n",
    "            # Rename the file\n",
    "            os.rename(filepath, new_filepath)\n",
    "\n",
    "# Example usage\n",
    "folder_path = 'train'\n",
    "replace_dots_in_file_name(folder_path)\n"
   ]
  },
  {
   "cell_type": "markdown",
   "metadata": {},
   "source": [
    "## Removing unnecessery string like 'jpg' in file names"
   ]
  },
  {
   "cell_type": "code",
   "execution_count": 55,
   "metadata": {},
   "outputs": [
    {
     "name": "stdout",
     "output_type": "stream",
     "text": [
      "Renamed: train\\bahria-town-1109_jpg_rf_b89f7644ab638b28561dc62cc191143a.jpg -> train\\bahria-town-1109_rf_b89f7644ab638b28561dc62cc191143a.jpg\n",
      "Renamed: train\\bahria-town-1109_jpg_rf_b89f7644ab638b28561dc62cc191143a_mask.png -> train\\bahria-town-1109_rf_b89f7644ab638b28561dc62cc191143a_mask.png\n",
      "Renamed: train\\bahria-town-1509_jpg_rf_d6fd8d7ebecec9a843b14b1a18c74254.jpg -> train\\bahria-town-1509_rf_d6fd8d7ebecec9a843b14b1a18c74254.jpg\n",
      "Renamed: train\\bahria-town-1509_jpg_rf_d6fd8d7ebecec9a843b14b1a18c74254_mask.png -> train\\bahria-town-1509_rf_d6fd8d7ebecec9a843b14b1a18c74254_mask.png\n",
      "Renamed: train\\bahria-town-1602_jpg_rf_fc43a7631bfb25c163c0814f09b52f10.jpg -> train\\bahria-town-1602_rf_fc43a7631bfb25c163c0814f09b52f10.jpg\n",
      "Renamed: train\\bahria-town-1602_jpg_rf_fc43a7631bfb25c163c0814f09b52f10_mask.png -> train\\bahria-town-1602_rf_fc43a7631bfb25c163c0814f09b52f10_mask.png\n",
      "Renamed: train\\bahria-town-1902_jpg_rf_875bb2eaee19e1307b757ce3cc413bf3.jpg -> train\\bahria-town-1902_rf_875bb2eaee19e1307b757ce3cc413bf3.jpg\n",
      "Renamed: train\\bahria-town-1902_jpg_rf_875bb2eaee19e1307b757ce3cc413bf3_mask.png -> train\\bahria-town-1902_rf_875bb2eaee19e1307b757ce3cc413bf3_mask.png\n",
      "Renamed: train\\bahria-town-2107_jpg_rf_6a2f1bd77fd11b32a2a83b1b16f5c148.jpg -> train\\bahria-town-2107_rf_6a2f1bd77fd11b32a2a83b1b16f5c148.jpg\n",
      "Renamed: train\\bahria-town-2107_jpg_rf_6a2f1bd77fd11b32a2a83b1b16f5c148_mask.png -> train\\bahria-town-2107_rf_6a2f1bd77fd11b32a2a83b1b16f5c148_mask.png\n",
      "Renamed: train\\bahria-town-2108_jpg_rf_919ddaa319524f397d199225dc53c18c.jpg -> train\\bahria-town-2108_rf_919ddaa319524f397d199225dc53c18c.jpg\n",
      "Renamed: train\\bahria-town-2108_jpg_rf_919ddaa319524f397d199225dc53c18c_mask.png -> train\\bahria-town-2108_rf_919ddaa319524f397d199225dc53c18c_mask.png\n",
      "Renamed: train\\bahria-town-2111_jpg_rf_9a3c5a175c56244f9f97eb345c2bf563.jpg -> train\\bahria-town-2111_rf_9a3c5a175c56244f9f97eb345c2bf563.jpg\n",
      "Renamed: train\\bahria-town-2111_jpg_rf_9a3c5a175c56244f9f97eb345c2bf563_mask.png -> train\\bahria-town-2111_rf_9a3c5a175c56244f9f97eb345c2bf563_mask.png\n",
      "Renamed: train\\bahria-town-2112_jpg_rf_d1808b5b6d55b4d2807b0b0ca86683fb.jpg -> train\\bahria-town-2112_rf_d1808b5b6d55b4d2807b0b0ca86683fb.jpg\n",
      "Renamed: train\\bahria-town-2112_jpg_rf_d1808b5b6d55b4d2807b0b0ca86683fb_mask.png -> train\\bahria-town-2112_rf_d1808b5b6d55b4d2807b0b0ca86683fb_mask.png\n",
      "Renamed: train\\bahria-town-2205_jpg_rf_18a01212ff60b5efdc1807e00043a423.jpg -> train\\bahria-town-2205_rf_18a01212ff60b5efdc1807e00043a423.jpg\n",
      "Renamed: train\\bahria-town-2205_jpg_rf_18a01212ff60b5efdc1807e00043a423_mask.png -> train\\bahria-town-2205_rf_18a01212ff60b5efdc1807e00043a423_mask.png\n",
      "Renamed: train\\bahria-town-2206_jpg_rf_8a0ced35b4848e9155b61d5ee290431c.jpg -> train\\bahria-town-2206_rf_8a0ced35b4848e9155b61d5ee290431c.jpg\n",
      "Renamed: train\\bahria-town-2206_jpg_rf_8a0ced35b4848e9155b61d5ee290431c_mask.png -> train\\bahria-town-2206_rf_8a0ced35b4848e9155b61d5ee290431c_mask.png\n",
      "Renamed: train\\_classes.csv -> train\\_classes.csv\n"
     ]
    }
   ],
   "source": [
    "import os\n",
    "\n",
    "def replace_string_in_filenames(folder_path, old_string, new_string):\n",
    "    for filename in os.listdir(folder_path):\n",
    "        # Get the full file path\n",
    "        filepath = os.path.join(folder_path, filename)\n",
    "\n",
    "        # Check if it is a file (not a directory)\n",
    "        if os.path.isfile(filepath):\n",
    "            # Replace the specified string in the file name\n",
    "            new_filename = filename.replace(old_string, new_string)\n",
    "\n",
    "            # Construct the new file path\n",
    "            new_filepath = os.path.join(folder_path, new_filename)\n",
    "\n",
    "            # Rename the file\n",
    "            os.rename(filepath, new_filepath)\n",
    "            print(f'Renamed: {filepath} -> {new_filepath}')\n",
    "\n",
    "# Example usage\n",
    "folder_path = 'train'\n",
    "old_string = '_jpg'\n",
    "new_string = ''\n",
    "\n",
    "replace_string_in_filenames(folder_path, old_string, new_string)"
   ]
  },
  {
   "cell_type": "markdown",
   "metadata": {},
   "source": [
    "## Move the First file to the pre folder"
   ]
  },
  {
   "cell_type": "code",
   "execution_count": 56,
   "metadata": {},
   "outputs": [
    {
     "name": "stdout",
     "output_type": "stream",
     "text": [
      "Moved bahria-town-1109_rf_b89f7644ab638b28561dc62cc191143a.jpg from train to train/pre.\n"
     ]
    }
   ],
   "source": [
    "import os\n",
    "import shutil\n",
    "\n",
    "def move_first_jpg(source_folder, destination_folder):\n",
    "    # Get the list of files in the source folder\n",
    "    files = [f for f in os.listdir(source_folder) if f.lower().endswith('.jpg')]\n",
    "\n",
    "    if not files:\n",
    "        print(\"No '.jpg' files found in the source folder.\")\n",
    "        return\n",
    "\n",
    "    # Get the first '.jpg' file in the list\n",
    "    first_jpg_file = files[0]\n",
    "\n",
    "    # Build the full paths for source and destination\n",
    "    source_path = os.path.join(source_folder, first_jpg_file)\n",
    "    destination_path = os.path.join(destination_folder, first_jpg_file)\n",
    "\n",
    "    # Move the file to the destination folder\n",
    "    shutil.move(source_path, destination_path)\n",
    "\n",
    "    print(f\"Moved {first_jpg_file} from {source_folder} to {destination_folder}.\")\n",
    "\n",
    "# Example usage\n",
    "source_folder = 'train'\n",
    "destination_folder = 'train/pre'\n",
    "\n",
    "move_first_jpg(source_folder, destination_folder)\n"
   ]
  },
  {
   "cell_type": "markdown",
   "metadata": {},
   "source": [
    "## Move all remaining '.jpg' files in the post folder"
   ]
  },
  {
   "cell_type": "code",
   "execution_count": 57,
   "metadata": {},
   "outputs": [
    {
     "name": "stdout",
     "output_type": "stream",
     "text": [
      "Moved bahria-town-1509_rf_d6fd8d7ebecec9a843b14b1a18c74254.jpg from train to train/post.\n",
      "Moved bahria-town-1602_rf_fc43a7631bfb25c163c0814f09b52f10.jpg from train to train/post.\n",
      "Moved bahria-town-1902_rf_875bb2eaee19e1307b757ce3cc413bf3.jpg from train to train/post.\n",
      "Moved bahria-town-2107_rf_6a2f1bd77fd11b32a2a83b1b16f5c148.jpg from train to train/post.\n",
      "Moved bahria-town-2108_rf_919ddaa319524f397d199225dc53c18c.jpg from train to train/post.\n",
      "Moved bahria-town-2111_rf_9a3c5a175c56244f9f97eb345c2bf563.jpg from train to train/post.\n",
      "Moved bahria-town-2112_rf_d1808b5b6d55b4d2807b0b0ca86683fb.jpg from train to train/post.\n",
      "Moved bahria-town-2205_rf_18a01212ff60b5efdc1807e00043a423.jpg from train to train/post.\n",
      "Moved bahria-town-2206_rf_8a0ced35b4848e9155b61d5ee290431c.jpg from train to train/post.\n"
     ]
    }
   ],
   "source": [
    "import os\n",
    "import shutil\n",
    "\n",
    "def move_all_jpg(source_folder, destination_folder):\n",
    "    # Ensure the destination folder exists, create it if necessary\n",
    "    if not os.path.exists(destination_folder):\n",
    "        os.makedirs(destination_folder)\n",
    "\n",
    "    # Get the list of all files in the source folder\n",
    "    files = os.listdir(source_folder)\n",
    "\n",
    "    # Filter files to keep only the '.jpg' files\n",
    "    jpg_files = [f for f in files if f.lower().endswith('.jpg')]\n",
    "\n",
    "    if not jpg_files:\n",
    "        print(\"No '.jpg' files found in the source folder.\")\n",
    "        return\n",
    "\n",
    "    # Move each '.jpg' file to the destination folder\n",
    "    for jpg_file in jpg_files:\n",
    "        source_path = os.path.join(source_folder, jpg_file)\n",
    "        destination_path = os.path.join(destination_folder, jpg_file)\n",
    "        shutil.move(source_path, destination_path)\n",
    "        print(f\"Moved {jpg_file} from {source_folder} to {destination_folder}.\")\n",
    "\n",
    "# Example usage\n",
    "source_folder = 'train'\n",
    "destination_folder = 'train/post'\n",
    "\n",
    "move_all_jpg(source_folder, destination_folder)\n"
   ]
  },
  {
   "cell_type": "markdown",
   "metadata": {},
   "source": [
    "## Add postfix '_post' to all files in the post folder"
   ]
  },
  {
   "cell_type": "code",
   "execution_count": 58,
   "metadata": {},
   "outputs": [],
   "source": [
    "def add_postfix_to_files(folder_path, postfix):\n",
    "    for filename in os.listdir(folder_path):\n",
    "        # Get the full file path\n",
    "        filepath = os.path.join(folder_path, filename)\n",
    "\n",
    "        # Check if it is a file (not a directory)\n",
    "        if os.path.isfile(filepath):\n",
    "            # Split the file name and extension\n",
    "            root, ext = os.path.splitext(filename)\n",
    "\n",
    "            # Add the postfix to the root part of the file name\n",
    "            new_root = root + postfix\n",
    "\n",
    "            # Combine the new root and the original extension\n",
    "            new_filename = new_root + ext\n",
    "\n",
    "            # Construct the new file path\n",
    "            new_filepath = os.path.join(folder_path, new_filename)\n",
    "\n",
    "            # Rename the file\n",
    "            os.rename(filepath, new_filepath)\n",
    "\n",
    "# Example usage\n",
    "folder_path = 'train/post'\n",
    "postfix = '_post'\n",
    "add_postfix_to_files(folder_path, postfix)"
   ]
  },
  {
   "cell_type": "markdown",
   "metadata": {},
   "source": [
    "## Generate Pre-Image Duplicate copies"
   ]
  },
  {
   "cell_type": "code",
   "execution_count": 59,
   "metadata": {},
   "outputs": [
    {
     "name": "stdout",
     "output_type": "stream",
     "text": [
      "Duplicate copy 1 created: train/pre\\bahria-town-1109_rf_b89f7644ab638b28561dc62cc191143a_copy_1.jpg\n",
      "Duplicate copy 2 created: train/pre\\bahria-town-1109_rf_b89f7644ab638b28561dc62cc191143a_copy_2.jpg\n",
      "Duplicate copy 3 created: train/pre\\bahria-town-1109_rf_b89f7644ab638b28561dc62cc191143a_copy_3.jpg\n",
      "Duplicate copy 4 created: train/pre\\bahria-town-1109_rf_b89f7644ab638b28561dc62cc191143a_copy_4.jpg\n",
      "Duplicate copy 5 created: train/pre\\bahria-town-1109_rf_b89f7644ab638b28561dc62cc191143a_copy_5.jpg\n",
      "Duplicate copy 6 created: train/pre\\bahria-town-1109_rf_b89f7644ab638b28561dc62cc191143a_copy_6.jpg\n",
      "Duplicate copy 7 created: train/pre\\bahria-town-1109_rf_b89f7644ab638b28561dc62cc191143a_copy_7.jpg\n",
      "Duplicate copy 8 created: train/pre\\bahria-town-1109_rf_b89f7644ab638b28561dc62cc191143a_copy_8.jpg\n"
     ]
    }
   ],
   "source": [
    "folder_path = 'train/post'\n",
    "files = os.listdir(folder_path)\n",
    "num_files = len(files)\n",
    "folder_path_pre = 'train/pre'\n",
    "file_pre = os.listdir(folder_path_pre)\n",
    "\n",
    "import shutil\n",
    "\n",
    "def duplicate_file(file_path, count):\n",
    "    try:\n",
    "        # Validate that the file exists\n",
    "        if not os.path.isfile(file_path):\n",
    "            print(f\"The file '{file_path}' does not exist.\")\n",
    "            return\n",
    "\n",
    "        # Get the file's extension and basename\n",
    "        file_name, file_extension = os.path.splitext(os.path.basename(file_path))\n",
    "\n",
    "        # Create duplicate copies\n",
    "        for i in range(1, count + 1):\n",
    "            duplicate_file_name = f\"{file_name}_copy_{i}{file_extension}\"\n",
    "            duplicate_file_path = os.path.join(os.path.dirname(file_path), duplicate_file_name)\n",
    "            shutil.copy2(file_path, duplicate_file_path)\n",
    "            print(f\"Duplicate copy {i} created: {duplicate_file_path}\")\n",
    "\n",
    "    except Exception as e:\n",
    "        print(f\"An error occurred: {e}\")\n",
    "\n",
    "# Example usage\n",
    "file_to_duplicate = 'train/pre/'+file_pre[0]\n",
    "duplicate_count = num_files-1\n",
    "\n",
    "duplicate_file(file_to_duplicate, duplicate_count)\n"
   ]
  },
  {
   "cell_type": "code",
   "execution_count": null,
   "metadata": {},
   "outputs": [],
   "source": []
  },
  {
   "cell_type": "markdown",
   "metadata": {},
   "source": [
    "## Replacing B names with A"
   ]
  },
  {
   "cell_type": "code",
   "execution_count": 60,
   "metadata": {},
   "outputs": [
    {
     "name": "stdout",
     "output_type": "stream",
     "text": [
      "Replaced: train/pre\\bahria-town-1109_rf_b89f7644ab638b28561dc62cc191143a.jpg -> train/pre\\bahria-town-1509_rf_d6fd8d7ebecec9a843b14b1a18c74254_post.jpg\n",
      "Replaced: train/pre\\bahria-town-1109_rf_b89f7644ab638b28561dc62cc191143a_copy_1.jpg -> train/pre\\bahria-town-1602_rf_fc43a7631bfb25c163c0814f09b52f10_post.jpg\n",
      "Replaced: train/pre\\bahria-town-1109_rf_b89f7644ab638b28561dc62cc191143a_copy_2.jpg -> train/pre\\bahria-town-1902_rf_875bb2eaee19e1307b757ce3cc413bf3_post.jpg\n",
      "Replaced: train/pre\\bahria-town-1109_rf_b89f7644ab638b28561dc62cc191143a_copy_3.jpg -> train/pre\\bahria-town-2107_rf_6a2f1bd77fd11b32a2a83b1b16f5c148_post.jpg\n",
      "Replaced: train/pre\\bahria-town-1109_rf_b89f7644ab638b28561dc62cc191143a_copy_4.jpg -> train/pre\\bahria-town-2108_rf_919ddaa319524f397d199225dc53c18c_post.jpg\n",
      "Replaced: train/pre\\bahria-town-1109_rf_b89f7644ab638b28561dc62cc191143a_copy_5.jpg -> train/pre\\bahria-town-2111_rf_9a3c5a175c56244f9f97eb345c2bf563_post.jpg\n",
      "Replaced: train/pre\\bahria-town-1109_rf_b89f7644ab638b28561dc62cc191143a_copy_6.jpg -> train/pre\\bahria-town-2112_rf_d1808b5b6d55b4d2807b0b0ca86683fb_post.jpg\n",
      "Replaced: train/pre\\bahria-town-1109_rf_b89f7644ab638b28561dc62cc191143a_copy_7.jpg -> train/pre\\bahria-town-2205_rf_18a01212ff60b5efdc1807e00043a423_post.jpg\n",
      "Replaced: train/pre\\bahria-town-1109_rf_b89f7644ab638b28561dc62cc191143a_copy_8.jpg -> train/pre\\bahria-town-2206_rf_8a0ced35b4848e9155b61d5ee290431c_post.jpg\n"
     ]
    }
   ],
   "source": [
    "import os\n",
    "\n",
    "def replace_file_names(folder_a, folder_b):\n",
    "    # Get lists of files in both folders\n",
    "    files_a = os.listdir(folder_a)\n",
    "    files_b = os.listdir(folder_b)\n",
    "\n",
    "    # Check if the number of files in both folders is the same\n",
    "    if len(files_a) != len(files_b):\n",
    "        print(\"Error: The number of files in the two folders is not the same.\")\n",
    "        return\n",
    "\n",
    "    # Rename files in folder B to match files in folder A\n",
    "    for file_a, file_b in zip(files_a, files_b):\n",
    "        path_a = os.path.join(folder_a, file_a)\n",
    "        path_b = os.path.join(folder_b, file_b)\n",
    "\n",
    "        # Replace file name in folder B\n",
    "        os.rename(path_b, os.path.join(folder_b, file_a))\n",
    "\n",
    "        print(f'Replaced: {path_b} -> {os.path.join(folder_b, file_a)}')\n",
    "\n",
    "# Example usage\n",
    "folder_a = 'train/post'\n",
    "folder_b = 'train/pre'\n",
    "\n",
    "replace_file_names(folder_a, folder_b)\n"
   ]
  },
  {
   "cell_type": "markdown",
   "metadata": {},
   "source": [
    "## Replace 'Post' String with 'Pre' in Pre folder"
   ]
  },
  {
   "cell_type": "code",
   "execution_count": 61,
   "metadata": {},
   "outputs": [
    {
     "name": "stdout",
     "output_type": "stream",
     "text": [
      "Renamed: train/pre\\bahria-town-1509_rf_d6fd8d7ebecec9a843b14b1a18c74254_post.jpg -> train/pre\\bahria-town-1509_rf_d6fd8d7ebecec9a843b14b1a18c74254_pre.jpg\n",
      "Renamed: train/pre\\bahria-town-1602_rf_fc43a7631bfb25c163c0814f09b52f10_post.jpg -> train/pre\\bahria-town-1602_rf_fc43a7631bfb25c163c0814f09b52f10_pre.jpg\n",
      "Renamed: train/pre\\bahria-town-1902_rf_875bb2eaee19e1307b757ce3cc413bf3_post.jpg -> train/pre\\bahria-town-1902_rf_875bb2eaee19e1307b757ce3cc413bf3_pre.jpg\n",
      "Renamed: train/pre\\bahria-town-2107_rf_6a2f1bd77fd11b32a2a83b1b16f5c148_post.jpg -> train/pre\\bahria-town-2107_rf_6a2f1bd77fd11b32a2a83b1b16f5c148_pre.jpg\n",
      "Renamed: train/pre\\bahria-town-2108_rf_919ddaa319524f397d199225dc53c18c_post.jpg -> train/pre\\bahria-town-2108_rf_919ddaa319524f397d199225dc53c18c_pre.jpg\n",
      "Renamed: train/pre\\bahria-town-2111_rf_9a3c5a175c56244f9f97eb345c2bf563_post.jpg -> train/pre\\bahria-town-2111_rf_9a3c5a175c56244f9f97eb345c2bf563_pre.jpg\n",
      "Renamed: train/pre\\bahria-town-2112_rf_d1808b5b6d55b4d2807b0b0ca86683fb_post.jpg -> train/pre\\bahria-town-2112_rf_d1808b5b6d55b4d2807b0b0ca86683fb_pre.jpg\n",
      "Renamed: train/pre\\bahria-town-2205_rf_18a01212ff60b5efdc1807e00043a423_post.jpg -> train/pre\\bahria-town-2205_rf_18a01212ff60b5efdc1807e00043a423_pre.jpg\n",
      "Renamed: train/pre\\bahria-town-2206_rf_8a0ced35b4848e9155b61d5ee290431c_post.jpg -> train/pre\\bahria-town-2206_rf_8a0ced35b4848e9155b61d5ee290431c_pre.jpg\n"
     ]
    }
   ],
   "source": [
    "import os\n",
    "\n",
    "def replace_string_in_filenames(folder_path, old_string, new_string):\n",
    "    for filename in os.listdir(folder_path):\n",
    "        # Get the full file path\n",
    "        filepath = os.path.join(folder_path, filename)\n",
    "\n",
    "        # Check if it is a file (not a directory)\n",
    "        if os.path.isfile(filepath):\n",
    "            # Replace the specified string in the file name\n",
    "            new_filename = filename.replace(old_string, new_string)\n",
    "\n",
    "            # Construct the new file path\n",
    "            new_filepath = os.path.join(folder_path, new_filename)\n",
    "\n",
    "            # Rename the file\n",
    "            os.rename(filepath, new_filepath)\n",
    "            print(f'Renamed: {filepath} -> {new_filepath}')\n",
    "\n",
    "# Example usage\n",
    "folder_path = 'train/pre'\n",
    "old_string = 'post'\n",
    "new_string = 'pre'\n",
    "\n",
    "replace_string_in_filenames(folder_path, old_string, new_string)"
   ]
  },
  {
   "cell_type": "markdown",
   "metadata": {},
   "source": [
    "# Labels Pre-Procesing"
   ]
  },
  {
   "cell_type": "markdown",
   "metadata": {},
   "source": [
    "## Remove first 'png' file from folder"
   ]
  },
  {
   "cell_type": "code",
   "execution_count": 62,
   "metadata": {},
   "outputs": [
    {
     "name": "stdout",
     "output_type": "stream",
     "text": [
      "Removed the first '.png' file 'bahria-town-1109_rf_b89f7644ab638b28561dc62cc191143a_mask.png' from the folder.\n"
     ]
    }
   ],
   "source": [
    "import os\n",
    "\n",
    "def remove_first_png_file(folder_path):\n",
    "    try:\n",
    "        # List all files in the folder\n",
    "        files = os.listdir(folder_path)\n",
    "\n",
    "        # Filter files to keep only the '.png' files\n",
    "        png_files = [f for f in files if f.lower().endswith('.png')]\n",
    "\n",
    "        if not png_files:\n",
    "            print(\"No '.png' files found in the folder.\")\n",
    "            return\n",
    "\n",
    "        # Get the first '.png' file in the list\n",
    "        first_png_file = png_files[0]\n",
    "\n",
    "        # Build the full path for the file to be removed\n",
    "        file_to_remove_path = os.path.join(folder_path, first_png_file)\n",
    "\n",
    "        # Remove the file\n",
    "        os.remove(file_to_remove_path)\n",
    "\n",
    "        print(f\"Removed the first '.png' file '{first_png_file}' from the folder.\")\n",
    "\n",
    "    except FileNotFoundError:\n",
    "        print(f\"The folder '{folder_path}' does not exist.\")\n",
    "    except Exception as e:\n",
    "        print(f\"An error occurred: {e}\")\n",
    "\n",
    "# Example usage\n",
    "folder_path = 'train'\n",
    "remove_first_png_file(folder_path)\n"
   ]
  },
  {
   "cell_type": "markdown",
   "metadata": {},
   "source": [
    "## Copy all PNG labels to Post folder"
   ]
  },
  {
   "cell_type": "code",
   "execution_count": 63,
   "metadata": {},
   "outputs": [
    {
     "name": "stdout",
     "output_type": "stream",
     "text": [
      "Copied 'bahria-town-1509_rf_d6fd8d7ebecec9a843b14b1a18c74254_mask.png' from train to train/post.\n",
      "Copied 'bahria-town-1602_rf_fc43a7631bfb25c163c0814f09b52f10_mask.png' from train to train/post.\n",
      "Copied 'bahria-town-1902_rf_875bb2eaee19e1307b757ce3cc413bf3_mask.png' from train to train/post.\n",
      "Copied 'bahria-town-2107_rf_6a2f1bd77fd11b32a2a83b1b16f5c148_mask.png' from train to train/post.\n",
      "Copied 'bahria-town-2108_rf_919ddaa319524f397d199225dc53c18c_mask.png' from train to train/post.\n",
      "Copied 'bahria-town-2111_rf_9a3c5a175c56244f9f97eb345c2bf563_mask.png' from train to train/post.\n",
      "Copied 'bahria-town-2112_rf_d1808b5b6d55b4d2807b0b0ca86683fb_mask.png' from train to train/post.\n",
      "Copied 'bahria-town-2205_rf_18a01212ff60b5efdc1807e00043a423_mask.png' from train to train/post.\n",
      "Copied 'bahria-town-2206_rf_8a0ced35b4848e9155b61d5ee290431c_mask.png' from train to train/post.\n"
     ]
    }
   ],
   "source": [
    "import os\n",
    "import shutil\n",
    "\n",
    "def copy_all_png_files(source_folder, destination_folder):\n",
    "    try:\n",
    "        # Ensure the destination folder exists, create it if necessary\n",
    "        if not os.path.exists(destination_folder):\n",
    "            os.makedirs(destination_folder)\n",
    "\n",
    "        # List all files in the source folder\n",
    "        files = os.listdir(source_folder)\n",
    "\n",
    "        # Filter files to keep only the '.png' files\n",
    "        png_files = [f for f in files if f.lower().endswith('.png')]\n",
    "\n",
    "        if not png_files:\n",
    "            print(\"No '.png' files found in the source folder.\")\n",
    "            return\n",
    "\n",
    "        # Copy each '.png' file to the destination folder\n",
    "        for png_file in png_files:\n",
    "            source_path = os.path.join(source_folder, png_file)\n",
    "            destination_path = os.path.join(destination_folder, png_file)\n",
    "            shutil.copy2(source_path, destination_path)\n",
    "            print(f\"Copied '{png_file}' from {source_folder} to {destination_folder}.\")\n",
    "\n",
    "    except FileNotFoundError:\n",
    "        print(f\"The source folder '{source_folder}' does not exist.\")\n",
    "    except Exception as e:\n",
    "        print(f\"An error occurred: {e}\")\n",
    "\n",
    "# Example usage\n",
    "source_folder = 'train'\n",
    "destination_folder = 'train/post'\n",
    "\n",
    "copy_all_png_files(source_folder, destination_folder)\n"
   ]
  },
  {
   "cell_type": "markdown",
   "metadata": {},
   "source": [
    "## Replace string 'mask' --> 'post' in the labels"
   ]
  },
  {
   "cell_type": "code",
   "execution_count": 64,
   "metadata": {},
   "outputs": [
    {
     "name": "stdout",
     "output_type": "stream",
     "text": [
      "Renamed: train/post\\bahria-town-1509_rf_d6fd8d7ebecec9a843b14b1a18c74254_mask.png -> train/post\\bahria-town-1509_rf_d6fd8d7ebecec9a843b14b1a18c74254_post.png\n",
      "Renamed: train/post\\bahria-town-1509_rf_d6fd8d7ebecec9a843b14b1a18c74254_post.jpg -> train/post\\bahria-town-1509_rf_d6fd8d7ebecec9a843b14b1a18c74254_post.jpg\n",
      "Renamed: train/post\\bahria-town-1602_rf_fc43a7631bfb25c163c0814f09b52f10_mask.png -> train/post\\bahria-town-1602_rf_fc43a7631bfb25c163c0814f09b52f10_post.png\n",
      "Renamed: train/post\\bahria-town-1602_rf_fc43a7631bfb25c163c0814f09b52f10_post.jpg -> train/post\\bahria-town-1602_rf_fc43a7631bfb25c163c0814f09b52f10_post.jpg\n",
      "Renamed: train/post\\bahria-town-1902_rf_875bb2eaee19e1307b757ce3cc413bf3_mask.png -> train/post\\bahria-town-1902_rf_875bb2eaee19e1307b757ce3cc413bf3_post.png\n",
      "Renamed: train/post\\bahria-town-1902_rf_875bb2eaee19e1307b757ce3cc413bf3_post.jpg -> train/post\\bahria-town-1902_rf_875bb2eaee19e1307b757ce3cc413bf3_post.jpg\n",
      "Renamed: train/post\\bahria-town-2107_rf_6a2f1bd77fd11b32a2a83b1b16f5c148_mask.png -> train/post\\bahria-town-2107_rf_6a2f1bd77fd11b32a2a83b1b16f5c148_post.png\n",
      "Renamed: train/post\\bahria-town-2107_rf_6a2f1bd77fd11b32a2a83b1b16f5c148_post.jpg -> train/post\\bahria-town-2107_rf_6a2f1bd77fd11b32a2a83b1b16f5c148_post.jpg\n",
      "Renamed: train/post\\bahria-town-2108_rf_919ddaa319524f397d199225dc53c18c_mask.png -> train/post\\bahria-town-2108_rf_919ddaa319524f397d199225dc53c18c_post.png\n",
      "Renamed: train/post\\bahria-town-2108_rf_919ddaa319524f397d199225dc53c18c_post.jpg -> train/post\\bahria-town-2108_rf_919ddaa319524f397d199225dc53c18c_post.jpg\n",
      "Renamed: train/post\\bahria-town-2111_rf_9a3c5a175c56244f9f97eb345c2bf563_mask.png -> train/post\\bahria-town-2111_rf_9a3c5a175c56244f9f97eb345c2bf563_post.png\n",
      "Renamed: train/post\\bahria-town-2111_rf_9a3c5a175c56244f9f97eb345c2bf563_post.jpg -> train/post\\bahria-town-2111_rf_9a3c5a175c56244f9f97eb345c2bf563_post.jpg\n",
      "Renamed: train/post\\bahria-town-2112_rf_d1808b5b6d55b4d2807b0b0ca86683fb_mask.png -> train/post\\bahria-town-2112_rf_d1808b5b6d55b4d2807b0b0ca86683fb_post.png\n",
      "Renamed: train/post\\bahria-town-2112_rf_d1808b5b6d55b4d2807b0b0ca86683fb_post.jpg -> train/post\\bahria-town-2112_rf_d1808b5b6d55b4d2807b0b0ca86683fb_post.jpg\n",
      "Renamed: train/post\\bahria-town-2205_rf_18a01212ff60b5efdc1807e00043a423_mask.png -> train/post\\bahria-town-2205_rf_18a01212ff60b5efdc1807e00043a423_post.png\n",
      "Renamed: train/post\\bahria-town-2205_rf_18a01212ff60b5efdc1807e00043a423_post.jpg -> train/post\\bahria-town-2205_rf_18a01212ff60b5efdc1807e00043a423_post.jpg\n",
      "Renamed: train/post\\bahria-town-2206_rf_8a0ced35b4848e9155b61d5ee290431c_mask.png -> train/post\\bahria-town-2206_rf_8a0ced35b4848e9155b61d5ee290431c_post.png\n",
      "Renamed: train/post\\bahria-town-2206_rf_8a0ced35b4848e9155b61d5ee290431c_post.jpg -> train/post\\bahria-town-2206_rf_8a0ced35b4848e9155b61d5ee290431c_post.jpg\n"
     ]
    }
   ],
   "source": [
    "import os\n",
    "\n",
    "def replace_string_in_filenames(folder_path, old_string, new_string):\n",
    "    for filename in os.listdir(folder_path):\n",
    "        # Get the full file path\n",
    "        filepath = os.path.join(folder_path, filename)\n",
    "\n",
    "        # Check if it is a file (not a directory)\n",
    "        if os.path.isfile(filepath):\n",
    "            # Replace the specified string in the file name\n",
    "            new_filename = filename.replace(old_string, new_string)\n",
    "\n",
    "            # Construct the new file path\n",
    "            new_filepath = os.path.join(folder_path, new_filename)\n",
    "\n",
    "            # Rename the file\n",
    "            os.rename(filepath, new_filepath)\n",
    "            print(f'Renamed: {filepath} -> {new_filepath}')\n",
    "\n",
    "# Example usage\n",
    "folder_path = 'train/post'\n",
    "old_string = 'mask'\n",
    "new_string = 'post'\n",
    "\n",
    "replace_string_in_filenames(folder_path, old_string, new_string)\n"
   ]
  },
  {
   "cell_type": "markdown",
   "metadata": {},
   "source": [
    "# PNG Mask Update Replace all non-zero px to 1"
   ]
  },
  {
   "cell_type": "code",
   "execution_count": 65,
   "metadata": {},
   "outputs": [
    {
     "name": "stdout",
     "output_type": "stream",
     "text": [
      "Non-zero pixels in 'train\\bahria-town-1509_rf_d6fd8d7ebecec9a843b14b1a18c74254_mask.png' replaced with 1. Result saved to 'train/mask\\bahria-town-1509_rf_d6fd8d7ebecec9a843b14b1a18c74254_mask.png'.\n",
      "Non-zero pixels in 'train\\bahria-town-1602_rf_fc43a7631bfb25c163c0814f09b52f10_mask.png' replaced with 1. Result saved to 'train/mask\\bahria-town-1602_rf_fc43a7631bfb25c163c0814f09b52f10_mask.png'.\n",
      "Non-zero pixels in 'train\\bahria-town-1902_rf_875bb2eaee19e1307b757ce3cc413bf3_mask.png' replaced with 1. Result saved to 'train/mask\\bahria-town-1902_rf_875bb2eaee19e1307b757ce3cc413bf3_mask.png'.\n",
      "Non-zero pixels in 'train\\bahria-town-2107_rf_6a2f1bd77fd11b32a2a83b1b16f5c148_mask.png' replaced with 1. Result saved to 'train/mask\\bahria-town-2107_rf_6a2f1bd77fd11b32a2a83b1b16f5c148_mask.png'.\n",
      "Non-zero pixels in 'train\\bahria-town-2108_rf_919ddaa319524f397d199225dc53c18c_mask.png' replaced with 1. Result saved to 'train/mask\\bahria-town-2108_rf_919ddaa319524f397d199225dc53c18c_mask.png'.\n",
      "Non-zero pixels in 'train\\bahria-town-2111_rf_9a3c5a175c56244f9f97eb345c2bf563_mask.png' replaced with 1. Result saved to 'train/mask\\bahria-town-2111_rf_9a3c5a175c56244f9f97eb345c2bf563_mask.png'.\n",
      "Non-zero pixels in 'train\\bahria-town-2112_rf_d1808b5b6d55b4d2807b0b0ca86683fb_mask.png' replaced with 1. Result saved to 'train/mask\\bahria-town-2112_rf_d1808b5b6d55b4d2807b0b0ca86683fb_mask.png'.\n",
      "Non-zero pixels in 'train\\bahria-town-2205_rf_18a01212ff60b5efdc1807e00043a423_mask.png' replaced with 1. Result saved to 'train/mask\\bahria-town-2205_rf_18a01212ff60b5efdc1807e00043a423_mask.png'.\n",
      "Non-zero pixels in 'train\\bahria-town-2206_rf_8a0ced35b4848e9155b61d5ee290431c_mask.png' replaced with 1. Result saved to 'train/mask\\bahria-town-2206_rf_8a0ced35b4848e9155b61d5ee290431c_mask.png'.\n"
     ]
    }
   ],
   "source": [
    "from PIL import Image\n",
    "import os\n",
    "\n",
    "def replace_non_zero_pixels_in_folder(input_folder, output_folder):\n",
    "    try:\n",
    "        # Ensure the output folder exists, create it if necessary\n",
    "        if not os.path.exists(output_folder):\n",
    "            os.makedirs(output_folder)\n",
    "\n",
    "        # List all files in the input folder\n",
    "        files = os.listdir(input_folder)\n",
    "\n",
    "        # Filter files to keep only the '.png' files\n",
    "        png_files = [f for f in files if f.lower().endswith('.png')]\n",
    "\n",
    "        if not png_files:\n",
    "            print(\"No '.png' files found in the input folder.\")\n",
    "            return\n",
    "\n",
    "        # Iterate over each '.png' file in the folder\n",
    "        for png_file in png_files:\n",
    "            input_path = os.path.join(input_folder, png_file)\n",
    "            output_path = os.path.join(output_folder, png_file)\n",
    "\n",
    "            # Open the image\n",
    "            image = Image.open(input_path)\n",
    "\n",
    "            # Convert the image to grayscale\n",
    "            image = image.convert('L')\n",
    "\n",
    "            # Create a new image with all pixels set to 1 except for 0\n",
    "            new_image = image.point(lambda p: 1 if p != 0 else 0)\n",
    "\n",
    "            # Save the new image\n",
    "            new_image.save(output_path)\n",
    "\n",
    "            print(f\"Non-zero pixels in '{input_path}' replaced with 1. Result saved to '{output_path}'.\")\n",
    "\n",
    "    except FileNotFoundError:\n",
    "        print(f\"The input folder '{input_folder}' does not exist.\")\n",
    "    except Exception as e:\n",
    "        print(f\"An error occurred: {e}\")\n",
    "\n",
    "# Example usage\n",
    "input_folder = 'train'\n",
    "output_folder = 'train/mask'\n",
    "\n",
    "replace_non_zero_pixels_in_folder(input_folder, output_folder)\n"
   ]
  },
  {
   "cell_type": "code",
   "execution_count": 66,
   "metadata": {},
   "outputs": [
    {
     "name": "stdout",
     "output_type": "stream",
     "text": [
      "Renamed: train/mask\\bahria-town-1509_rf_d6fd8d7ebecec9a843b14b1a18c74254_mask.png -> train/mask\\bahria-town-1509_rf_d6fd8d7ebecec9a843b14b1a18c74254_pre.png\n",
      "Renamed: train/mask\\bahria-town-1602_rf_fc43a7631bfb25c163c0814f09b52f10_mask.png -> train/mask\\bahria-town-1602_rf_fc43a7631bfb25c163c0814f09b52f10_pre.png\n",
      "Renamed: train/mask\\bahria-town-1902_rf_875bb2eaee19e1307b757ce3cc413bf3_mask.png -> train/mask\\bahria-town-1902_rf_875bb2eaee19e1307b757ce3cc413bf3_pre.png\n",
      "Renamed: train/mask\\bahria-town-2107_rf_6a2f1bd77fd11b32a2a83b1b16f5c148_mask.png -> train/mask\\bahria-town-2107_rf_6a2f1bd77fd11b32a2a83b1b16f5c148_pre.png\n",
      "Renamed: train/mask\\bahria-town-2108_rf_919ddaa319524f397d199225dc53c18c_mask.png -> train/mask\\bahria-town-2108_rf_919ddaa319524f397d199225dc53c18c_pre.png\n",
      "Renamed: train/mask\\bahria-town-2111_rf_9a3c5a175c56244f9f97eb345c2bf563_mask.png -> train/mask\\bahria-town-2111_rf_9a3c5a175c56244f9f97eb345c2bf563_pre.png\n",
      "Renamed: train/mask\\bahria-town-2112_rf_d1808b5b6d55b4d2807b0b0ca86683fb_mask.png -> train/mask\\bahria-town-2112_rf_d1808b5b6d55b4d2807b0b0ca86683fb_pre.png\n",
      "Renamed: train/mask\\bahria-town-2205_rf_18a01212ff60b5efdc1807e00043a423_mask.png -> train/mask\\bahria-town-2205_rf_18a01212ff60b5efdc1807e00043a423_pre.png\n",
      "Renamed: train/mask\\bahria-town-2206_rf_8a0ced35b4848e9155b61d5ee290431c_mask.png -> train/mask\\bahria-town-2206_rf_8a0ced35b4848e9155b61d5ee290431c_pre.png\n"
     ]
    }
   ],
   "source": [
    "import os\n",
    "\n",
    "def replace_string_in_filenames(folder_path, old_string, new_string):\n",
    "    for filename in os.listdir(folder_path):\n",
    "        # Get the full file path\n",
    "        filepath = os.path.join(folder_path, filename)\n",
    "\n",
    "        # Check if it is a file (not a directory)\n",
    "        if os.path.isfile(filepath):\n",
    "            # Replace the specified string in the file name\n",
    "            new_filename = filename.replace(old_string, new_string)\n",
    "\n",
    "            # Construct the new file path\n",
    "            new_filepath = os.path.join(folder_path, new_filename)\n",
    "\n",
    "            # Rename the file\n",
    "            os.rename(filepath, new_filepath)\n",
    "            print(f'Renamed: {filepath} -> {new_filepath}')\n",
    "\n",
    "# Example usage\n",
    "folder_path = 'train/mask'\n",
    "old_string = 'mask'\n",
    "new_string = 'pre'\n",
    "\n",
    "replace_string_in_filenames(folder_path, old_string, new_string)"
   ]
  },
  {
   "cell_type": "markdown",
   "metadata": {},
   "source": [
    "## Move all masks to the 'Pre' folder"
   ]
  },
  {
   "cell_type": "code",
   "execution_count": 67,
   "metadata": {},
   "outputs": [
    {
     "name": "stdout",
     "output_type": "stream",
     "text": [
      "Moved 'bahria-town-1509_rf_d6fd8d7ebecec9a843b14b1a18c74254_pre.png' from train/mask to train/pre.\n",
      "Moved 'bahria-town-1602_rf_fc43a7631bfb25c163c0814f09b52f10_pre.png' from train/mask to train/pre.\n",
      "Moved 'bahria-town-1902_rf_875bb2eaee19e1307b757ce3cc413bf3_pre.png' from train/mask to train/pre.\n",
      "Moved 'bahria-town-2107_rf_6a2f1bd77fd11b32a2a83b1b16f5c148_pre.png' from train/mask to train/pre.\n",
      "Moved 'bahria-town-2108_rf_919ddaa319524f397d199225dc53c18c_pre.png' from train/mask to train/pre.\n",
      "Moved 'bahria-town-2111_rf_9a3c5a175c56244f9f97eb345c2bf563_pre.png' from train/mask to train/pre.\n",
      "Moved 'bahria-town-2112_rf_d1808b5b6d55b4d2807b0b0ca86683fb_pre.png' from train/mask to train/pre.\n",
      "Moved 'bahria-town-2205_rf_18a01212ff60b5efdc1807e00043a423_pre.png' from train/mask to train/pre.\n",
      "Moved 'bahria-town-2206_rf_8a0ced35b4848e9155b61d5ee290431c_pre.png' from train/mask to train/pre.\n"
     ]
    }
   ],
   "source": [
    "import os\n",
    "import shutil\n",
    "\n",
    "def move_all_files(source_folder, destination_folder):\n",
    "    try:\n",
    "        # Ensure the destination folder exists, create it if necessary\n",
    "        if not os.path.exists(destination_folder):\n",
    "            os.makedirs(destination_folder)\n",
    "\n",
    "        # List all files in the source folder\n",
    "        files = os.listdir(source_folder)\n",
    "\n",
    "        if not files:\n",
    "            print(\"No files found in the source folder.\")\n",
    "            return\n",
    "\n",
    "        # Move each file to the destination folder\n",
    "        for file in files:\n",
    "            source_path = os.path.join(source_folder, file)\n",
    "            destination_path = os.path.join(destination_folder, file)\n",
    "            shutil.move(source_path, destination_path)\n",
    "            print(f\"Moved '{file}' from {source_folder} to {destination_folder}.\")\n",
    "\n",
    "    except FileNotFoundError:\n",
    "        print(f\"The source folder '{source_folder}' does not exist.\")\n",
    "    except Exception as e:\n",
    "        print(f\"An error occurred: {e}\")\n",
    "\n",
    "# Example usage\n",
    "source_folder = 'train/mask'\n",
    "destination_folder = 'train/pre'\n",
    "\n",
    "move_all_files(source_folder, destination_folder)\n"
   ]
  },
  {
   "cell_type": "markdown",
   "metadata": {},
   "source": [
    "# Finalization and Cleaning"
   ]
  },
  {
   "cell_type": "markdown",
   "metadata": {},
   "source": [
    "## Deleting unused data"
   ]
  },
  {
   "cell_type": "code",
   "execution_count": 68,
   "metadata": {},
   "outputs": [],
   "source": [
    "def delete_folder(folder_path):\n",
    "    try:\n",
    "        shutil.rmtree(folder_path)\n",
    "        print(f'Deleted folder: {folder_path}')\n",
    "    except Exception as e:\n",
    "        print(f'Error deleting folder: {e}')\n",
    "\n"
   ]
  },
  {
   "cell_type": "code",
   "execution_count": 69,
   "metadata": {},
   "outputs": [
    {
     "name": "stdout",
     "output_type": "stream",
     "text": [
      "Deleted folder: train/mask\n"
     ]
    }
   ],
   "source": [
    "# Example usage\n",
    "folder_to_delete = 'train/mask'\n",
    "delete_folder(folder_to_delete)"
   ]
  },
  {
   "cell_type": "code",
   "execution_count": 70,
   "metadata": {},
   "outputs": [],
   "source": [
    "def delete_files_with_extension(folder_path, extension):\n",
    "    try:\n",
    "        # Iterate through all files in the folder\n",
    "        for filename in os.listdir(folder_path):\n",
    "            file_path = os.path.join(folder_path, filename)\n",
    "\n",
    "            # Check if it is a file and has the specified extension\n",
    "            if os.path.isfile(file_path) and filename.endswith(extension):\n",
    "                os.remove(file_path)\n",
    "                print(f'Deleted: {file_path}')\n",
    "\n",
    "        print(f'Deleted all files with extension \"{extension}\" in {folder_path}')\n",
    "    except Exception as e:\n",
    "        print(f'Error deleting files: {e}')"
   ]
  },
  {
   "cell_type": "code",
   "execution_count": 71,
   "metadata": {},
   "outputs": [
    {
     "name": "stdout",
     "output_type": "stream",
     "text": [
      "Deleted: train\\bahria-town-1509_rf_d6fd8d7ebecec9a843b14b1a18c74254_mask.png\n",
      "Deleted: train\\bahria-town-1602_rf_fc43a7631bfb25c163c0814f09b52f10_mask.png\n",
      "Deleted: train\\bahria-town-1902_rf_875bb2eaee19e1307b757ce3cc413bf3_mask.png\n",
      "Deleted: train\\bahria-town-2107_rf_6a2f1bd77fd11b32a2a83b1b16f5c148_mask.png\n",
      "Deleted: train\\bahria-town-2108_rf_919ddaa319524f397d199225dc53c18c_mask.png\n",
      "Deleted: train\\bahria-town-2111_rf_9a3c5a175c56244f9f97eb345c2bf563_mask.png\n",
      "Deleted: train\\bahria-town-2112_rf_d1808b5b6d55b4d2807b0b0ca86683fb_mask.png\n",
      "Deleted: train\\bahria-town-2205_rf_18a01212ff60b5efdc1807e00043a423_mask.png\n",
      "Deleted: train\\bahria-town-2206_rf_8a0ced35b4848e9155b61d5ee290431c_mask.png\n",
      "Deleted all files with extension \".png\" in train\n"
     ]
    }
   ],
   "source": [
    "# Example usage\n",
    "folder_path = 'train'\n",
    "file_extension_to_delete = '.png'  # Replace with your desired file extension\n",
    "delete_files_with_extension(folder_path, file_extension_to_delete)"
   ]
  },
  {
   "cell_type": "code",
   "execution_count": null,
   "metadata": {},
   "outputs": [],
   "source": []
  },
  {
   "cell_type": "markdown",
   "metadata": {},
   "source": [
    "# Finalizing and Moving Data"
   ]
  },
  {
   "cell_type": "code",
   "execution_count": 72,
   "metadata": {},
   "outputs": [
    {
     "name": "stdout",
     "output_type": "stream",
     "text": [
      "Moved 'bahria-town-1509_rf_d6fd8d7ebecec9a843b14b1a18c74254_pre.jpg' from train/pre to train/images.\n",
      "Moved 'bahria-town-1602_rf_fc43a7631bfb25c163c0814f09b52f10_pre.jpg' from train/pre to train/images.\n",
      "Moved 'bahria-town-1902_rf_875bb2eaee19e1307b757ce3cc413bf3_pre.jpg' from train/pre to train/images.\n",
      "Moved 'bahria-town-2107_rf_6a2f1bd77fd11b32a2a83b1b16f5c148_pre.jpg' from train/pre to train/images.\n",
      "Moved 'bahria-town-2108_rf_919ddaa319524f397d199225dc53c18c_pre.jpg' from train/pre to train/images.\n",
      "Moved 'bahria-town-2111_rf_9a3c5a175c56244f9f97eb345c2bf563_pre.jpg' from train/pre to train/images.\n",
      "Moved 'bahria-town-2112_rf_d1808b5b6d55b4d2807b0b0ca86683fb_pre.jpg' from train/pre to train/images.\n",
      "Moved 'bahria-town-2205_rf_18a01212ff60b5efdc1807e00043a423_pre.jpg' from train/pre to train/images.\n",
      "Moved 'bahria-town-2206_rf_8a0ced35b4848e9155b61d5ee290431c_pre.jpg' from train/pre to train/images.\n"
     ]
    }
   ],
   "source": [
    "import os\n",
    "import shutil\n",
    "\n",
    "def move_all_png_files(source_folder, destination_folder):\n",
    "    try:\n",
    "        # Ensure the destination folder exists, create it if necessary\n",
    "        if not os.path.exists(destination_folder):\n",
    "            os.makedirs(destination_folder)\n",
    "\n",
    "        # List all files in the source folder\n",
    "        files = os.listdir(source_folder)\n",
    "\n",
    "        # Filter files to keep only the '.png' files\n",
    "        png_files = [f for f in files if f.lower().endswith('.jpg')]\n",
    "\n",
    "        if not png_files:\n",
    "            print(\"No '.png' files found in the source folder.\")\n",
    "            return\n",
    "\n",
    "        # Move each '.png' file to the destination folder\n",
    "        for png_file in png_files:\n",
    "            source_path = os.path.join(source_folder, png_file)\n",
    "            destination_path = os.path.join(destination_folder, png_file)\n",
    "            shutil.move(source_path, destination_path)\n",
    "            print(f\"Moved '{png_file}' from {source_folder} to {destination_folder}.\")\n",
    "\n",
    "    except FileNotFoundError:\n",
    "        print(f\"The source folder '{source_folder}' does not exist.\")\n",
    "    except Exception as e:\n",
    "        print(f\"An error occurred: {e}\")\n",
    "\n",
    "# Example usage\n",
    "source_folder = 'train/pre'\n",
    "destination_folder = 'train/images'\n",
    "\n",
    "move_all_png_files(source_folder, destination_folder)\n"
   ]
  },
  {
   "cell_type": "code",
   "execution_count": 73,
   "metadata": {},
   "outputs": [
    {
     "name": "stdout",
     "output_type": "stream",
     "text": [
      "Moved 'bahria-town-1509_rf_d6fd8d7ebecec9a843b14b1a18c74254_post.jpg' from train/post to train/images.\n",
      "Moved 'bahria-town-1602_rf_fc43a7631bfb25c163c0814f09b52f10_post.jpg' from train/post to train/images.\n",
      "Moved 'bahria-town-1902_rf_875bb2eaee19e1307b757ce3cc413bf3_post.jpg' from train/post to train/images.\n",
      "Moved 'bahria-town-2107_rf_6a2f1bd77fd11b32a2a83b1b16f5c148_post.jpg' from train/post to train/images.\n",
      "Moved 'bahria-town-2108_rf_919ddaa319524f397d199225dc53c18c_post.jpg' from train/post to train/images.\n",
      "Moved 'bahria-town-2111_rf_9a3c5a175c56244f9f97eb345c2bf563_post.jpg' from train/post to train/images.\n",
      "Moved 'bahria-town-2112_rf_d1808b5b6d55b4d2807b0b0ca86683fb_post.jpg' from train/post to train/images.\n",
      "Moved 'bahria-town-2205_rf_18a01212ff60b5efdc1807e00043a423_post.jpg' from train/post to train/images.\n",
      "Moved 'bahria-town-2206_rf_8a0ced35b4848e9155b61d5ee290431c_post.jpg' from train/post to train/images.\n"
     ]
    }
   ],
   "source": [
    "# Example usage\n",
    "source_folder = 'train/post'\n",
    "destination_folder = 'train/images'\n",
    "\n",
    "move_all_png_files(source_folder, destination_folder)"
   ]
  },
  {
   "cell_type": "code",
   "execution_count": 74,
   "metadata": {},
   "outputs": [
    {
     "name": "stdout",
     "output_type": "stream",
     "text": [
      "Moved 'bahria-town-1509_rf_d6fd8d7ebecec9a843b14b1a18c74254_pre.png' from train/pre to train/labels.\n",
      "Moved 'bahria-town-1602_rf_fc43a7631bfb25c163c0814f09b52f10_pre.png' from train/pre to train/labels.\n",
      "Moved 'bahria-town-1902_rf_875bb2eaee19e1307b757ce3cc413bf3_pre.png' from train/pre to train/labels.\n",
      "Moved 'bahria-town-2107_rf_6a2f1bd77fd11b32a2a83b1b16f5c148_pre.png' from train/pre to train/labels.\n",
      "Moved 'bahria-town-2108_rf_919ddaa319524f397d199225dc53c18c_pre.png' from train/pre to train/labels.\n",
      "Moved 'bahria-town-2111_rf_9a3c5a175c56244f9f97eb345c2bf563_pre.png' from train/pre to train/labels.\n",
      "Moved 'bahria-town-2112_rf_d1808b5b6d55b4d2807b0b0ca86683fb_pre.png' from train/pre to train/labels.\n",
      "Moved 'bahria-town-2205_rf_18a01212ff60b5efdc1807e00043a423_pre.png' from train/pre to train/labels.\n",
      "Moved 'bahria-town-2206_rf_8a0ced35b4848e9155b61d5ee290431c_pre.png' from train/pre to train/labels.\n"
     ]
    }
   ],
   "source": [
    "import os\n",
    "import shutil\n",
    "\n",
    "def move_all_png_files(source_folder, destination_folder):\n",
    "    try:\n",
    "        # Ensure the destination folder exists, create it if necessary\n",
    "        if not os.path.exists(destination_folder):\n",
    "            os.makedirs(destination_folder)\n",
    "\n",
    "        # List all files in the source folder\n",
    "        files = os.listdir(source_folder)\n",
    "\n",
    "        # Filter files to keep only the '.png' files\n",
    "        png_files = [f for f in files if f.lower().endswith('.png')]\n",
    "\n",
    "        if not png_files:\n",
    "            print(\"No '.png' files found in the source folder.\")\n",
    "            return\n",
    "\n",
    "        # Move each '.png' file to the destination folder\n",
    "        for png_file in png_files:\n",
    "            source_path = os.path.join(source_folder, png_file)\n",
    "            destination_path = os.path.join(destination_folder, png_file)\n",
    "            shutil.move(source_path, destination_path)\n",
    "            print(f\"Moved '{png_file}' from {source_folder} to {destination_folder}.\")\n",
    "\n",
    "    except FileNotFoundError:\n",
    "        print(f\"The source folder '{source_folder}' does not exist.\")\n",
    "    except Exception as e:\n",
    "        print(f\"An error occurred: {e}\")\n",
    "\n",
    "# Example usage\n",
    "source_folder = 'train/pre'\n",
    "destination_folder = 'train/labels'\n",
    "\n",
    "move_all_png_files(source_folder, destination_folder)\n"
   ]
  },
  {
   "cell_type": "code",
   "execution_count": 75,
   "metadata": {},
   "outputs": [
    {
     "name": "stdout",
     "output_type": "stream",
     "text": [
      "Moved 'bahria-town-1509_rf_d6fd8d7ebecec9a843b14b1a18c74254_post.png' from train/post to train/labels.\n",
      "Moved 'bahria-town-1602_rf_fc43a7631bfb25c163c0814f09b52f10_post.png' from train/post to train/labels.\n",
      "Moved 'bahria-town-1902_rf_875bb2eaee19e1307b757ce3cc413bf3_post.png' from train/post to train/labels.\n",
      "Moved 'bahria-town-2107_rf_6a2f1bd77fd11b32a2a83b1b16f5c148_post.png' from train/post to train/labels.\n",
      "Moved 'bahria-town-2108_rf_919ddaa319524f397d199225dc53c18c_post.png' from train/post to train/labels.\n",
      "Moved 'bahria-town-2111_rf_9a3c5a175c56244f9f97eb345c2bf563_post.png' from train/post to train/labels.\n",
      "Moved 'bahria-town-2112_rf_d1808b5b6d55b4d2807b0b0ca86683fb_post.png' from train/post to train/labels.\n",
      "Moved 'bahria-town-2205_rf_18a01212ff60b5efdc1807e00043a423_post.png' from train/post to train/labels.\n",
      "Moved 'bahria-town-2206_rf_8a0ced35b4848e9155b61d5ee290431c_post.png' from train/post to train/labels.\n"
     ]
    }
   ],
   "source": [
    "# Example usage\n",
    "source_folder = 'train/post'\n",
    "destination_folder = 'train/labels'\n",
    "\n",
    "move_all_png_files(source_folder, destination_folder)"
   ]
  },
  {
   "cell_type": "code",
   "execution_count": 76,
   "metadata": {},
   "outputs": [
    {
     "name": "stdout",
     "output_type": "stream",
     "text": [
      "Deleted folder: train/pre\n"
     ]
    }
   ],
   "source": [
    "# Example usage\n",
    "folder_to_delete = 'train/pre'\n",
    "delete_folder(folder_to_delete)"
   ]
  },
  {
   "cell_type": "code",
   "execution_count": 77,
   "metadata": {},
   "outputs": [
    {
     "name": "stdout",
     "output_type": "stream",
     "text": [
      "Deleted folder: train/post\n"
     ]
    }
   ],
   "source": [
    "# Example usage\n",
    "folder_to_delete = 'train/post'\n",
    "delete_folder(folder_to_delete)"
   ]
  },
  {
   "cell_type": "markdown",
   "metadata": {},
   "source": [
    "# Convert all JPG files to PNG in the images folder"
   ]
  },
  {
   "cell_type": "markdown",
   "metadata": {},
   "source": [
    "- JPG to PNG Convertion\n",
    "- JPG old files Deletion"
   ]
  },
  {
   "cell_type": "code",
   "execution_count": null,
   "metadata": {},
   "outputs": [],
   "source": [
    "from PIL import Image\n",
    "import os\n",
    "\n",
    "# Path to the folder containing JPG images\n",
    "folder_path = \"images\"\n",
    "\n",
    "# Get a list of all files in the folder\n",
    "file_list = os.listdir(folder_path)\n",
    "\n",
    "# Loop through each file in the folder\n",
    "for file_name in file_list:\n",
    "    if file_name.endswith(\".jpg\") or file_name.endswith(\".jpeg\"):\n",
    "        # Open the JPG image\n",
    "        image_path = os.path.join(folder_path, file_name)\n",
    "        img = Image.open(image_path)\n",
    "        \n",
    "        # Convert and save as PNG\n",
    "        new_file_name = os.path.splitext(file_name)[0] + \".png\"\n",
    "        png_path = os.path.join(folder_path, new_file_name)\n",
    "        img.save(png_path, \"PNG\")\n",
    "        \n",
    "        # Close the image\n",
    "        img.close()\n",
    "        \n",
    "        # Delete the original JPG file\n",
    "        os.remove(image_path)\n",
    "\n",
    "print(\"Conversion and deletion completed.\")\n"
   ]
  },
  {
   "cell_type": "code",
   "execution_count": 78,
   "metadata": {},
   "outputs": [
    {
     "name": "stdout",
     "output_type": "stream",
     "text": [
      "------------ All Done Thank You!!! ------------\n"
     ]
    }
   ],
   "source": [
    "print('-----------------------------------------------')\n",
    "print('------------ All Done Thank You!!! ------------')\n",
    "print('-----------------------------------------------')"
   ]
  },
  {
   "cell_type": "code",
   "execution_count": null,
   "metadata": {},
   "outputs": [],
   "source": []
  }
 ],
 "metadata": {
  "kernelspec": {
   "display_name": "Python 3 (ipykernel)",
   "language": "python",
   "name": "python3"
  },
  "language_info": {
   "codemirror_mode": {
    "name": "ipython",
    "version": 3
   },
   "file_extension": ".py",
   "mimetype": "text/x-python",
   "name": "python",
   "nbconvert_exporter": "python",
   "pygments_lexer": "ipython3",
   "version": "3.12.1"
  }
 },
 "nbformat": 4,
 "nbformat_minor": 4
}
